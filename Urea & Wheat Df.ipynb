{
 "cells": [
  {
   "cell_type": "code",
   "execution_count": 1,
   "id": "9d80d238",
   "metadata": {},
   "outputs": [],
   "source": [
    "# import libraries\n",
    "import html5lib\n",
    "import pandas as pd\n",
    "import investpy\n",
    "import datetime as dt\n",
    "import csv"
   ]
  },
  {
   "cell_type": "markdown",
   "id": "29405fbe",
   "metadata": {},
   "source": [
    "# Urea Price DataFrame "
   ]
  },
  {
   "cell_type": "code",
   "execution_count": 2,
   "id": "c164632c",
   "metadata": {},
   "outputs": [],
   "source": [
    "# import Urea dataframe\n",
    "Urea = pd.read_html(\"https://www.indexmundi.com/commodities/?commodity=urea&months=360\")[1]"
   ]
  },
  {
   "cell_type": "code",
   "execution_count": 3,
   "id": "6a5b09ee",
   "metadata": {},
   "outputs": [
    {
     "data": {
      "text/plain": [
       "Month      object\n",
       "Price     float64\n",
       "Change     object\n",
       "dtype: object"
      ]
     },
     "execution_count": 3,
     "metadata": {},
     "output_type": "execute_result"
    }
   ],
   "source": [
    "Urea.dtypes"
   ]
  },
  {
   "cell_type": "code",
   "execution_count": 5,
   "id": "bcb7dd9f",
   "metadata": {},
   "outputs": [],
   "source": [
    "# rename columns \n",
    "Urea.rename(columns = {'Month':'Date','Price':'Urea'},inplace=True)"
   ]
  },
  {
   "cell_type": "code",
   "execution_count": 6,
   "id": "d2b15248",
   "metadata": {},
   "outputs": [],
   "source": [
    "# drop columns\n",
    "Urea.drop(columns='Change',inplace=True)"
   ]
  },
  {
   "cell_type": "code",
   "execution_count": 7,
   "id": "d1d6710a",
   "metadata": {},
   "outputs": [
    {
     "data": {
      "text/html": [
       "<div>\n",
       "<style scoped>\n",
       "    .dataframe tbody tr th:only-of-type {\n",
       "        vertical-align: middle;\n",
       "    }\n",
       "\n",
       "    .dataframe tbody tr th {\n",
       "        vertical-align: top;\n",
       "    }\n",
       "\n",
       "    .dataframe thead th {\n",
       "        text-align: right;\n",
       "    }\n",
       "</style>\n",
       "<table border=\"1\" class=\"dataframe\">\n",
       "  <thead>\n",
       "    <tr style=\"text-align: right;\">\n",
       "      <th></th>\n",
       "      <th>Date</th>\n",
       "      <th>Urea</th>\n",
       "    </tr>\n",
       "  </thead>\n",
       "  <tbody>\n",
       "    <tr>\n",
       "      <th>0</th>\n",
       "      <td>Jul 1992</td>\n",
       "      <td>120.00</td>\n",
       "    </tr>\n",
       "    <tr>\n",
       "      <th>1</th>\n",
       "      <td>Aug 1992</td>\n",
       "      <td>120.00</td>\n",
       "    </tr>\n",
       "    <tr>\n",
       "      <th>2</th>\n",
       "      <td>Sep 1992</td>\n",
       "      <td>120.00</td>\n",
       "    </tr>\n",
       "    <tr>\n",
       "      <th>3</th>\n",
       "      <td>Oct 1992</td>\n",
       "      <td>116.88</td>\n",
       "    </tr>\n",
       "    <tr>\n",
       "      <th>4</th>\n",
       "      <td>Nov 1992</td>\n",
       "      <td>107.50</td>\n",
       "    </tr>\n",
       "  </tbody>\n",
       "</table>\n",
       "</div>"
      ],
      "text/plain": [
       "       Date    Urea\n",
       "0  Jul 1992  120.00\n",
       "1  Aug 1992  120.00\n",
       "2  Sep 1992  120.00\n",
       "3  Oct 1992  116.88\n",
       "4  Nov 1992  107.50"
      ]
     },
     "execution_count": 7,
     "metadata": {},
     "output_type": "execute_result"
    }
   ],
   "source": [
    "Urea.head()"
   ]
  },
  {
   "cell_type": "code",
   "execution_count": 8,
   "id": "73d1a7e4",
   "metadata": {},
   "outputs": [],
   "source": [
    "# Create two columns to datafram month and year\n",
    "Urea_month = []\n",
    "Urea_year = []\n",
    "for i, r in Urea.iterrows():\n",
    "    Urea_month.append(r[\"Date\"].split()[0])\n",
    "    Urea_year.append(r[\"Date\"].split()[1])\n"
   ]
  },
  {
   "cell_type": "code",
   "execution_count": 9,
   "id": "cbe8309c",
   "metadata": {},
   "outputs": [],
   "source": [
    "# add a new column \"month_name\"\n",
    "Urea[\"month_name\"] = Urea_month"
   ]
  },
  {
   "cell_type": "code",
   "execution_count": 11,
   "id": "d8df9acc",
   "metadata": {},
   "outputs": [
    {
     "data": {
      "text/html": [
       "<div>\n",
       "<style scoped>\n",
       "    .dataframe tbody tr th:only-of-type {\n",
       "        vertical-align: middle;\n",
       "    }\n",
       "\n",
       "    .dataframe tbody tr th {\n",
       "        vertical-align: top;\n",
       "    }\n",
       "\n",
       "    .dataframe thead th {\n",
       "        text-align: right;\n",
       "    }\n",
       "</style>\n",
       "<table border=\"1\" class=\"dataframe\">\n",
       "  <thead>\n",
       "    <tr style=\"text-align: right;\">\n",
       "      <th></th>\n",
       "      <th>Date</th>\n",
       "      <th>Urea</th>\n",
       "      <th>month_name</th>\n",
       "    </tr>\n",
       "  </thead>\n",
       "  <tbody>\n",
       "    <tr>\n",
       "      <th>0</th>\n",
       "      <td>Jul 1992</td>\n",
       "      <td>120.00</td>\n",
       "      <td>Jul</td>\n",
       "    </tr>\n",
       "    <tr>\n",
       "      <th>1</th>\n",
       "      <td>Aug 1992</td>\n",
       "      <td>120.00</td>\n",
       "      <td>Aug</td>\n",
       "    </tr>\n",
       "    <tr>\n",
       "      <th>2</th>\n",
       "      <td>Sep 1992</td>\n",
       "      <td>120.00</td>\n",
       "      <td>Sep</td>\n",
       "    </tr>\n",
       "    <tr>\n",
       "      <th>3</th>\n",
       "      <td>Oct 1992</td>\n",
       "      <td>116.88</td>\n",
       "      <td>Oct</td>\n",
       "    </tr>\n",
       "    <tr>\n",
       "      <th>4</th>\n",
       "      <td>Nov 1992</td>\n",
       "      <td>107.50</td>\n",
       "      <td>Nov</td>\n",
       "    </tr>\n",
       "  </tbody>\n",
       "</table>\n",
       "</div>"
      ],
      "text/plain": [
       "       Date    Urea month_name\n",
       "0  Jul 1992  120.00        Jul\n",
       "1  Aug 1992  120.00        Aug\n",
       "2  Sep 1992  120.00        Sep\n",
       "3  Oct 1992  116.88        Oct\n",
       "4  Nov 1992  107.50        Nov"
      ]
     },
     "execution_count": 11,
     "metadata": {},
     "output_type": "execute_result"
    }
   ],
   "source": [
    "Urea.head()"
   ]
  },
  {
   "cell_type": "code",
   "execution_count": 12,
   "id": "67245704",
   "metadata": {},
   "outputs": [],
   "source": [
    "# add a new column \"year\"\n",
    "Urea[\"year\"] = Urea_year"
   ]
  },
  {
   "cell_type": "code",
   "execution_count": 13,
   "id": "78fec020",
   "metadata": {},
   "outputs": [
    {
     "data": {
      "text/html": [
       "<div>\n",
       "<style scoped>\n",
       "    .dataframe tbody tr th:only-of-type {\n",
       "        vertical-align: middle;\n",
       "    }\n",
       "\n",
       "    .dataframe tbody tr th {\n",
       "        vertical-align: top;\n",
       "    }\n",
       "\n",
       "    .dataframe thead th {\n",
       "        text-align: right;\n",
       "    }\n",
       "</style>\n",
       "<table border=\"1\" class=\"dataframe\">\n",
       "  <thead>\n",
       "    <tr style=\"text-align: right;\">\n",
       "      <th></th>\n",
       "      <th>Date</th>\n",
       "      <th>Urea</th>\n",
       "      <th>month_name</th>\n",
       "      <th>year</th>\n",
       "    </tr>\n",
       "  </thead>\n",
       "  <tbody>\n",
       "    <tr>\n",
       "      <th>0</th>\n",
       "      <td>Jul 1992</td>\n",
       "      <td>120.00</td>\n",
       "      <td>Jul</td>\n",
       "      <td>1992</td>\n",
       "    </tr>\n",
       "    <tr>\n",
       "      <th>1</th>\n",
       "      <td>Aug 1992</td>\n",
       "      <td>120.00</td>\n",
       "      <td>Aug</td>\n",
       "      <td>1992</td>\n",
       "    </tr>\n",
       "    <tr>\n",
       "      <th>2</th>\n",
       "      <td>Sep 1992</td>\n",
       "      <td>120.00</td>\n",
       "      <td>Sep</td>\n",
       "      <td>1992</td>\n",
       "    </tr>\n",
       "    <tr>\n",
       "      <th>3</th>\n",
       "      <td>Oct 1992</td>\n",
       "      <td>116.88</td>\n",
       "      <td>Oct</td>\n",
       "      <td>1992</td>\n",
       "    </tr>\n",
       "    <tr>\n",
       "      <th>4</th>\n",
       "      <td>Nov 1992</td>\n",
       "      <td>107.50</td>\n",
       "      <td>Nov</td>\n",
       "      <td>1992</td>\n",
       "    </tr>\n",
       "  </tbody>\n",
       "</table>\n",
       "</div>"
      ],
      "text/plain": [
       "       Date    Urea month_name  year\n",
       "0  Jul 1992  120.00        Jul  1992\n",
       "1  Aug 1992  120.00        Aug  1992\n",
       "2  Sep 1992  120.00        Sep  1992\n",
       "3  Oct 1992  116.88        Oct  1992\n",
       "4  Nov 1992  107.50        Nov  1992"
      ]
     },
     "execution_count": 13,
     "metadata": {},
     "output_type": "execute_result"
    }
   ],
   "source": [
    "Urea.head()"
   ]
  },
  {
   "cell_type": "code",
   "execution_count": 14,
   "id": "96216cdf",
   "metadata": {},
   "outputs": [
    {
     "data": {
      "text/plain": [
       "0     1992-07-01\n",
       "1     1992-08-01\n",
       "2     1992-09-01\n",
       "3     1992-10-01\n",
       "4     1992-11-01\n",
       "         ...    \n",
       "355   2022-02-01\n",
       "356   2022-03-01\n",
       "357   2022-04-01\n",
       "358   2022-05-01\n",
       "359   2022-06-01\n",
       "Name: Date, Length: 360, dtype: datetime64[ns]"
      ]
     },
     "execution_count": 14,
     "metadata": {},
     "output_type": "execute_result"
    }
   ],
   "source": [
    "# convert date to datetime\n",
    "pd.to_datetime(Urea[\"Date\"])"
   ]
  },
  {
   "cell_type": "code",
   "execution_count": 15,
   "id": "297bffe2",
   "metadata": {},
   "outputs": [],
   "source": [
    "dates = pd.to_datetime(Urea[\"Date\"])"
   ]
  },
  {
   "cell_type": "code",
   "execution_count": 16,
   "id": "0d7b958d",
   "metadata": {},
   "outputs": [
    {
     "data": {
      "text/plain": [
       "0           July\n",
       "1         August\n",
       "2      September\n",
       "3        October\n",
       "4       November\n",
       "         ...    \n",
       "355     February\n",
       "356        March\n",
       "357        April\n",
       "358          May\n",
       "359         June\n",
       "Name: Date, Length: 360, dtype: object"
      ]
     },
     "execution_count": 16,
     "metadata": {},
     "output_type": "execute_result"
    }
   ],
   "source": [
    "dates.dt.month_name()"
   ]
  },
  {
   "cell_type": "code",
   "execution_count": 17,
   "id": "bdfcdf4b",
   "metadata": {},
   "outputs": [],
   "source": [
    "# add a new columns \"month_name2\"\n",
    "Urea[\"month_name2\"] = dates.dt.month_name()"
   ]
  },
  {
   "cell_type": "code",
   "execution_count": 18,
   "id": "dc6bf3af",
   "metadata": {},
   "outputs": [
    {
     "data": {
      "text/html": [
       "<div>\n",
       "<style scoped>\n",
       "    .dataframe tbody tr th:only-of-type {\n",
       "        vertical-align: middle;\n",
       "    }\n",
       "\n",
       "    .dataframe tbody tr th {\n",
       "        vertical-align: top;\n",
       "    }\n",
       "\n",
       "    .dataframe thead th {\n",
       "        text-align: right;\n",
       "    }\n",
       "</style>\n",
       "<table border=\"1\" class=\"dataframe\">\n",
       "  <thead>\n",
       "    <tr style=\"text-align: right;\">\n",
       "      <th></th>\n",
       "      <th>Date</th>\n",
       "      <th>Urea</th>\n",
       "      <th>month_name</th>\n",
       "      <th>year</th>\n",
       "      <th>month_name2</th>\n",
       "    </tr>\n",
       "  </thead>\n",
       "  <tbody>\n",
       "    <tr>\n",
       "      <th>0</th>\n",
       "      <td>Jul 1992</td>\n",
       "      <td>120.00</td>\n",
       "      <td>Jul</td>\n",
       "      <td>1992</td>\n",
       "      <td>July</td>\n",
       "    </tr>\n",
       "    <tr>\n",
       "      <th>1</th>\n",
       "      <td>Aug 1992</td>\n",
       "      <td>120.00</td>\n",
       "      <td>Aug</td>\n",
       "      <td>1992</td>\n",
       "      <td>August</td>\n",
       "    </tr>\n",
       "    <tr>\n",
       "      <th>2</th>\n",
       "      <td>Sep 1992</td>\n",
       "      <td>120.00</td>\n",
       "      <td>Sep</td>\n",
       "      <td>1992</td>\n",
       "      <td>September</td>\n",
       "    </tr>\n",
       "    <tr>\n",
       "      <th>3</th>\n",
       "      <td>Oct 1992</td>\n",
       "      <td>116.88</td>\n",
       "      <td>Oct</td>\n",
       "      <td>1992</td>\n",
       "      <td>October</td>\n",
       "    </tr>\n",
       "    <tr>\n",
       "      <th>4</th>\n",
       "      <td>Nov 1992</td>\n",
       "      <td>107.50</td>\n",
       "      <td>Nov</td>\n",
       "      <td>1992</td>\n",
       "      <td>November</td>\n",
       "    </tr>\n",
       "  </tbody>\n",
       "</table>\n",
       "</div>"
      ],
      "text/plain": [
       "       Date    Urea month_name  year month_name2\n",
       "0  Jul 1992  120.00        Jul  1992        July\n",
       "1  Aug 1992  120.00        Aug  1992      August\n",
       "2  Sep 1992  120.00        Sep  1992   September\n",
       "3  Oct 1992  116.88        Oct  1992     October\n",
       "4  Nov 1992  107.50        Nov  1992    November"
      ]
     },
     "execution_count": 18,
     "metadata": {},
     "output_type": "execute_result"
    }
   ],
   "source": [
    "Urea.head()"
   ]
  },
  {
   "cell_type": "code",
   "execution_count": 20,
   "id": "c35416e2",
   "metadata": {},
   "outputs": [],
   "source": [
    "# set index to \"Date\"\n",
    "Urea.set_index('Date',inplace=True)"
   ]
  },
  {
   "cell_type": "code",
   "execution_count": 21,
   "id": "5113acf0",
   "metadata": {},
   "outputs": [
    {
     "data": {
      "text/html": [
       "<div>\n",
       "<style scoped>\n",
       "    .dataframe tbody tr th:only-of-type {\n",
       "        vertical-align: middle;\n",
       "    }\n",
       "\n",
       "    .dataframe tbody tr th {\n",
       "        vertical-align: top;\n",
       "    }\n",
       "\n",
       "    .dataframe thead th {\n",
       "        text-align: right;\n",
       "    }\n",
       "</style>\n",
       "<table border=\"1\" class=\"dataframe\">\n",
       "  <thead>\n",
       "    <tr style=\"text-align: right;\">\n",
       "      <th></th>\n",
       "      <th>Urea</th>\n",
       "      <th>month_name</th>\n",
       "      <th>year</th>\n",
       "      <th>month_name2</th>\n",
       "    </tr>\n",
       "    <tr>\n",
       "      <th>Date</th>\n",
       "      <th></th>\n",
       "      <th></th>\n",
       "      <th></th>\n",
       "      <th></th>\n",
       "    </tr>\n",
       "  </thead>\n",
       "  <tbody>\n",
       "    <tr>\n",
       "      <th>Jul 1992</th>\n",
       "      <td>120.00</td>\n",
       "      <td>Jul</td>\n",
       "      <td>1992</td>\n",
       "      <td>July</td>\n",
       "    </tr>\n",
       "    <tr>\n",
       "      <th>Aug 1992</th>\n",
       "      <td>120.00</td>\n",
       "      <td>Aug</td>\n",
       "      <td>1992</td>\n",
       "      <td>August</td>\n",
       "    </tr>\n",
       "    <tr>\n",
       "      <th>Sep 1992</th>\n",
       "      <td>120.00</td>\n",
       "      <td>Sep</td>\n",
       "      <td>1992</td>\n",
       "      <td>September</td>\n",
       "    </tr>\n",
       "    <tr>\n",
       "      <th>Oct 1992</th>\n",
       "      <td>116.88</td>\n",
       "      <td>Oct</td>\n",
       "      <td>1992</td>\n",
       "      <td>October</td>\n",
       "    </tr>\n",
       "    <tr>\n",
       "      <th>Nov 1992</th>\n",
       "      <td>107.50</td>\n",
       "      <td>Nov</td>\n",
       "      <td>1992</td>\n",
       "      <td>November</td>\n",
       "    </tr>\n",
       "    <tr>\n",
       "      <th>...</th>\n",
       "      <td>...</td>\n",
       "      <td>...</td>\n",
       "      <td>...</td>\n",
       "      <td>...</td>\n",
       "    </tr>\n",
       "    <tr>\n",
       "      <th>Feb 2022</th>\n",
       "      <td>744.17</td>\n",
       "      <td>Feb</td>\n",
       "      <td>2022</td>\n",
       "      <td>February</td>\n",
       "    </tr>\n",
       "    <tr>\n",
       "      <th>Mar 2022</th>\n",
       "      <td>872.50</td>\n",
       "      <td>Mar</td>\n",
       "      <td>2022</td>\n",
       "      <td>March</td>\n",
       "    </tr>\n",
       "    <tr>\n",
       "      <th>Apr 2022</th>\n",
       "      <td>925.00</td>\n",
       "      <td>Apr</td>\n",
       "      <td>2022</td>\n",
       "      <td>April</td>\n",
       "    </tr>\n",
       "    <tr>\n",
       "      <th>May 2022</th>\n",
       "      <td>707.50</td>\n",
       "      <td>May</td>\n",
       "      <td>2022</td>\n",
       "      <td>May</td>\n",
       "    </tr>\n",
       "    <tr>\n",
       "      <th>Jun 2022</th>\n",
       "      <td>690.00</td>\n",
       "      <td>Jun</td>\n",
       "      <td>2022</td>\n",
       "      <td>June</td>\n",
       "    </tr>\n",
       "  </tbody>\n",
       "</table>\n",
       "<p>360 rows × 4 columns</p>\n",
       "</div>"
      ],
      "text/plain": [
       "            Urea month_name  year month_name2\n",
       "Date                                         \n",
       "Jul 1992  120.00        Jul  1992        July\n",
       "Aug 1992  120.00        Aug  1992      August\n",
       "Sep 1992  120.00        Sep  1992   September\n",
       "Oct 1992  116.88        Oct  1992     October\n",
       "Nov 1992  107.50        Nov  1992    November\n",
       "...          ...        ...   ...         ...\n",
       "Feb 2022  744.17        Feb  2022    February\n",
       "Mar 2022  872.50        Mar  2022       March\n",
       "Apr 2022  925.00        Apr  2022       April\n",
       "May 2022  707.50        May  2022         May\n",
       "Jun 2022  690.00        Jun  2022        June\n",
       "\n",
       "[360 rows x 4 columns]"
      ]
     },
     "execution_count": 21,
     "metadata": {},
     "output_type": "execute_result"
    }
   ],
   "source": [
    "# new dataframe\n",
    "Urea"
   ]
  },
  {
   "cell_type": "code",
   "execution_count": 22,
   "id": "28ee3711",
   "metadata": {},
   "outputs": [
    {
     "data": {
      "text/plain": [
       "Urea           float64\n",
       "month_name      object\n",
       "year            object\n",
       "month_name2     object\n",
       "dtype: object"
      ]
     },
     "execution_count": 22,
     "metadata": {},
     "output_type": "execute_result"
    }
   ],
   "source": [
    "Urea.dtypes"
   ]
  },
  {
   "cell_type": "code",
   "execution_count": 23,
   "id": "9ecd487e",
   "metadata": {},
   "outputs": [
    {
     "data": {
      "text/html": [
       "<div>\n",
       "<style scoped>\n",
       "    .dataframe tbody tr th:only-of-type {\n",
       "        vertical-align: middle;\n",
       "    }\n",
       "\n",
       "    .dataframe tbody tr th {\n",
       "        vertical-align: top;\n",
       "    }\n",
       "\n",
       "    .dataframe thead th {\n",
       "        text-align: right;\n",
       "    }\n",
       "</style>\n",
       "<table border=\"1\" class=\"dataframe\">\n",
       "  <thead>\n",
       "    <tr style=\"text-align: right;\">\n",
       "      <th></th>\n",
       "      <th>Urea</th>\n",
       "      <th>month_name</th>\n",
       "      <th>year</th>\n",
       "      <th>month_name2</th>\n",
       "    </tr>\n",
       "    <tr>\n",
       "      <th>Date</th>\n",
       "      <th></th>\n",
       "      <th></th>\n",
       "      <th></th>\n",
       "      <th></th>\n",
       "    </tr>\n",
       "  </thead>\n",
       "  <tbody>\n",
       "    <tr>\n",
       "      <th>Feb 2012</th>\n",
       "      <td>375.00</td>\n",
       "      <td>Feb</td>\n",
       "      <td>2012</td>\n",
       "      <td>February</td>\n",
       "    </tr>\n",
       "    <tr>\n",
       "      <th>Mar 2012</th>\n",
       "      <td>393.13</td>\n",
       "      <td>Mar</td>\n",
       "      <td>2012</td>\n",
       "      <td>March</td>\n",
       "    </tr>\n",
       "    <tr>\n",
       "      <th>Apr 2012</th>\n",
       "      <td>494.38</td>\n",
       "      <td>Apr</td>\n",
       "      <td>2012</td>\n",
       "      <td>April</td>\n",
       "    </tr>\n",
       "    <tr>\n",
       "      <th>May 2012</th>\n",
       "      <td>513.13</td>\n",
       "      <td>May</td>\n",
       "      <td>2012</td>\n",
       "      <td>May</td>\n",
       "    </tr>\n",
       "    <tr>\n",
       "      <th>Jun 2012</th>\n",
       "      <td>456.88</td>\n",
       "      <td>Jun</td>\n",
       "      <td>2012</td>\n",
       "      <td>June</td>\n",
       "    </tr>\n",
       "    <tr>\n",
       "      <th>...</th>\n",
       "      <td>...</td>\n",
       "      <td>...</td>\n",
       "      <td>...</td>\n",
       "      <td>...</td>\n",
       "    </tr>\n",
       "    <tr>\n",
       "      <th>Feb 2022</th>\n",
       "      <td>744.17</td>\n",
       "      <td>Feb</td>\n",
       "      <td>2022</td>\n",
       "      <td>February</td>\n",
       "    </tr>\n",
       "    <tr>\n",
       "      <th>Mar 2022</th>\n",
       "      <td>872.50</td>\n",
       "      <td>Mar</td>\n",
       "      <td>2022</td>\n",
       "      <td>March</td>\n",
       "    </tr>\n",
       "    <tr>\n",
       "      <th>Apr 2022</th>\n",
       "      <td>925.00</td>\n",
       "      <td>Apr</td>\n",
       "      <td>2022</td>\n",
       "      <td>April</td>\n",
       "    </tr>\n",
       "    <tr>\n",
       "      <th>May 2022</th>\n",
       "      <td>707.50</td>\n",
       "      <td>May</td>\n",
       "      <td>2022</td>\n",
       "      <td>May</td>\n",
       "    </tr>\n",
       "    <tr>\n",
       "      <th>Jun 2022</th>\n",
       "      <td>690.00</td>\n",
       "      <td>Jun</td>\n",
       "      <td>2022</td>\n",
       "      <td>June</td>\n",
       "    </tr>\n",
       "  </tbody>\n",
       "</table>\n",
       "<p>125 rows × 4 columns</p>\n",
       "</div>"
      ],
      "text/plain": [
       "            Urea month_name  year month_name2\n",
       "Date                                         \n",
       "Feb 2012  375.00        Feb  2012    February\n",
       "Mar 2012  393.13        Mar  2012       March\n",
       "Apr 2012  494.38        Apr  2012       April\n",
       "May 2012  513.13        May  2012         May\n",
       "Jun 2012  456.88        Jun  2012        June\n",
       "...          ...        ...   ...         ...\n",
       "Feb 2022  744.17        Feb  2022    February\n",
       "Mar 2022  872.50        Mar  2022       March\n",
       "Apr 2022  925.00        Apr  2022       April\n",
       "May 2022  707.50        May  2022         May\n",
       "Jun 2022  690.00        Jun  2022        June\n",
       "\n",
       "[125 rows x 4 columns]"
      ]
     },
     "execution_count": 23,
     "metadata": {},
     "output_type": "execute_result"
    }
   ],
   "source": [
    "# 10 years interval of data\n",
    "Urea['Feb 2012':'Jun 2022']"
   ]
  },
  {
   "cell_type": "code",
   "execution_count": null,
   "id": "b0ee74a3",
   "metadata": {},
   "outputs": [],
   "source": [
    "Urea.to_csv(\"Urea_Update.csv\")"
   ]
  },
  {
   "cell_type": "markdown",
   "id": "9231d027",
   "metadata": {},
   "source": [
    "# Wheat Price DataFrame"
   ]
  },
  {
   "cell_type": "code",
   "execution_count": 24,
   "id": "c02f58a4",
   "metadata": {},
   "outputs": [],
   "source": [
    "# import dataframe\n",
    "US_wheat_df = investpy.get_commodity_historical_data(commodity='US Wheat', from_date='01/01/2012', to_date='01/01/2022')"
   ]
  },
  {
   "cell_type": "code",
   "execution_count": 25,
   "id": "a18c29f2",
   "metadata": {},
   "outputs": [
    {
     "data": {
      "text/plain": [
       "Open        float64\n",
       "High        float64\n",
       "Low         float64\n",
       "Close       float64\n",
       "Volume        int64\n",
       "Currency     object\n",
       "dtype: object"
      ]
     },
     "execution_count": 25,
     "metadata": {},
     "output_type": "execute_result"
    }
   ],
   "source": [
    "# check data types\n",
    "US_wheat_df.dtypes"
   ]
  },
  {
   "cell_type": "code",
   "execution_count": 27,
   "id": "b53dbc09",
   "metadata": {},
   "outputs": [],
   "source": [
    "#reset index \n",
    "US_wheat_df.reset_index(inplace=True)"
   ]
  },
  {
   "cell_type": "code",
   "execution_count": 38,
   "id": "1321bdd7",
   "metadata": {},
   "outputs": [],
   "source": [
    "# drop columns\n",
    "US_wheat_df.drop(['Open','High','Low','Volume'],axis=1,inplace=True)\n",
    "                   "
   ]
  },
  {
   "cell_type": "code",
   "execution_count": 36,
   "id": "2f3deda3",
   "metadata": {},
   "outputs": [],
   "source": [
    "# rename columns\n",
    "US_wheat_df.rename(columns = {'Close':'Wheat'},inplace=True)"
   ]
  },
  {
   "cell_type": "code",
   "execution_count": 41,
   "id": "74faa90f",
   "metadata": {},
   "outputs": [],
   "source": [
    "US_wheat_df = US_wheat_df.drop('Currency',axis=1)"
   ]
  },
  {
   "cell_type": "code",
   "execution_count": 42,
   "id": "6549cf0f",
   "metadata": {},
   "outputs": [
    {
     "data": {
      "text/html": [
       "<div>\n",
       "<style scoped>\n",
       "    .dataframe tbody tr th:only-of-type {\n",
       "        vertical-align: middle;\n",
       "    }\n",
       "\n",
       "    .dataframe tbody tr th {\n",
       "        vertical-align: top;\n",
       "    }\n",
       "\n",
       "    .dataframe thead th {\n",
       "        text-align: right;\n",
       "    }\n",
       "</style>\n",
       "<table border=\"1\" class=\"dataframe\">\n",
       "  <thead>\n",
       "    <tr style=\"text-align: right;\">\n",
       "      <th></th>\n",
       "      <th>Date</th>\n",
       "      <th>Wheat</th>\n",
       "    </tr>\n",
       "  </thead>\n",
       "  <tbody>\n",
       "    <tr>\n",
       "      <th>0</th>\n",
       "      <td>2012-01-02</td>\n",
       "      <td>653.13</td>\n",
       "    </tr>\n",
       "    <tr>\n",
       "      <th>1</th>\n",
       "      <td>2012-01-03</td>\n",
       "      <td>658.38</td>\n",
       "    </tr>\n",
       "    <tr>\n",
       "      <th>2</th>\n",
       "      <td>2012-01-04</td>\n",
       "      <td>650.13</td>\n",
       "    </tr>\n",
       "    <tr>\n",
       "      <th>3</th>\n",
       "      <td>2012-01-05</td>\n",
       "      <td>627.38</td>\n",
       "    </tr>\n",
       "    <tr>\n",
       "      <th>4</th>\n",
       "      <td>2012-01-06</td>\n",
       "      <td>624.63</td>\n",
       "    </tr>\n",
       "    <tr>\n",
       "      <th>...</th>\n",
       "      <td>...</td>\n",
       "      <td>...</td>\n",
       "    </tr>\n",
       "    <tr>\n",
       "      <th>2607</th>\n",
       "      <td>2021-12-27</td>\n",
       "      <td>804.00</td>\n",
       "    </tr>\n",
       "    <tr>\n",
       "      <th>2608</th>\n",
       "      <td>2021-12-28</td>\n",
       "      <td>783.50</td>\n",
       "    </tr>\n",
       "    <tr>\n",
       "      <th>2609</th>\n",
       "      <td>2021-12-29</td>\n",
       "      <td>787.75</td>\n",
       "    </tr>\n",
       "    <tr>\n",
       "      <th>2610</th>\n",
       "      <td>2021-12-30</td>\n",
       "      <td>779.75</td>\n",
       "    </tr>\n",
       "    <tr>\n",
       "      <th>2611</th>\n",
       "      <td>2021-12-31</td>\n",
       "      <td>770.75</td>\n",
       "    </tr>\n",
       "  </tbody>\n",
       "</table>\n",
       "<p>2612 rows × 2 columns</p>\n",
       "</div>"
      ],
      "text/plain": [
       "           Date   Wheat\n",
       "0    2012-01-02  653.13\n",
       "1    2012-01-03  658.38\n",
       "2    2012-01-04  650.13\n",
       "3    2012-01-05  627.38\n",
       "4    2012-01-06  624.63\n",
       "...         ...     ...\n",
       "2607 2021-12-27  804.00\n",
       "2608 2021-12-28  783.50\n",
       "2609 2021-12-29  787.75\n",
       "2610 2021-12-30  779.75\n",
       "2611 2021-12-31  770.75\n",
       "\n",
       "[2612 rows x 2 columns]"
      ]
     },
     "execution_count": 42,
     "metadata": {},
     "output_type": "execute_result"
    }
   ],
   "source": [
    "US_wheat_df"
   ]
  },
  {
   "cell_type": "code",
   "execution_count": 44,
   "id": "4a7754c4",
   "metadata": {},
   "outputs": [
    {
     "data": {
      "text/plain": [
       "Int64Index([ 1,  1,  1,  1,  1,  1,  1,  1,  1,  1,\n",
       "            ...\n",
       "            12, 12, 12, 12, 12, 12, 12, 12, 12, 12],\n",
       "           dtype='int64', name='Date', length=2612)"
      ]
     },
     "execution_count": 44,
     "metadata": {},
     "output_type": "execute_result"
    }
   ],
   "source": [
    "pd.DatetimeIndex(US_wheat_df[\"Date\"]).month"
   ]
  },
  {
   "cell_type": "code",
   "execution_count": 45,
   "id": "c6e74fb3",
   "metadata": {},
   "outputs": [],
   "source": [
    "US_wheat_df[\"month\"] = pd.DatetimeIndex(US_wheat_df[\"Date\"]).month"
   ]
  },
  {
   "cell_type": "code",
   "execution_count": 47,
   "id": "f91b31ff",
   "metadata": {},
   "outputs": [
    {
     "data": {
      "text/html": [
       "<div>\n",
       "<style scoped>\n",
       "    .dataframe tbody tr th:only-of-type {\n",
       "        vertical-align: middle;\n",
       "    }\n",
       "\n",
       "    .dataframe tbody tr th {\n",
       "        vertical-align: top;\n",
       "    }\n",
       "\n",
       "    .dataframe thead th {\n",
       "        text-align: right;\n",
       "    }\n",
       "</style>\n",
       "<table border=\"1\" class=\"dataframe\">\n",
       "  <thead>\n",
       "    <tr style=\"text-align: right;\">\n",
       "      <th></th>\n",
       "      <th>Date</th>\n",
       "      <th>Wheat</th>\n",
       "      <th>month</th>\n",
       "    </tr>\n",
       "  </thead>\n",
       "  <tbody>\n",
       "    <tr>\n",
       "      <th>0</th>\n",
       "      <td>2012-01-02</td>\n",
       "      <td>653.13</td>\n",
       "      <td>1</td>\n",
       "    </tr>\n",
       "    <tr>\n",
       "      <th>1</th>\n",
       "      <td>2012-01-03</td>\n",
       "      <td>658.38</td>\n",
       "      <td>1</td>\n",
       "    </tr>\n",
       "    <tr>\n",
       "      <th>2</th>\n",
       "      <td>2012-01-04</td>\n",
       "      <td>650.13</td>\n",
       "      <td>1</td>\n",
       "    </tr>\n",
       "    <tr>\n",
       "      <th>3</th>\n",
       "      <td>2012-01-05</td>\n",
       "      <td>627.38</td>\n",
       "      <td>1</td>\n",
       "    </tr>\n",
       "    <tr>\n",
       "      <th>4</th>\n",
       "      <td>2012-01-06</td>\n",
       "      <td>624.63</td>\n",
       "      <td>1</td>\n",
       "    </tr>\n",
       "    <tr>\n",
       "      <th>...</th>\n",
       "      <td>...</td>\n",
       "      <td>...</td>\n",
       "      <td>...</td>\n",
       "    </tr>\n",
       "    <tr>\n",
       "      <th>2607</th>\n",
       "      <td>2021-12-27</td>\n",
       "      <td>804.00</td>\n",
       "      <td>12</td>\n",
       "    </tr>\n",
       "    <tr>\n",
       "      <th>2608</th>\n",
       "      <td>2021-12-28</td>\n",
       "      <td>783.50</td>\n",
       "      <td>12</td>\n",
       "    </tr>\n",
       "    <tr>\n",
       "      <th>2609</th>\n",
       "      <td>2021-12-29</td>\n",
       "      <td>787.75</td>\n",
       "      <td>12</td>\n",
       "    </tr>\n",
       "    <tr>\n",
       "      <th>2610</th>\n",
       "      <td>2021-12-30</td>\n",
       "      <td>779.75</td>\n",
       "      <td>12</td>\n",
       "    </tr>\n",
       "    <tr>\n",
       "      <th>2611</th>\n",
       "      <td>2021-12-31</td>\n",
       "      <td>770.75</td>\n",
       "      <td>12</td>\n",
       "    </tr>\n",
       "  </tbody>\n",
       "</table>\n",
       "<p>2612 rows × 3 columns</p>\n",
       "</div>"
      ],
      "text/plain": [
       "           Date   Wheat  month\n",
       "0    2012-01-02  653.13      1\n",
       "1    2012-01-03  658.38      1\n",
       "2    2012-01-04  650.13      1\n",
       "3    2012-01-05  627.38      1\n",
       "4    2012-01-06  624.63      1\n",
       "...         ...     ...    ...\n",
       "2607 2021-12-27  804.00     12\n",
       "2608 2021-12-28  783.50     12\n",
       "2609 2021-12-29  787.75     12\n",
       "2610 2021-12-30  779.75     12\n",
       "2611 2021-12-31  770.75     12\n",
       "\n",
       "[2612 rows x 3 columns]"
      ]
     },
     "execution_count": 47,
     "metadata": {},
     "output_type": "execute_result"
    }
   ],
   "source": [
    "# addd a month columns to dataframe\n",
    "US_wheat_df"
   ]
  },
  {
   "cell_type": "code",
   "execution_count": 49,
   "id": "0fb86d61",
   "metadata": {},
   "outputs": [
    {
     "data": {
      "text/plain": [
       "Int64Index([2012, 2012, 2012, 2012, 2012, 2012, 2012, 2012, 2012, 2012,\n",
       "            ...\n",
       "            2021, 2021, 2021, 2021, 2021, 2021, 2021, 2021, 2021, 2021],\n",
       "           dtype='int64', name='Date', length=2612)"
      ]
     },
     "execution_count": 49,
     "metadata": {},
     "output_type": "execute_result"
    }
   ],
   "source": [
    "pd.DatetimeIndex(US_wheat_df[\"Date\"]).year"
   ]
  },
  {
   "cell_type": "code",
   "execution_count": 52,
   "id": "39db01fa",
   "metadata": {},
   "outputs": [],
   "source": [
    "# add a year columns to dataframe\n",
    "US_wheat_df[\"year\"] = pd.DatetimeIndex(US_wheat_df[\"Date\"]).year"
   ]
  },
  {
   "cell_type": "code",
   "execution_count": 53,
   "id": "0af53727",
   "metadata": {},
   "outputs": [
    {
     "data": {
      "text/html": [
       "<div>\n",
       "<style scoped>\n",
       "    .dataframe tbody tr th:only-of-type {\n",
       "        vertical-align: middle;\n",
       "    }\n",
       "\n",
       "    .dataframe tbody tr th {\n",
       "        vertical-align: top;\n",
       "    }\n",
       "\n",
       "    .dataframe thead th {\n",
       "        text-align: right;\n",
       "    }\n",
       "</style>\n",
       "<table border=\"1\" class=\"dataframe\">\n",
       "  <thead>\n",
       "    <tr style=\"text-align: right;\">\n",
       "      <th></th>\n",
       "      <th>Date</th>\n",
       "      <th>Wheat</th>\n",
       "      <th>month</th>\n",
       "      <th>year</th>\n",
       "    </tr>\n",
       "  </thead>\n",
       "  <tbody>\n",
       "    <tr>\n",
       "      <th>0</th>\n",
       "      <td>2012-01-02</td>\n",
       "      <td>653.13</td>\n",
       "      <td>1</td>\n",
       "      <td>2012</td>\n",
       "    </tr>\n",
       "    <tr>\n",
       "      <th>1</th>\n",
       "      <td>2012-01-03</td>\n",
       "      <td>658.38</td>\n",
       "      <td>1</td>\n",
       "      <td>2012</td>\n",
       "    </tr>\n",
       "    <tr>\n",
       "      <th>2</th>\n",
       "      <td>2012-01-04</td>\n",
       "      <td>650.13</td>\n",
       "      <td>1</td>\n",
       "      <td>2012</td>\n",
       "    </tr>\n",
       "    <tr>\n",
       "      <th>3</th>\n",
       "      <td>2012-01-05</td>\n",
       "      <td>627.38</td>\n",
       "      <td>1</td>\n",
       "      <td>2012</td>\n",
       "    </tr>\n",
       "    <tr>\n",
       "      <th>4</th>\n",
       "      <td>2012-01-06</td>\n",
       "      <td>624.63</td>\n",
       "      <td>1</td>\n",
       "      <td>2012</td>\n",
       "    </tr>\n",
       "    <tr>\n",
       "      <th>...</th>\n",
       "      <td>...</td>\n",
       "      <td>...</td>\n",
       "      <td>...</td>\n",
       "      <td>...</td>\n",
       "    </tr>\n",
       "    <tr>\n",
       "      <th>2607</th>\n",
       "      <td>2021-12-27</td>\n",
       "      <td>804.00</td>\n",
       "      <td>12</td>\n",
       "      <td>2021</td>\n",
       "    </tr>\n",
       "    <tr>\n",
       "      <th>2608</th>\n",
       "      <td>2021-12-28</td>\n",
       "      <td>783.50</td>\n",
       "      <td>12</td>\n",
       "      <td>2021</td>\n",
       "    </tr>\n",
       "    <tr>\n",
       "      <th>2609</th>\n",
       "      <td>2021-12-29</td>\n",
       "      <td>787.75</td>\n",
       "      <td>12</td>\n",
       "      <td>2021</td>\n",
       "    </tr>\n",
       "    <tr>\n",
       "      <th>2610</th>\n",
       "      <td>2021-12-30</td>\n",
       "      <td>779.75</td>\n",
       "      <td>12</td>\n",
       "      <td>2021</td>\n",
       "    </tr>\n",
       "    <tr>\n",
       "      <th>2611</th>\n",
       "      <td>2021-12-31</td>\n",
       "      <td>770.75</td>\n",
       "      <td>12</td>\n",
       "      <td>2021</td>\n",
       "    </tr>\n",
       "  </tbody>\n",
       "</table>\n",
       "<p>2612 rows × 4 columns</p>\n",
       "</div>"
      ],
      "text/plain": [
       "           Date   Wheat  month  year\n",
       "0    2012-01-02  653.13      1  2012\n",
       "1    2012-01-03  658.38      1  2012\n",
       "2    2012-01-04  650.13      1  2012\n",
       "3    2012-01-05  627.38      1  2012\n",
       "4    2012-01-06  624.63      1  2012\n",
       "...         ...     ...    ...   ...\n",
       "2607 2021-12-27  804.00     12  2021\n",
       "2608 2021-12-28  783.50     12  2021\n",
       "2609 2021-12-29  787.75     12  2021\n",
       "2610 2021-12-30  779.75     12  2021\n",
       "2611 2021-12-31  770.75     12  2021\n",
       "\n",
       "[2612 rows x 4 columns]"
      ]
     },
     "execution_count": 53,
     "metadata": {},
     "output_type": "execute_result"
    }
   ],
   "source": [
    "US_wheat_df"
   ]
  },
  {
   "cell_type": "code",
   "execution_count": 54,
   "id": "c2c32c39",
   "metadata": {},
   "outputs": [
    {
     "data": {
      "text/plain": [
       "Index(['January', 'January', 'January', 'January', 'January', 'January',\n",
       "       'January', 'January', 'January', 'January',\n",
       "       ...\n",
       "       'December', 'December', 'December', 'December', 'December', 'December',\n",
       "       'December', 'December', 'December', 'December'],\n",
       "      dtype='object', name='Date', length=2612)"
      ]
     },
     "execution_count": 54,
     "metadata": {},
     "output_type": "execute_result"
    }
   ],
   "source": [
    "pd.DatetimeIndex(US_wheat_df[\"Date\"]).month_name()"
   ]
  },
  {
   "cell_type": "code",
   "execution_count": 55,
   "id": "25f0aafd",
   "metadata": {},
   "outputs": [],
   "source": [
    "US_wheat_df[\"month_name\"] = pd.DatetimeIndex(US_wheat_df[\"Date\"]).month_name()"
   ]
  },
  {
   "cell_type": "code",
   "execution_count": 56,
   "id": "68e23926",
   "metadata": {},
   "outputs": [
    {
     "data": {
      "text/html": [
       "<div>\n",
       "<style scoped>\n",
       "    .dataframe tbody tr th:only-of-type {\n",
       "        vertical-align: middle;\n",
       "    }\n",
       "\n",
       "    .dataframe tbody tr th {\n",
       "        vertical-align: top;\n",
       "    }\n",
       "\n",
       "    .dataframe thead th {\n",
       "        text-align: right;\n",
       "    }\n",
       "</style>\n",
       "<table border=\"1\" class=\"dataframe\">\n",
       "  <thead>\n",
       "    <tr style=\"text-align: right;\">\n",
       "      <th></th>\n",
       "      <th>Date</th>\n",
       "      <th>Wheat</th>\n",
       "      <th>month</th>\n",
       "      <th>year</th>\n",
       "      <th>month_name</th>\n",
       "    </tr>\n",
       "  </thead>\n",
       "  <tbody>\n",
       "    <tr>\n",
       "      <th>0</th>\n",
       "      <td>2012-01-02</td>\n",
       "      <td>653.13</td>\n",
       "      <td>1</td>\n",
       "      <td>2012</td>\n",
       "      <td>January</td>\n",
       "    </tr>\n",
       "    <tr>\n",
       "      <th>1</th>\n",
       "      <td>2012-01-03</td>\n",
       "      <td>658.38</td>\n",
       "      <td>1</td>\n",
       "      <td>2012</td>\n",
       "      <td>January</td>\n",
       "    </tr>\n",
       "    <tr>\n",
       "      <th>2</th>\n",
       "      <td>2012-01-04</td>\n",
       "      <td>650.13</td>\n",
       "      <td>1</td>\n",
       "      <td>2012</td>\n",
       "      <td>January</td>\n",
       "    </tr>\n",
       "    <tr>\n",
       "      <th>3</th>\n",
       "      <td>2012-01-05</td>\n",
       "      <td>627.38</td>\n",
       "      <td>1</td>\n",
       "      <td>2012</td>\n",
       "      <td>January</td>\n",
       "    </tr>\n",
       "    <tr>\n",
       "      <th>4</th>\n",
       "      <td>2012-01-06</td>\n",
       "      <td>624.63</td>\n",
       "      <td>1</td>\n",
       "      <td>2012</td>\n",
       "      <td>January</td>\n",
       "    </tr>\n",
       "    <tr>\n",
       "      <th>...</th>\n",
       "      <td>...</td>\n",
       "      <td>...</td>\n",
       "      <td>...</td>\n",
       "      <td>...</td>\n",
       "      <td>...</td>\n",
       "    </tr>\n",
       "    <tr>\n",
       "      <th>2607</th>\n",
       "      <td>2021-12-27</td>\n",
       "      <td>804.00</td>\n",
       "      <td>12</td>\n",
       "      <td>2021</td>\n",
       "      <td>December</td>\n",
       "    </tr>\n",
       "    <tr>\n",
       "      <th>2608</th>\n",
       "      <td>2021-12-28</td>\n",
       "      <td>783.50</td>\n",
       "      <td>12</td>\n",
       "      <td>2021</td>\n",
       "      <td>December</td>\n",
       "    </tr>\n",
       "    <tr>\n",
       "      <th>2609</th>\n",
       "      <td>2021-12-29</td>\n",
       "      <td>787.75</td>\n",
       "      <td>12</td>\n",
       "      <td>2021</td>\n",
       "      <td>December</td>\n",
       "    </tr>\n",
       "    <tr>\n",
       "      <th>2610</th>\n",
       "      <td>2021-12-30</td>\n",
       "      <td>779.75</td>\n",
       "      <td>12</td>\n",
       "      <td>2021</td>\n",
       "      <td>December</td>\n",
       "    </tr>\n",
       "    <tr>\n",
       "      <th>2611</th>\n",
       "      <td>2021-12-31</td>\n",
       "      <td>770.75</td>\n",
       "      <td>12</td>\n",
       "      <td>2021</td>\n",
       "      <td>December</td>\n",
       "    </tr>\n",
       "  </tbody>\n",
       "</table>\n",
       "<p>2612 rows × 5 columns</p>\n",
       "</div>"
      ],
      "text/plain": [
       "           Date   Wheat  month  year month_name\n",
       "0    2012-01-02  653.13      1  2012    January\n",
       "1    2012-01-03  658.38      1  2012    January\n",
       "2    2012-01-04  650.13      1  2012    January\n",
       "3    2012-01-05  627.38      1  2012    January\n",
       "4    2012-01-06  624.63      1  2012    January\n",
       "...         ...     ...    ...   ...        ...\n",
       "2607 2021-12-27  804.00     12  2021   December\n",
       "2608 2021-12-28  783.50     12  2021   December\n",
       "2609 2021-12-29  787.75     12  2021   December\n",
       "2610 2021-12-30  779.75     12  2021   December\n",
       "2611 2021-12-31  770.75     12  2021   December\n",
       "\n",
       "[2612 rows x 5 columns]"
      ]
     },
     "execution_count": 56,
     "metadata": {},
     "output_type": "execute_result"
    }
   ],
   "source": [
    "US_wheat_df"
   ]
  },
  {
   "cell_type": "code",
   "execution_count": 60,
   "id": "27c434f8",
   "metadata": {},
   "outputs": [
    {
     "data": {
      "text/plain": [
       "<pandas.core.resample.DatetimeIndexResampler object at 0x0000020908979CA0>"
      ]
     },
     "execution_count": 60,
     "metadata": {},
     "output_type": "execute_result"
    }
   ],
   "source": [
    "US_wheat_df.set_index('Date').resample('M')"
   ]
  },
  {
   "cell_type": "code",
   "execution_count": 61,
   "id": "9985b895",
   "metadata": {},
   "outputs": [],
   "source": [
    "US_wheat_df.to_csv(\"US_wheat_df-Update.csv\")"
   ]
  }
 ],
 "metadata": {
  "kernelspec": {
   "display_name": "Python 3 (ipykernel)",
   "language": "python",
   "name": "python3"
  },
  "language_info": {
   "codemirror_mode": {
    "name": "ipython",
    "version": 3
   },
   "file_extension": ".py",
   "mimetype": "text/x-python",
   "name": "python",
   "nbconvert_exporter": "python",
   "pygments_lexer": "ipython3",
   "version": "3.9.12"
  }
 },
 "nbformat": 4,
 "nbformat_minor": 5
}
