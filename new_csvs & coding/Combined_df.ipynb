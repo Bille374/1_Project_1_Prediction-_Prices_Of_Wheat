{
 "cells": [
  {
   "cell_type": "code",
   "execution_count": 31,
   "id": "41d0a30a",
   "metadata": {},
   "outputs": [],
   "source": [
    "# Imports\n",
    "import investpy\n",
    "import pandas as pd\n",
    "import seaborn as sns\n",
    "%matplotlib inline\n",
    "import matplotlib.pyplot as plt\n",
    "import datetime \n",
    "import hvplot.pandas\n"
   ]
  },
  {
   "cell_type": "markdown",
   "id": "fac7cbd6",
   "metadata": {},
   "source": [
    "# Import Wheat Data"
   ]
  },
  {
   "cell_type": "code",
   "execution_count": 32,
   "id": "2b44a7a0",
   "metadata": {},
   "outputs": [],
   "source": [
    "# Get historical wheat price data from investpy\n",
    "wheat_df = pd.read_csv(\"..\\\\Downloads\\\\wheat_df-Update.csv\",parse_dates=True,infer_datetime_format=True,index_col='Date')\n",
    "                    \n",
    "                      "
   ]
  },
  {
   "cell_type": "markdown",
   "id": "4a8bac3a",
   "metadata": {},
   "source": [
    "# Import Copper Data"
   ]
  },
  {
   "cell_type": "code",
   "execution_count": 33,
   "id": "bf3c6620",
   "metadata": {},
   "outputs": [],
   "source": [
    "# Get historical copper price data from investpy\n",
    "copper_df =pd.read_csv(\"..\\\\Downloads\\\\copper_df-Update.csv\",parse_dates=True,infer_datetime_format=True,index_col='Date')"
   ]
  },
  {
   "cell_type": "markdown",
   "id": "be4291a9",
   "metadata": {},
   "source": [
    "# Import Dollar_index Data"
   ]
  },
  {
   "cell_type": "code",
   "execution_count": 34,
   "id": "9e0419aa",
   "metadata": {},
   "outputs": [],
   "source": [
    "# Get historical Dollar Index data from investpy\n",
    "dollar_df = pd.read_csv(\"..\\\\Downloads\\\\dollar_df-Update.csv\",parse_dates=True,infer_datetime_format=True,index_col='Date')"
   ]
  },
  {
   "cell_type": "markdown",
   "id": "a4d7e097",
   "metadata": {},
   "source": [
    "# Import drought dataset"
   ]
  },
  {
   "cell_type": "code",
   "execution_count": 35,
   "id": "168f3347",
   "metadata": {},
   "outputs": [],
   "source": [
    "#drought dataset\n",
    "drought_df = pd.read_csv(\"..\\\\Downloads\\\\drought_df-Update.csv\",parse_dates=True,infer_datetime_format=True,index_col='Date')\n",
    "drought_df.drop(['Unnamed: 0.1','Unnamed: 0'],axis=1,inplace=True)"
   ]
  },
  {
   "cell_type": "markdown",
   "id": "7d1ac17a",
   "metadata": {},
   "source": [
    "# Import Urea dataset"
   ]
  },
  {
   "cell_type": "code",
   "execution_count": 36,
   "id": "9ebdbce5",
   "metadata": {},
   "outputs": [],
   "source": [
    "# Urea dataset\n",
    "Urea_df = pd.read_csv(\"..\\\\Downloads\\\\Urea_df-Update.csv\",parse_dates=True,infer_datetime_format=True,index_col='Date')"
   ]
  },
  {
   "cell_type": "code",
   "execution_count": 37,
   "id": "52d5ea06",
   "metadata": {},
   "outputs": [],
   "source": [
    "# Combine data frames\n",
    "combined_df = pd.concat([dollar_df,copper_df,Urea_df,drought_df,wheat_df],axis=1,join='inner')"
   ]
  },
  {
   "cell_type": "code",
   "execution_count": 38,
   "id": "9c3da6e1",
   "metadata": {},
   "outputs": [
    {
     "data": {
      "text/html": [
       "<div>\n",
       "<style scoped>\n",
       "    .dataframe tbody tr th:only-of-type {\n",
       "        vertical-align: middle;\n",
       "    }\n",
       "\n",
       "    .dataframe tbody tr th {\n",
       "        vertical-align: top;\n",
       "    }\n",
       "\n",
       "    .dataframe thead th {\n",
       "        text-align: right;\n",
       "    }\n",
       "</style>\n",
       "<table border=\"1\" class=\"dataframe\">\n",
       "  <thead>\n",
       "    <tr style=\"text-align: right;\">\n",
       "      <th></th>\n",
       "      <th>Dollar</th>\n",
       "      <th>Copper</th>\n",
       "      <th>Urea</th>\n",
       "      <th>Drought</th>\n",
       "      <th>wheat</th>\n",
       "    </tr>\n",
       "  </thead>\n",
       "  <tbody>\n",
       "    <tr>\n",
       "      <th>Dollar</th>\n",
       "      <td>1.000000</td>\n",
       "      <td>-0.524551</td>\n",
       "      <td>-0.312546</td>\n",
       "      <td>0.482855</td>\n",
       "      <td>-0.680653</td>\n",
       "    </tr>\n",
       "    <tr>\n",
       "      <th>Copper</th>\n",
       "      <td>-0.524551</td>\n",
       "      <td>1.000000</td>\n",
       "      <td>0.719500</td>\n",
       "      <td>-0.647951</td>\n",
       "      <td>0.705907</td>\n",
       "    </tr>\n",
       "    <tr>\n",
       "      <th>Urea</th>\n",
       "      <td>-0.312546</td>\n",
       "      <td>0.719500</td>\n",
       "      <td>1.000000</td>\n",
       "      <td>-0.463255</td>\n",
       "      <td>0.680342</td>\n",
       "    </tr>\n",
       "    <tr>\n",
       "      <th>Drought</th>\n",
       "      <td>0.482855</td>\n",
       "      <td>-0.647951</td>\n",
       "      <td>-0.463255</td>\n",
       "      <td>1.000000</td>\n",
       "      <td>-0.621489</td>\n",
       "    </tr>\n",
       "    <tr>\n",
       "      <th>wheat</th>\n",
       "      <td>-0.680653</td>\n",
       "      <td>0.705907</td>\n",
       "      <td>0.680342</td>\n",
       "      <td>-0.621489</td>\n",
       "      <td>1.000000</td>\n",
       "    </tr>\n",
       "  </tbody>\n",
       "</table>\n",
       "</div>"
      ],
      "text/plain": [
       "           Dollar    Copper      Urea   Drought     wheat\n",
       "Dollar   1.000000 -0.524551 -0.312546  0.482855 -0.680653\n",
       "Copper  -0.524551  1.000000  0.719500 -0.647951  0.705907\n",
       "Urea    -0.312546  0.719500  1.000000 -0.463255  0.680342\n",
       "Drought  0.482855 -0.647951 -0.463255  1.000000 -0.621489\n",
       "wheat   -0.680653  0.705907  0.680342 -0.621489  1.000000"
      ]
     },
     "execution_count": 38,
     "metadata": {},
     "output_type": "execute_result"
    }
   ],
   "source": [
    "# Create correlation matrix\n",
    "correlations_df = combined_df.corr()\n",
    "correlations_df"
   ]
  },
  {
   "cell_type": "code",
   "execution_count": 39,
   "id": "4934ead2",
   "metadata": {},
   "outputs": [
    {
     "data": {
      "image/png": "[encoded data removed]",
      "text/plain": [
       "<Figure size 432x288 with 2 Axes>"
      ]
     },
     "metadata": {
      "needs_background": "light"
     },
     "output_type": "display_data"
    }
   ],
   "source": [
    "# Show correlation matrix\n",
    "sns.heatmap(correlations_df,cmap='viridis',annot=True,vmin=-1,vmax=1);"
   ]
  },
  {
   "cell_type": "markdown",
   "id": "a86941e6",
   "metadata": {},
   "source": [
    "# Import Wheat Data"
   ]
  },
  {
   "cell_type": "code",
   "execution_count": 40,
   "id": "71c6b56b",
   "metadata": {},
   "outputs": [],
   "source": [
    "# Get historical wheat price data from investpy\n",
    "wheat_df = pd.read_csv(\"..\\\\Downloads\\\\wheat_df-Update.csv\",parse_dates=True,infer_datetime_format=True,\n",
    "                       index_col='Date')"
   ]
  },
  {
   "cell_type": "markdown",
   "id": "25351efe",
   "metadata": {},
   "source": [
    "# Import Crude Data"
   ]
  },
  {
   "cell_type": "code",
   "execution_count": 41,
   "id": "99be3fca",
   "metadata": {},
   "outputs": [],
   "source": [
    "# Get historical crude oil price data from investpy\n",
    "crude_df = pd.read_csv(\"..\\\\Downloads\\\\crude_df-Update.csv\",parse_dates=True,infer_datetime_format=True,\n",
    "                       index_col='Date')\n",
    "   "
   ]
  },
  {
   "cell_type": "markdown",
   "id": "c43f1e35",
   "metadata": {},
   "source": [
    "# Import Carbon futures data"
   ]
  },
  {
   "cell_type": "code",
   "execution_count": 42,
   "id": "39327b5c",
   "metadata": {},
   "outputs": [],
   "source": [
    "# Get historical Carbon futures price data from investpy\n",
    "Carbon_df = pd.read_csv(\"..\\\\Downloads\\\\Carbon_df-Update.csv\",parse_dates=True,infer_datetime_format=True,\n",
    "                       index_col='Date')"
   ]
  },
  {
   "cell_type": "code",
   "execution_count": 43,
   "id": "5817040d",
   "metadata": {},
   "outputs": [],
   "source": [
    "# Combine data frames\n",
    "combined_df_ = pd.concat([crude_df,Carbon_df,wheat_df],axis=1,join='inner')"
   ]
  },
  {
   "cell_type": "code",
   "execution_count": 44,
   "id": "2c8e0f24",
   "metadata": {},
   "outputs": [
    {
     "data": {
      "text/html": [
       "<div>\n",
       "<style scoped>\n",
       "    .dataframe tbody tr th:only-of-type {\n",
       "        vertical-align: middle;\n",
       "    }\n",
       "\n",
       "    .dataframe tbody tr th {\n",
       "        vertical-align: top;\n",
       "    }\n",
       "\n",
       "    .dataframe thead th {\n",
       "        text-align: right;\n",
       "    }\n",
       "</style>\n",
       "<table border=\"1\" class=\"dataframe\">\n",
       "  <thead>\n",
       "    <tr style=\"text-align: right;\">\n",
       "      <th></th>\n",
       "      <th>Crude</th>\n",
       "      <th>carbon futures</th>\n",
       "      <th>wheat</th>\n",
       "    </tr>\n",
       "  </thead>\n",
       "  <tbody>\n",
       "    <tr>\n",
       "      <th>Crude</th>\n",
       "      <td>1.000000</td>\n",
       "      <td>-0.149471</td>\n",
       "      <td>0.630284</td>\n",
       "    </tr>\n",
       "    <tr>\n",
       "      <th>carbon futures</th>\n",
       "      <td>-0.149471</td>\n",
       "      <td>1.000000</td>\n",
       "      <td>0.260287</td>\n",
       "    </tr>\n",
       "    <tr>\n",
       "      <th>wheat</th>\n",
       "      <td>0.630284</td>\n",
       "      <td>0.260287</td>\n",
       "      <td>1.000000</td>\n",
       "    </tr>\n",
       "  </tbody>\n",
       "</table>\n",
       "</div>"
      ],
      "text/plain": [
       "                   Crude  carbon futures     wheat\n",
       "Crude           1.000000       -0.149471  0.630284\n",
       "carbon futures -0.149471        1.000000  0.260287\n",
       "wheat           0.630284        0.260287  1.000000"
      ]
     },
     "execution_count": 44,
     "metadata": {},
     "output_type": "execute_result"
    }
   ],
   "source": [
    "# Create correlation matrix\n",
    "correlations_df = combined_df_.corr()\n",
    "correlations_df"
   ]
  },
  {
   "cell_type": "code",
   "execution_count": 45,
   "id": "e95709d6",
   "metadata": {},
   "outputs": [
    {
     "data": {
      "image/png": "[encoded data removed]",
      "text/plain": [
       "<Figure size 432x288 with 2 Axes>"
      ]
     },
     "metadata": {
      "needs_background": "light"
     },
     "output_type": "display_data"
    }
   ],
   "source": [
    "# Show correlation matrix\n",
    "sns.heatmap(correlations_df,cmap='viridis',annot=True,vmin=-1,vmax=1);"
   ]
  }
 ],
 "metadata": {
  "kernelspec": {
   "display_name": "Python 3 (ipykernel)",
   "language": "python",
   "name": "python3"
  },
  "language_info": {
   "codemirror_mode": {
    "name": "ipython",
    "version": 3
   },
   "file_extension": ".py",
   "mimetype": "text/x-python",
   "name": "python",
   "nbconvert_exporter": "python",
   "pygments_lexer": "ipython3",
   "version": "3.9.12"
  }
 },
 "nbformat": 4,
 "nbformat_minor": 5
}
