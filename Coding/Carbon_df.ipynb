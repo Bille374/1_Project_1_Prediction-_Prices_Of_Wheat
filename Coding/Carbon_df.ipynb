{
 "cells": [
  {
   "cell_type": "code",
   "execution_count": 23,
   "id": "a5734de4",
   "metadata": {},
   "outputs": [],
   "source": [
    "import pandas as pd\n",
    "import datetime as dt"
   ]
  },
  {
   "cell_type": "code",
   "execution_count": 9,
   "id": "96b2176d",
   "metadata": {},
   "outputs": [],
   "source": [
    "Carbon_df = pd.read_csv(\"..\\\\Downloads\\\\Carbon Emissions Futures Historical Data.csv\",parse_dates=True,infer_datetime_format=True)"
   ]
  },
  {
   "cell_type": "code",
   "execution_count": 20,
   "id": "e82c788d",
   "metadata": {},
   "outputs": [],
   "source": [
    "Carbon_df = Carbon_df.rename(columns={'Price':'carbon futures'})"
   ]
  },
  {
   "cell_type": "code",
   "execution_count": 24,
   "id": "3e6e6721",
   "metadata": {},
   "outputs": [],
   "source": [
    "Carbon_df['Date'] = pd.to_datetime(Carbon_df.Date)\n",
    "Carbon_df['Date'] = Carbon_df['Date'].dt.strftime('%Y-%m-%d')"
   ]
  },
  {
   "cell_type": "code",
   "execution_count": 28,
   "id": "fc7d13f2",
   "metadata": {},
   "outputs": [],
   "source": [
    "Carbon_df = Carbon_df.set_index('Date')[::-1]"
   ]
  },
  {
   "cell_type": "code",
   "execution_count": 29,
   "id": "5fe88c11",
   "metadata": {},
   "outputs": [
    {
     "data": {
      "text/html": [
       "<div>\n",
       "<style scoped>\n",
       "    .dataframe tbody tr th:only-of-type {\n",
       "        vertical-align: middle;\n",
       "    }\n",
       "\n",
       "    .dataframe tbody tr th {\n",
       "        vertical-align: top;\n",
       "    }\n",
       "\n",
       "    .dataframe thead th {\n",
       "        text-align: right;\n",
       "    }\n",
       "</style>\n",
       "<table border=\"1\" class=\"dataframe\">\n",
       "  <thead>\n",
       "    <tr style=\"text-align: right;\">\n",
       "      <th></th>\n",
       "      <th>carbon futures</th>\n",
       "    </tr>\n",
       "    <tr>\n",
       "      <th>Date</th>\n",
       "      <th></th>\n",
       "    </tr>\n",
       "  </thead>\n",
       "  <tbody>\n",
       "    <tr>\n",
       "      <th>2012-01-02</th>\n",
       "      <td>7.14</td>\n",
       "    </tr>\n",
       "    <tr>\n",
       "      <th>2012-01-03</th>\n",
       "      <td>6.28</td>\n",
       "    </tr>\n",
       "    <tr>\n",
       "      <th>2012-01-04</th>\n",
       "      <td>6.27</td>\n",
       "    </tr>\n",
       "    <tr>\n",
       "      <th>2012-01-05</th>\n",
       "      <td>6.43</td>\n",
       "    </tr>\n",
       "    <tr>\n",
       "      <th>2012-01-06</th>\n",
       "      <td>6.30</td>\n",
       "    </tr>\n",
       "    <tr>\n",
       "      <th>...</th>\n",
       "      <td>...</td>\n",
       "    </tr>\n",
       "    <tr>\n",
       "      <th>2022-07-27</th>\n",
       "      <td>76.27</td>\n",
       "    </tr>\n",
       "    <tr>\n",
       "      <th>2022-07-28</th>\n",
       "      <td>78.70</td>\n",
       "    </tr>\n",
       "    <tr>\n",
       "      <th>2022-07-29</th>\n",
       "      <td>78.67</td>\n",
       "    </tr>\n",
       "    <tr>\n",
       "      <th>2022-08-01</th>\n",
       "      <td>80.63</td>\n",
       "    </tr>\n",
       "    <tr>\n",
       "      <th>2022-08-02</th>\n",
       "      <td>81.98</td>\n",
       "    </tr>\n",
       "  </tbody>\n",
       "</table>\n",
       "<p>2738 rows × 1 columns</p>\n",
       "</div>"
      ],
      "text/plain": [
       "            carbon futures\n",
       "Date                      \n",
       "2012-01-02            7.14\n",
       "2012-01-03            6.28\n",
       "2012-01-04            6.27\n",
       "2012-01-05            6.43\n",
       "2012-01-06            6.30\n",
       "...                    ...\n",
       "2022-07-27           76.27\n",
       "2022-07-28           78.70\n",
       "2022-07-29           78.67\n",
       "2022-08-01           80.63\n",
       "2022-08-02           81.98\n",
       "\n",
       "[2738 rows x 1 columns]"
      ]
     },
     "execution_count": 29,
     "metadata": {},
     "output_type": "execute_result"
    }
   ],
   "source": [
    "Carbon_df "
   ]
  },
  {
   "cell_type": "code",
   "execution_count": 30,
   "id": "c064a82d",
   "metadata": {},
   "outputs": [],
   "source": [
    "Carbon_df.to_csv(\"Carbon_df-Update.csv\")"
   ]
  }
 ],
 "metadata": {
  "kernelspec": {
   "display_name": "Python 3 (ipykernel)",
   "language": "python",
   "name": "python3"
  },
  "language_info": {
   "codemirror_mode": {
    "name": "ipython",
    "version": 3
   },
   "file_extension": ".py",
   "mimetype": "text/x-python",
   "name": "python",
   "nbconvert_exporter": "python",
   "pygments_lexer": "ipython3",
   "version": "3.9.12"
  }
 },
 "nbformat": 4,
 "nbformat_minor": 5
}
