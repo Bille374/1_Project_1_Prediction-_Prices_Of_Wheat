{
 "cells": [
  {
   "cell_type": "code",
   "execution_count": 178,
   "id": "002ee00b",
   "metadata": {},
   "outputs": [],
   "source": [
    "# Imports\n",
    "import investpy\n",
    "import pandas as pd\n",
    "import numpy as np\n",
    "import yfinance as yf\n",
    "\n",
    "import seaborn as sns\n",
    "%matplotlib inline\n",
    "import matplotlib.pyplot as plt"
   ]
  },
  {
   "cell_type": "markdown",
   "id": "8671014e",
   "metadata": {},
   "source": [
    "# Import Wheat Data"
   ]
  },
  {
   "cell_type": "code",
   "execution_count": 179,
   "id": "85a236b5",
   "metadata": {},
   "outputs": [
    {
     "data": {
      "text/html": [
       "<div>\n",
       "<style scoped>\n",
       "    .dataframe tbody tr th:only-of-type {\n",
       "        vertical-align: middle;\n",
       "    }\n",
       "\n",
       "    .dataframe tbody tr th {\n",
       "        vertical-align: top;\n",
       "    }\n",
       "\n",
       "    .dataframe thead th {\n",
       "        text-align: right;\n",
       "    }\n",
       "</style>\n",
       "<table border=\"1\" class=\"dataframe\">\n",
       "  <thead>\n",
       "    <tr style=\"text-align: right;\">\n",
       "      <th></th>\n",
       "      <th>Open</th>\n",
       "      <th>High</th>\n",
       "      <th>Low</th>\n",
       "      <th>Close</th>\n",
       "      <th>Volume</th>\n",
       "      <th>Currency</th>\n",
       "    </tr>\n",
       "    <tr>\n",
       "      <th>Date</th>\n",
       "      <th></th>\n",
       "      <th></th>\n",
       "      <th></th>\n",
       "      <th></th>\n",
       "      <th></th>\n",
       "      <th></th>\n",
       "    </tr>\n",
       "  </thead>\n",
       "  <tbody>\n",
       "    <tr>\n",
       "      <th>2012-01-02</th>\n",
       "      <td>653.13</td>\n",
       "      <td>653.13</td>\n",
       "      <td>653.13</td>\n",
       "      <td>653.13</td>\n",
       "      <td>0</td>\n",
       "      <td>USD</td>\n",
       "    </tr>\n",
       "    <tr>\n",
       "      <th>2012-01-03</th>\n",
       "      <td>665.88</td>\n",
       "      <td>670.50</td>\n",
       "      <td>654.00</td>\n",
       "      <td>658.38</td>\n",
       "      <td>0</td>\n",
       "      <td>USD</td>\n",
       "    </tr>\n",
       "    <tr>\n",
       "      <th>2012-01-04</th>\n",
       "      <td>656.38</td>\n",
       "      <td>661.13</td>\n",
       "      <td>645.63</td>\n",
       "      <td>650.13</td>\n",
       "      <td>0</td>\n",
       "      <td>USD</td>\n",
       "    </tr>\n",
       "    <tr>\n",
       "      <th>2012-01-05</th>\n",
       "      <td>649.13</td>\n",
       "      <td>650.13</td>\n",
       "      <td>627.13</td>\n",
       "      <td>627.38</td>\n",
       "      <td>0</td>\n",
       "      <td>USD</td>\n",
       "    </tr>\n",
       "    <tr>\n",
       "      <th>2012-01-06</th>\n",
       "      <td>629.38</td>\n",
       "      <td>636.88</td>\n",
       "      <td>624.63</td>\n",
       "      <td>624.63</td>\n",
       "      <td>0</td>\n",
       "      <td>USD</td>\n",
       "    </tr>\n",
       "  </tbody>\n",
       "</table>\n",
       "</div>"
      ],
      "text/plain": [
       "              Open    High     Low   Close  Volume Currency\n",
       "Date                                                       \n",
       "2012-01-02  653.13  653.13  653.13  653.13       0      USD\n",
       "2012-01-03  665.88  670.50  654.00  658.38       0      USD\n",
       "2012-01-04  656.38  661.13  645.63  650.13       0      USD\n",
       "2012-01-05  649.13  650.13  627.13  627.38       0      USD\n",
       "2012-01-06  629.38  636.88  624.63  624.63       0      USD"
      ]
     },
     "execution_count": 179,
     "metadata": {},
     "output_type": "execute_result"
    }
   ],
   "source": [
    "wheat_df = investpy.get_commodity_historical_data(commodity = 'US Wheat',country = 'united states',\n",
    "                                                  from_date = '01/01/2012',to_date = '01/01/2022')\n",
    "wheat_df.head(5)"
   ]
  },
  {
   "cell_type": "markdown",
   "id": "93c93552",
   "metadata": {},
   "source": [
    "# Editing the Data to specify the Close price and giving the colum name a more specific name."
   ]
  },
  {
   "cell_type": "code",
   "execution_count": 180,
   "id": "0748bb35",
   "metadata": {},
   "outputs": [
    {
     "data": {
      "text/html": [
       "<div>\n",
       "<style scoped>\n",
       "    .dataframe tbody tr th:only-of-type {\n",
       "        vertical-align: middle;\n",
       "    }\n",
       "\n",
       "    .dataframe tbody tr th {\n",
       "        vertical-align: top;\n",
       "    }\n",
       "\n",
       "    .dataframe thead th {\n",
       "        text-align: right;\n",
       "    }\n",
       "</style>\n",
       "<table border=\"1\" class=\"dataframe\">\n",
       "  <thead>\n",
       "    <tr style=\"text-align: right;\">\n",
       "      <th></th>\n",
       "      <th>Wheat</th>\n",
       "    </tr>\n",
       "    <tr>\n",
       "      <th>Date</th>\n",
       "      <th></th>\n",
       "    </tr>\n",
       "  </thead>\n",
       "  <tbody>\n",
       "    <tr>\n",
       "      <th>2012-01-02</th>\n",
       "      <td>653.13</td>\n",
       "    </tr>\n",
       "    <tr>\n",
       "      <th>2012-01-03</th>\n",
       "      <td>658.38</td>\n",
       "    </tr>\n",
       "    <tr>\n",
       "      <th>2012-01-04</th>\n",
       "      <td>650.13</td>\n",
       "    </tr>\n",
       "    <tr>\n",
       "      <th>2012-01-05</th>\n",
       "      <td>627.38</td>\n",
       "    </tr>\n",
       "    <tr>\n",
       "      <th>2012-01-06</th>\n",
       "      <td>624.63</td>\n",
       "    </tr>\n",
       "  </tbody>\n",
       "</table>\n",
       "</div>"
      ],
      "text/plain": [
       "             Wheat\n",
       "Date              \n",
       "2012-01-02  653.13\n",
       "2012-01-03  658.38\n",
       "2012-01-04  650.13\n",
       "2012-01-05  627.38\n",
       "2012-01-06  624.63"
      ]
     },
     "execution_count": 180,
     "metadata": {},
     "output_type": "execute_result"
    }
   ],
   "source": [
    "wheat_df = wheat_df.drop(['Open','High','Low','Volume','Currency'], axis=1)\n",
    "wheat_df = wheat_df.rename(columns = {'Close': 'Wheat'})\n",
    "wheat_df.head(5)"
   ]
  },
  {
   "cell_type": "markdown",
   "id": "f110d522",
   "metadata": {},
   "source": [
    "# Import Crude Data"
   ]
  },
  {
   "cell_type": "code",
   "execution_count": 181,
   "id": "2140429f",
   "metadata": {},
   "outputs": [
    {
     "data": {
      "text/html": [
       "<div>\n",
       "<style scoped>\n",
       "    .dataframe tbody tr th:only-of-type {\n",
       "        vertical-align: middle;\n",
       "    }\n",
       "\n",
       "    .dataframe tbody tr th {\n",
       "        vertical-align: top;\n",
       "    }\n",
       "\n",
       "    .dataframe thead th {\n",
       "        text-align: right;\n",
       "    }\n",
       "</style>\n",
       "<table border=\"1\" class=\"dataframe\">\n",
       "  <thead>\n",
       "    <tr style=\"text-align: right;\">\n",
       "      <th></th>\n",
       "      <th>Open</th>\n",
       "      <th>High</th>\n",
       "      <th>Low</th>\n",
       "      <th>Close</th>\n",
       "      <th>Volume</th>\n",
       "      <th>Currency</th>\n",
       "    </tr>\n",
       "    <tr>\n",
       "      <th>Date</th>\n",
       "      <th></th>\n",
       "      <th></th>\n",
       "      <th></th>\n",
       "      <th></th>\n",
       "      <th></th>\n",
       "      <th></th>\n",
       "    </tr>\n",
       "  </thead>\n",
       "  <tbody>\n",
       "    <tr>\n",
       "      <th>2012-01-03</th>\n",
       "      <td>99.70</td>\n",
       "      <td>103.18</td>\n",
       "      <td>99.65</td>\n",
       "      <td>102.96</td>\n",
       "      <td>275481</td>\n",
       "      <td>USD</td>\n",
       "    </tr>\n",
       "    <tr>\n",
       "      <th>2012-01-04</th>\n",
       "      <td>102.99</td>\n",
       "      <td>103.74</td>\n",
       "      <td>101.88</td>\n",
       "      <td>103.22</td>\n",
       "      <td>271711</td>\n",
       "      <td>USD</td>\n",
       "    </tr>\n",
       "    <tr>\n",
       "      <th>2012-01-05</th>\n",
       "      <td>103.29</td>\n",
       "      <td>103.73</td>\n",
       "      <td>101.30</td>\n",
       "      <td>101.81</td>\n",
       "      <td>295615</td>\n",
       "      <td>USD</td>\n",
       "    </tr>\n",
       "    <tr>\n",
       "      <th>2012-01-06</th>\n",
       "      <td>101.35</td>\n",
       "      <td>102.80</td>\n",
       "      <td>100.88</td>\n",
       "      <td>101.56</td>\n",
       "      <td>290458</td>\n",
       "      <td>USD</td>\n",
       "    </tr>\n",
       "    <tr>\n",
       "      <th>2012-01-09</th>\n",
       "      <td>101.92</td>\n",
       "      <td>102.15</td>\n",
       "      <td>100.10</td>\n",
       "      <td>101.31</td>\n",
       "      <td>311866</td>\n",
       "      <td>USD</td>\n",
       "    </tr>\n",
       "  </tbody>\n",
       "</table>\n",
       "</div>"
      ],
      "text/plain": [
       "              Open    High     Low   Close  Volume Currency\n",
       "Date                                                       \n",
       "2012-01-03   99.70  103.18   99.65  102.96  275481      USD\n",
       "2012-01-04  102.99  103.74  101.88  103.22  271711      USD\n",
       "2012-01-05  103.29  103.73  101.30  101.81  295615      USD\n",
       "2012-01-06  101.35  102.80  100.88  101.56  290458      USD\n",
       "2012-01-09  101.92  102.15  100.10  101.31  311866      USD"
      ]
     },
     "execution_count": 181,
     "metadata": {},
     "output_type": "execute_result"
    }
   ],
   "source": [
    "crude_df = investpy.get_commodity_historical_data(commodity = 'Crude Oil WTI', country = 'united states',\n",
    "                                                  from_date = '01/01/2012',to_date = '01/01/2022')\n",
    "crude_df.head(5)"
   ]
  },
  {
   "cell_type": "markdown",
   "id": "ebc541bc",
   "metadata": {},
   "source": [
    "# Edit and clean data"
   ]
  },
  {
   "cell_type": "code",
   "execution_count": 182,
   "id": "a558e79a",
   "metadata": {},
   "outputs": [
    {
     "data": {
      "text/html": [
       "<div>\n",
       "<style scoped>\n",
       "    .dataframe tbody tr th:only-of-type {\n",
       "        vertical-align: middle;\n",
       "    }\n",
       "\n",
       "    .dataframe tbody tr th {\n",
       "        vertical-align: top;\n",
       "    }\n",
       "\n",
       "    .dataframe thead th {\n",
       "        text-align: right;\n",
       "    }\n",
       "</style>\n",
       "<table border=\"1\" class=\"dataframe\">\n",
       "  <thead>\n",
       "    <tr style=\"text-align: right;\">\n",
       "      <th></th>\n",
       "      <th>Crude</th>\n",
       "    </tr>\n",
       "    <tr>\n",
       "      <th>Date</th>\n",
       "      <th></th>\n",
       "    </tr>\n",
       "  </thead>\n",
       "  <tbody>\n",
       "    <tr>\n",
       "      <th>2012-01-03</th>\n",
       "      <td>102.96</td>\n",
       "    </tr>\n",
       "    <tr>\n",
       "      <th>2012-01-04</th>\n",
       "      <td>103.22</td>\n",
       "    </tr>\n",
       "    <tr>\n",
       "      <th>2012-01-05</th>\n",
       "      <td>101.81</td>\n",
       "    </tr>\n",
       "    <tr>\n",
       "      <th>2012-01-06</th>\n",
       "      <td>101.56</td>\n",
       "    </tr>\n",
       "    <tr>\n",
       "      <th>2012-01-09</th>\n",
       "      <td>101.31</td>\n",
       "    </tr>\n",
       "  </tbody>\n",
       "</table>\n",
       "</div>"
      ],
      "text/plain": [
       "             Crude\n",
       "Date              \n",
       "2012-01-03  102.96\n",
       "2012-01-04  103.22\n",
       "2012-01-05  101.81\n",
       "2012-01-06  101.56\n",
       "2012-01-09  101.31"
      ]
     },
     "execution_count": 182,
     "metadata": {},
     "output_type": "execute_result"
    }
   ],
   "source": [
    "crude_df = crude_df.drop(['Open','High','Low','Volume','Currency'],axis=1)\n",
    "crude_df = crude_df.rename(columns = {'Close': 'Crude'})\n",
    "crude_df.head(5)"
   ]
  },
  {
   "cell_type": "markdown",
   "id": "c85552d8",
   "metadata": {},
   "source": [
    "# Import Carbon futures data"
   ]
  },
  {
   "cell_type": "code",
   "execution_count": 183,
   "id": "b2d3b889",
   "metadata": {
    "scrolled": false
   },
   "outputs": [
    {
     "data": {
      "text/html": [
       "<div>\n",
       "<style scoped>\n",
       "    .dataframe tbody tr th:only-of-type {\n",
       "        vertical-align: middle;\n",
       "    }\n",
       "\n",
       "    .dataframe tbody tr th {\n",
       "        vertical-align: top;\n",
       "    }\n",
       "\n",
       "    .dataframe thead th {\n",
       "        text-align: right;\n",
       "    }\n",
       "</style>\n",
       "<table border=\"1\" class=\"dataframe\">\n",
       "  <thead>\n",
       "    <tr style=\"text-align: right;\">\n",
       "      <th></th>\n",
       "      <th>Date</th>\n",
       "      <th>Price</th>\n",
       "      <th>Open</th>\n",
       "      <th>High</th>\n",
       "      <th>Low</th>\n",
       "      <th>Vol.</th>\n",
       "      <th>Change %</th>\n",
       "    </tr>\n",
       "  </thead>\n",
       "  <tbody>\n",
       "    <tr>\n",
       "      <th>0</th>\n",
       "      <td>Aug 02, 2022</td>\n",
       "      <td>81.98</td>\n",
       "      <td>80.33</td>\n",
       "      <td>82.19</td>\n",
       "      <td>79.87</td>\n",
       "      <td>11.33K</td>\n",
       "      <td>1.67%</td>\n",
       "    </tr>\n",
       "    <tr>\n",
       "      <th>1</th>\n",
       "      <td>Aug 01, 2022</td>\n",
       "      <td>80.63</td>\n",
       "      <td>78.10</td>\n",
       "      <td>80.83</td>\n",
       "      <td>78.10</td>\n",
       "      <td>10.51K</td>\n",
       "      <td>2.49%</td>\n",
       "    </tr>\n",
       "    <tr>\n",
       "      <th>2</th>\n",
       "      <td>Jul 29, 2022</td>\n",
       "      <td>78.67</td>\n",
       "      <td>78.96</td>\n",
       "      <td>79.50</td>\n",
       "      <td>77.57</td>\n",
       "      <td>11.48K</td>\n",
       "      <td>-0.04%</td>\n",
       "    </tr>\n",
       "    <tr>\n",
       "      <th>3</th>\n",
       "      <td>Jul 28, 2022</td>\n",
       "      <td>78.70</td>\n",
       "      <td>76.07</td>\n",
       "      <td>80.10</td>\n",
       "      <td>76.07</td>\n",
       "      <td>14.23K</td>\n",
       "      <td>3.19%</td>\n",
       "    </tr>\n",
       "    <tr>\n",
       "      <th>4</th>\n",
       "      <td>Jul 27, 2022</td>\n",
       "      <td>76.27</td>\n",
       "      <td>76.61</td>\n",
       "      <td>77.79</td>\n",
       "      <td>75.80</td>\n",
       "      <td>13.54K</td>\n",
       "      <td>-0.64%</td>\n",
       "    </tr>\n",
       "  </tbody>\n",
       "</table>\n",
       "</div>"
      ],
      "text/plain": [
       "           Date  Price   Open   High    Low    Vol. Change %\n",
       "0  Aug 02, 2022  81.98  80.33  82.19  79.87  11.33K    1.67%\n",
       "1  Aug 01, 2022  80.63  78.10  80.83  78.10  10.51K    2.49%\n",
       "2  Jul 29, 2022  78.67  78.96  79.50  77.57  11.48K   -0.04%\n",
       "3  Jul 28, 2022  78.70  76.07  80.10  76.07  14.23K    3.19%\n",
       "4  Jul 27, 2022  76.27  76.61  77.79  75.80  13.54K   -0.64%"
      ]
     },
     "execution_count": 183,
     "metadata": {},
     "output_type": "execute_result"
    }
   ],
   "source": [
    "carbon_df = pd.read_csv(\"../Data/Carbon Emissions Futures Historical Data.csv\")\n",
    "carbon_df.head(5)"
   ]
  },
  {
   "cell_type": "markdown",
   "id": "9cf1b411",
   "metadata": {},
   "source": [
    "# Edit Carbon data"
   ]
  },
  {
   "cell_type": "code",
   "execution_count": 184,
   "id": "13cee28b",
   "metadata": {},
   "outputs": [
    {
     "data": {
      "text/html": [
       "<div>\n",
       "<style scoped>\n",
       "    .dataframe tbody tr th:only-of-type {\n",
       "        vertical-align: middle;\n",
       "    }\n",
       "\n",
       "    .dataframe tbody tr th {\n",
       "        vertical-align: top;\n",
       "    }\n",
       "\n",
       "    .dataframe thead th {\n",
       "        text-align: right;\n",
       "    }\n",
       "</style>\n",
       "<table border=\"1\" class=\"dataframe\">\n",
       "  <thead>\n",
       "    <tr style=\"text-align: right;\">\n",
       "      <th></th>\n",
       "      <th>Date</th>\n",
       "      <th>Price</th>\n",
       "      <th>Open</th>\n",
       "      <th>High</th>\n",
       "      <th>Low</th>\n",
       "      <th>Vol.</th>\n",
       "      <th>Change %</th>\n",
       "    </tr>\n",
       "  </thead>\n",
       "  <tbody>\n",
       "    <tr>\n",
       "      <th>0</th>\n",
       "      <td>2022-08-02</td>\n",
       "      <td>81.98</td>\n",
       "      <td>80.33</td>\n",
       "      <td>82.19</td>\n",
       "      <td>79.87</td>\n",
       "      <td>11.33K</td>\n",
       "      <td>1.67%</td>\n",
       "    </tr>\n",
       "    <tr>\n",
       "      <th>1</th>\n",
       "      <td>2022-08-01</td>\n",
       "      <td>80.63</td>\n",
       "      <td>78.10</td>\n",
       "      <td>80.83</td>\n",
       "      <td>78.10</td>\n",
       "      <td>10.51K</td>\n",
       "      <td>2.49%</td>\n",
       "    </tr>\n",
       "    <tr>\n",
       "      <th>2</th>\n",
       "      <td>2022-07-29</td>\n",
       "      <td>78.67</td>\n",
       "      <td>78.96</td>\n",
       "      <td>79.50</td>\n",
       "      <td>77.57</td>\n",
       "      <td>11.48K</td>\n",
       "      <td>-0.04%</td>\n",
       "    </tr>\n",
       "    <tr>\n",
       "      <th>3</th>\n",
       "      <td>2022-07-28</td>\n",
       "      <td>78.70</td>\n",
       "      <td>76.07</td>\n",
       "      <td>80.10</td>\n",
       "      <td>76.07</td>\n",
       "      <td>14.23K</td>\n",
       "      <td>3.19%</td>\n",
       "    </tr>\n",
       "    <tr>\n",
       "      <th>4</th>\n",
       "      <td>2022-07-27</td>\n",
       "      <td>76.27</td>\n",
       "      <td>76.61</td>\n",
       "      <td>77.79</td>\n",
       "      <td>75.80</td>\n",
       "      <td>13.54K</td>\n",
       "      <td>-0.64%</td>\n",
       "    </tr>\n",
       "  </tbody>\n",
       "</table>\n",
       "</div>"
      ],
      "text/plain": [
       "         Date  Price   Open   High    Low    Vol. Change %\n",
       "0  2022-08-02  81.98  80.33  82.19  79.87  11.33K    1.67%\n",
       "1  2022-08-01  80.63  78.10  80.83  78.10  10.51K    2.49%\n",
       "2  2022-07-29  78.67  78.96  79.50  77.57  11.48K   -0.04%\n",
       "3  2022-07-28  78.70  76.07  80.10  76.07  14.23K    3.19%\n",
       "4  2022-07-27  76.27  76.61  77.79  75.80  13.54K   -0.64%"
      ]
     },
     "execution_count": 184,
     "metadata": {},
     "output_type": "execute_result"
    }
   ],
   "source": [
    "carbon_df.reset_index()\n",
    "carbon_df.rename(columns={'Price':'Carbon Futures'})\n",
    "carbon_df['Date'] = pd.to_datetime(carbon_df.Date)\n",
    "carbon_df['Date'] = carbon_df['Date'].dt.strftime('%Y-%m-%d')\n",
    "\n",
    "carbon_df.head(5)\n"
   ]
  },
  {
   "cell_type": "code",
   "execution_count": 185,
   "id": "79c79eb3",
   "metadata": {},
   "outputs": [
    {
     "data": {
      "text/html": [
       "<div>\n",
       "<style scoped>\n",
       "    .dataframe tbody tr th:only-of-type {\n",
       "        vertical-align: middle;\n",
       "    }\n",
       "\n",
       "    .dataframe tbody tr th {\n",
       "        vertical-align: top;\n",
       "    }\n",
       "\n",
       "    .dataframe thead th {\n",
       "        text-align: right;\n",
       "    }\n",
       "</style>\n",
       "<table border=\"1\" class=\"dataframe\">\n",
       "  <thead>\n",
       "    <tr style=\"text-align: right;\">\n",
       "      <th></th>\n",
       "      <th>Price</th>\n",
       "      <th>Open</th>\n",
       "      <th>High</th>\n",
       "      <th>Low</th>\n",
       "      <th>Vol.</th>\n",
       "      <th>Change %</th>\n",
       "    </tr>\n",
       "    <tr>\n",
       "      <th>Date</th>\n",
       "      <th></th>\n",
       "      <th></th>\n",
       "      <th></th>\n",
       "      <th></th>\n",
       "      <th></th>\n",
       "      <th></th>\n",
       "    </tr>\n",
       "  </thead>\n",
       "  <tbody>\n",
       "    <tr>\n",
       "      <th>2022-08-02</th>\n",
       "      <td>81.98</td>\n",
       "      <td>80.33</td>\n",
       "      <td>82.19</td>\n",
       "      <td>79.87</td>\n",
       "      <td>11.33K</td>\n",
       "      <td>1.67%</td>\n",
       "    </tr>\n",
       "    <tr>\n",
       "      <th>2022-08-01</th>\n",
       "      <td>80.63</td>\n",
       "      <td>78.10</td>\n",
       "      <td>80.83</td>\n",
       "      <td>78.10</td>\n",
       "      <td>10.51K</td>\n",
       "      <td>2.49%</td>\n",
       "    </tr>\n",
       "    <tr>\n",
       "      <th>2022-07-29</th>\n",
       "      <td>78.67</td>\n",
       "      <td>78.96</td>\n",
       "      <td>79.50</td>\n",
       "      <td>77.57</td>\n",
       "      <td>11.48K</td>\n",
       "      <td>-0.04%</td>\n",
       "    </tr>\n",
       "    <tr>\n",
       "      <th>2022-07-28</th>\n",
       "      <td>78.70</td>\n",
       "      <td>76.07</td>\n",
       "      <td>80.10</td>\n",
       "      <td>76.07</td>\n",
       "      <td>14.23K</td>\n",
       "      <td>3.19%</td>\n",
       "    </tr>\n",
       "    <tr>\n",
       "      <th>2022-07-27</th>\n",
       "      <td>76.27</td>\n",
       "      <td>76.61</td>\n",
       "      <td>77.79</td>\n",
       "      <td>75.80</td>\n",
       "      <td>13.54K</td>\n",
       "      <td>-0.64%</td>\n",
       "    </tr>\n",
       "  </tbody>\n",
       "</table>\n",
       "</div>"
      ],
      "text/plain": [
       "            Price   Open   High    Low    Vol. Change %\n",
       "Date                                                   \n",
       "2022-08-02  81.98  80.33  82.19  79.87  11.33K    1.67%\n",
       "2022-08-01  80.63  78.10  80.83  78.10  10.51K    2.49%\n",
       "2022-07-29  78.67  78.96  79.50  77.57  11.48K   -0.04%\n",
       "2022-07-28  78.70  76.07  80.10  76.07  14.23K    3.19%\n",
       "2022-07-27  76.27  76.61  77.79  75.80  13.54K   -0.64%"
      ]
     },
     "execution_count": 185,
     "metadata": {},
     "output_type": "execute_result"
    }
   ],
   "source": [
    "carbon_df = carbon_df.set_index(\"Date\")\n",
    "carbon_df.head(5)"
   ]
  },
  {
   "cell_type": "code",
   "execution_count": 186,
   "id": "c320a7c0",
   "metadata": {},
   "outputs": [
    {
     "data": {
      "text/html": [
       "<div>\n",
       "<style scoped>\n",
       "    .dataframe tbody tr th:only-of-type {\n",
       "        vertical-align: middle;\n",
       "    }\n",
       "\n",
       "    .dataframe tbody tr th {\n",
       "        vertical-align: top;\n",
       "    }\n",
       "\n",
       "    .dataframe thead th {\n",
       "        text-align: right;\n",
       "    }\n",
       "</style>\n",
       "<table border=\"1\" class=\"dataframe\">\n",
       "  <thead>\n",
       "    <tr style=\"text-align: right;\">\n",
       "      <th></th>\n",
       "      <th>Crude</th>\n",
       "    </tr>\n",
       "    <tr>\n",
       "      <th>Date</th>\n",
       "      <th></th>\n",
       "    </tr>\n",
       "  </thead>\n",
       "  <tbody>\n",
       "    <tr>\n",
       "      <th>2012-01-03</th>\n",
       "      <td>102.96</td>\n",
       "    </tr>\n",
       "    <tr>\n",
       "      <th>2012-01-04</th>\n",
       "      <td>103.22</td>\n",
       "    </tr>\n",
       "    <tr>\n",
       "      <th>2012-01-05</th>\n",
       "      <td>101.81</td>\n",
       "    </tr>\n",
       "    <tr>\n",
       "      <th>2012-01-06</th>\n",
       "      <td>101.56</td>\n",
       "    </tr>\n",
       "    <tr>\n",
       "      <th>2012-01-09</th>\n",
       "      <td>101.31</td>\n",
       "    </tr>\n",
       "  </tbody>\n",
       "</table>\n",
       "</div>"
      ],
      "text/plain": [
       "             Crude\n",
       "Date              \n",
       "2012-01-03  102.96\n",
       "2012-01-04  103.22\n",
       "2012-01-05  101.81\n",
       "2012-01-06  101.56\n",
       "2012-01-09  101.31"
      ]
     },
     "execution_count": 186,
     "metadata": {},
     "output_type": "execute_result"
    }
   ],
   "source": [
    "crude_df = crude_df.rename(columns = {'Price': 'Carbon'})\n",
    "crude_df.head(5)"
   ]
  },
  {
   "cell_type": "code",
   "execution_count": 187,
   "id": "e0a8f480",
   "metadata": {},
   "outputs": [],
   "source": [
    "crude_df.index = pd.to_datetime(crude_df.index, format = '%Y-%m-%d').strftime('%Y-%m-%d')\n",
    "carbon_df.index = pd.to_datetime(carbon_df.index, format = '%Y-%m-%d').strftime('%Y-%m-%d')\n",
    "wheat_df.index = pd.to_datetime(wheat_df.index, format = '%Y-%m-%d').strftime('%Y-%m-%d')"
   ]
  },
  {
   "cell_type": "code",
   "execution_count": 188,
   "id": "db1558ac",
   "metadata": {},
   "outputs": [
    {
     "data": {
      "text/html": [
       "<div>\n",
       "<style scoped>\n",
       "    .dataframe tbody tr th:only-of-type {\n",
       "        vertical-align: middle;\n",
       "    }\n",
       "\n",
       "    .dataframe tbody tr th {\n",
       "        vertical-align: top;\n",
       "    }\n",
       "\n",
       "    .dataframe thead th {\n",
       "        text-align: right;\n",
       "    }\n",
       "</style>\n",
       "<table border=\"1\" class=\"dataframe\">\n",
       "  <thead>\n",
       "    <tr style=\"text-align: right;\">\n",
       "      <th></th>\n",
       "      <th>Crude</th>\n",
       "      <th>Carbon</th>\n",
       "    </tr>\n",
       "    <tr>\n",
       "      <th>Date</th>\n",
       "      <th></th>\n",
       "      <th></th>\n",
       "    </tr>\n",
       "  </thead>\n",
       "  <tbody>\n",
       "    <tr>\n",
       "      <th>2012-01-03</th>\n",
       "      <td>102.96</td>\n",
       "      <td>6.28</td>\n",
       "    </tr>\n",
       "    <tr>\n",
       "      <th>2012-01-04</th>\n",
       "      <td>103.22</td>\n",
       "      <td>6.27</td>\n",
       "    </tr>\n",
       "    <tr>\n",
       "      <th>2012-01-05</th>\n",
       "      <td>101.81</td>\n",
       "      <td>6.43</td>\n",
       "    </tr>\n",
       "    <tr>\n",
       "      <th>2012-01-06</th>\n",
       "      <td>101.56</td>\n",
       "      <td>6.30</td>\n",
       "    </tr>\n",
       "    <tr>\n",
       "      <th>2012-01-09</th>\n",
       "      <td>101.31</td>\n",
       "      <td>11.00</td>\n",
       "    </tr>\n",
       "    <tr>\n",
       "      <th>...</th>\n",
       "      <td>...</td>\n",
       "      <td>...</td>\n",
       "    </tr>\n",
       "    <tr>\n",
       "      <th>2021-12-27</th>\n",
       "      <td>75.57</td>\n",
       "      <td>76.92</td>\n",
       "    </tr>\n",
       "    <tr>\n",
       "      <th>2021-12-28</th>\n",
       "      <td>75.98</td>\n",
       "      <td>79.29</td>\n",
       "    </tr>\n",
       "    <tr>\n",
       "      <th>2021-12-29</th>\n",
       "      <td>76.56</td>\n",
       "      <td>80.36</td>\n",
       "    </tr>\n",
       "    <tr>\n",
       "      <th>2021-12-30</th>\n",
       "      <td>76.99</td>\n",
       "      <td>80.16</td>\n",
       "    </tr>\n",
       "    <tr>\n",
       "      <th>2021-12-31</th>\n",
       "      <td>75.21</td>\n",
       "      <td>80.65</td>\n",
       "    </tr>\n",
       "  </tbody>\n",
       "</table>\n",
       "<p>2562 rows × 2 columns</p>\n",
       "</div>"
      ],
      "text/plain": [
       "             Crude  Carbon\n",
       "Date                      \n",
       "2012-01-03  102.96    6.28\n",
       "2012-01-04  103.22    6.27\n",
       "2012-01-05  101.81    6.43\n",
       "2012-01-06  101.56    6.30\n",
       "2012-01-09  101.31   11.00\n",
       "...            ...     ...\n",
       "2021-12-27   75.57   76.92\n",
       "2021-12-28   75.98   79.29\n",
       "2021-12-29   76.56   80.36\n",
       "2021-12-30   76.99   80.16\n",
       "2021-12-31   75.21   80.65\n",
       "\n",
       "[2562 rows x 2 columns]"
      ]
     },
     "execution_count": 188,
     "metadata": {},
     "output_type": "execute_result"
    }
   ],
   "source": [
    "crudecarbon = pd.merge(crude_df,carbon_df,on=\"Date\", how='inner')\n",
    "crudecarbon = crudecarbon.drop(['Open','High','Low','Vol.','Change %'],axis=1)\n",
    "crudecarbon.rename(columns={'Price':'Carbon'}, inplace=True)\n",
    "crudecarbon"
   ]
  },
  {
   "cell_type": "code",
   "execution_count": 189,
   "id": "26e17422",
   "metadata": {},
   "outputs": [
    {
     "data": {
      "text/html": [
       "<div>\n",
       "<style scoped>\n",
       "    .dataframe tbody tr th:only-of-type {\n",
       "        vertical-align: middle;\n",
       "    }\n",
       "\n",
       "    .dataframe tbody tr th {\n",
       "        vertical-align: top;\n",
       "    }\n",
       "\n",
       "    .dataframe thead th {\n",
       "        text-align: right;\n",
       "    }\n",
       "</style>\n",
       "<table border=\"1\" class=\"dataframe\">\n",
       "  <thead>\n",
       "    <tr style=\"text-align: right;\">\n",
       "      <th></th>\n",
       "      <th>Crude</th>\n",
       "      <th>Carbon</th>\n",
       "      <th>Wheat</th>\n",
       "    </tr>\n",
       "    <tr>\n",
       "      <th>Date</th>\n",
       "      <th></th>\n",
       "      <th></th>\n",
       "      <th></th>\n",
       "    </tr>\n",
       "  </thead>\n",
       "  <tbody>\n",
       "    <tr>\n",
       "      <th>2012-01-03</th>\n",
       "      <td>102.96</td>\n",
       "      <td>6.28</td>\n",
       "      <td>658.38</td>\n",
       "    </tr>\n",
       "    <tr>\n",
       "      <th>2012-01-04</th>\n",
       "      <td>103.22</td>\n",
       "      <td>6.27</td>\n",
       "      <td>650.13</td>\n",
       "    </tr>\n",
       "    <tr>\n",
       "      <th>2012-01-05</th>\n",
       "      <td>101.81</td>\n",
       "      <td>6.43</td>\n",
       "      <td>627.38</td>\n",
       "    </tr>\n",
       "    <tr>\n",
       "      <th>2012-01-06</th>\n",
       "      <td>101.56</td>\n",
       "      <td>6.30</td>\n",
       "      <td>624.63</td>\n",
       "    </tr>\n",
       "    <tr>\n",
       "      <th>2012-01-09</th>\n",
       "      <td>101.31</td>\n",
       "      <td>11.00</td>\n",
       "      <td>642.38</td>\n",
       "    </tr>\n",
       "    <tr>\n",
       "      <th>...</th>\n",
       "      <td>...</td>\n",
       "      <td>...</td>\n",
       "      <td>...</td>\n",
       "    </tr>\n",
       "    <tr>\n",
       "      <th>2021-12-27</th>\n",
       "      <td>75.57</td>\n",
       "      <td>76.92</td>\n",
       "      <td>804.00</td>\n",
       "    </tr>\n",
       "    <tr>\n",
       "      <th>2021-12-28</th>\n",
       "      <td>75.98</td>\n",
       "      <td>79.29</td>\n",
       "      <td>783.50</td>\n",
       "    </tr>\n",
       "    <tr>\n",
       "      <th>2021-12-29</th>\n",
       "      <td>76.56</td>\n",
       "      <td>80.36</td>\n",
       "      <td>787.75</td>\n",
       "    </tr>\n",
       "    <tr>\n",
       "      <th>2021-12-30</th>\n",
       "      <td>76.99</td>\n",
       "      <td>80.16</td>\n",
       "      <td>779.75</td>\n",
       "    </tr>\n",
       "    <tr>\n",
       "      <th>2021-12-31</th>\n",
       "      <td>75.21</td>\n",
       "      <td>80.65</td>\n",
       "      <td>770.75</td>\n",
       "    </tr>\n",
       "  </tbody>\n",
       "</table>\n",
       "<p>2525 rows × 3 columns</p>\n",
       "</div>"
      ],
      "text/plain": [
       "             Crude  Carbon   Wheat\n",
       "Date                              \n",
       "2012-01-03  102.96    6.28  658.38\n",
       "2012-01-04  103.22    6.27  650.13\n",
       "2012-01-05  101.81    6.43  627.38\n",
       "2012-01-06  101.56    6.30  624.63\n",
       "2012-01-09  101.31   11.00  642.38\n",
       "...            ...     ...     ...\n",
       "2021-12-27   75.57   76.92  804.00\n",
       "2021-12-28   75.98   79.29  783.50\n",
       "2021-12-29   76.56   80.36  787.75\n",
       "2021-12-30   76.99   80.16  779.75\n",
       "2021-12-31   75.21   80.65  770.75\n",
       "\n",
       "[2525 rows x 3 columns]"
      ]
     },
     "execution_count": 189,
     "metadata": {},
     "output_type": "execute_result"
    }
   ],
   "source": [
    "wheatcrudecarbon = pd.merge(crudecarbon,wheat_df, on='Date',how='inner')\n",
    "wheatcrudecarbon"
   ]
  },
  {
   "cell_type": "code",
   "execution_count": 190,
   "id": "2314de78",
   "metadata": {},
   "outputs": [],
   "source": [
    "wheatcrudecarbon.rename(columns={'Price':'Carbon'}, inplace=True)"
   ]
  },
  {
   "cell_type": "code",
   "execution_count": 191,
   "id": "d3b42207",
   "metadata": {},
   "outputs": [
    {
     "data": {
      "text/html": [
       "<div>\n",
       "<style scoped>\n",
       "    .dataframe tbody tr th:only-of-type {\n",
       "        vertical-align: middle;\n",
       "    }\n",
       "\n",
       "    .dataframe tbody tr th {\n",
       "        vertical-align: top;\n",
       "    }\n",
       "\n",
       "    .dataframe thead th {\n",
       "        text-align: right;\n",
       "    }\n",
       "</style>\n",
       "<table border=\"1\" class=\"dataframe\">\n",
       "  <thead>\n",
       "    <tr style=\"text-align: right;\">\n",
       "      <th></th>\n",
       "      <th>Crude</th>\n",
       "      <th>Carbon</th>\n",
       "      <th>Wheat</th>\n",
       "    </tr>\n",
       "    <tr>\n",
       "      <th>Date</th>\n",
       "      <th></th>\n",
       "      <th></th>\n",
       "      <th></th>\n",
       "    </tr>\n",
       "  </thead>\n",
       "  <tbody>\n",
       "    <tr>\n",
       "      <th>2012-01-03</th>\n",
       "      <td>102.96</td>\n",
       "      <td>6.28</td>\n",
       "      <td>658.38</td>\n",
       "    </tr>\n",
       "    <tr>\n",
       "      <th>2012-01-04</th>\n",
       "      <td>103.22</td>\n",
       "      <td>6.27</td>\n",
       "      <td>650.13</td>\n",
       "    </tr>\n",
       "    <tr>\n",
       "      <th>2012-01-05</th>\n",
       "      <td>101.81</td>\n",
       "      <td>6.43</td>\n",
       "      <td>627.38</td>\n",
       "    </tr>\n",
       "  </tbody>\n",
       "</table>\n",
       "</div>"
      ],
      "text/plain": [
       "             Crude  Carbon   Wheat\n",
       "Date                              \n",
       "2012-01-03  102.96    6.28  658.38\n",
       "2012-01-04  103.22    6.27  650.13\n",
       "2012-01-05  101.81    6.43  627.38"
      ]
     },
     "execution_count": 191,
     "metadata": {},
     "output_type": "execute_result"
    }
   ],
   "source": [
    "returns = wheatcrudecarbon.dropna()\n",
    "returns.head(3)"
   ]
  },
  {
   "cell_type": "code",
   "execution_count": 192,
   "id": "b5db593d",
   "metadata": {},
   "outputs": [
    {
     "data": {
      "image/png": "[encoded data removed]",
      "text/plain": [
       "<Figure size 432x288 with 2 Axes>"
      ]
     },
     "metadata": {
      "needs_background": "light"
     },
     "output_type": "display_data"
    }
   ],
   "source": [
    "# Show correlation matrix\n",
    "sns.heatmap(returns.corr(),cmap='viridis',annot=True,vmin=-1, vmax=1);"
   ]
  },
  {
   "cell_type": "markdown",
   "id": "fac7cbd6",
   "metadata": {},
   "source": [
    "# Import Wheat Data"
   ]
  },
  {
   "cell_type": "code",
   "execution_count": 193,
   "id": "2b44a7a0",
   "metadata": {},
   "outputs": [],
   "source": [
    "# Get historical wheat price data from investpy\n",
    "wheat_df = pd.read_csv(\"../Data/wheat_df-Update.csv\",parse_dates=True,infer_datetime_format=True,index_col='Date')\n",
    "                    \n",
    "                      "
   ]
  },
  {
   "cell_type": "markdown",
   "id": "4a8bac3a",
   "metadata": {},
   "source": [
    "# Import Copper Data"
   ]
  },
  {
   "cell_type": "code",
   "execution_count": 194,
   "id": "bf3c6620",
   "metadata": {},
   "outputs": [],
   "source": [
    "# Get historical copper price data from investpy\n",
    "copper_df =pd.read_csv(\"../Data/copper_df-Update.csv\",parse_dates=True,infer_datetime_format=True,index_col='Date')"
   ]
  },
  {
   "cell_type": "markdown",
   "id": "be4291a9",
   "metadata": {},
   "source": [
    "# Import Dollar_index Data"
   ]
  },
  {
   "cell_type": "code",
   "execution_count": 195,
   "id": "9e0419aa",
   "metadata": {},
   "outputs": [],
   "source": [
    "# Get historical Dollar Index data from investpy\n",
    "dollar_df = pd.read_csv(\"../Data/dollar_df-Update.csv\",parse_dates=True,infer_datetime_format=True,index_col='Date')"
   ]
  },
  {
   "cell_type": "markdown",
   "id": "a4d7e097",
   "metadata": {},
   "source": [
    "# Import drought dataset"
   ]
  },
  {
   "cell_type": "code",
   "execution_count": 196,
   "id": "168f3347",
   "metadata": {},
   "outputs": [],
   "source": [
    "#drought dataset\n",
    "drought_df = pd.read_csv(\"../Data/drought_df-Update.csv\",parse_dates=True,infer_datetime_format=True,index_col='Date')\n",
    "drought_df.drop(['Unnamed: 0.1','Unnamed: 0'],axis=1,inplace=True)"
   ]
  },
  {
   "cell_type": "markdown",
   "id": "7d1ac17a",
   "metadata": {},
   "source": [
    "# Import Urea dataset"
   ]
  },
  {
   "cell_type": "code",
   "execution_count": 197,
   "id": "9ebdbce5",
   "metadata": {},
   "outputs": [],
   "source": [
    "# Urea dataset\n",
    "Urea_df = pd.read_csv(\"../Data/Urea_df-Update.csv\",parse_dates=True,infer_datetime_format=True,index_col='Date')"
   ]
  },
  {
   "cell_type": "code",
   "execution_count": 198,
   "id": "52d5ea06",
   "metadata": {},
   "outputs": [],
   "source": [
    "# Combine data frames\n",
    "combined_df = pd.concat([dollar_df,copper_df,Urea_df,drought_df,wheat_df],axis=1,join='inner')"
   ]
  },
  {
   "cell_type": "code",
   "execution_count": 199,
   "id": "9c3da6e1",
   "metadata": {},
   "outputs": [
    {
     "data": {
      "text/html": [
       "<div>\n",
       "<style scoped>\n",
       "    .dataframe tbody tr th:only-of-type {\n",
       "        vertical-align: middle;\n",
       "    }\n",
       "\n",
       "    .dataframe tbody tr th {\n",
       "        vertical-align: top;\n",
       "    }\n",
       "\n",
       "    .dataframe thead th {\n",
       "        text-align: right;\n",
       "    }\n",
       "</style>\n",
       "<table border=\"1\" class=\"dataframe\">\n",
       "  <thead>\n",
       "    <tr style=\"text-align: right;\">\n",
       "      <th></th>\n",
       "      <th>Dollar</th>\n",
       "      <th>Copper</th>\n",
       "      <th>Urea</th>\n",
       "      <th>Drought</th>\n",
       "      <th>wheat</th>\n",
       "    </tr>\n",
       "  </thead>\n",
       "  <tbody>\n",
       "    <tr>\n",
       "      <th>Dollar</th>\n",
       "      <td>1.000000</td>\n",
       "      <td>-0.524551</td>\n",
       "      <td>-0.312546</td>\n",
       "      <td>0.482855</td>\n",
       "      <td>-0.680653</td>\n",
       "    </tr>\n",
       "    <tr>\n",
       "      <th>Copper</th>\n",
       "      <td>-0.524551</td>\n",
       "      <td>1.000000</td>\n",
       "      <td>0.719500</td>\n",
       "      <td>-0.647951</td>\n",
       "      <td>0.705907</td>\n",
       "    </tr>\n",
       "    <tr>\n",
       "      <th>Urea</th>\n",
       "      <td>-0.312546</td>\n",
       "      <td>0.719500</td>\n",
       "      <td>1.000000</td>\n",
       "      <td>-0.463255</td>\n",
       "      <td>0.680342</td>\n",
       "    </tr>\n",
       "    <tr>\n",
       "      <th>Drought</th>\n",
       "      <td>0.482855</td>\n",
       "      <td>-0.647951</td>\n",
       "      <td>-0.463255</td>\n",
       "      <td>1.000000</td>\n",
       "      <td>-0.621489</td>\n",
       "    </tr>\n",
       "    <tr>\n",
       "      <th>wheat</th>\n",
       "      <td>-0.680653</td>\n",
       "      <td>0.705907</td>\n",
       "      <td>0.680342</td>\n",
       "      <td>-0.621489</td>\n",
       "      <td>1.000000</td>\n",
       "    </tr>\n",
       "  </tbody>\n",
       "</table>\n",
       "</div>"
      ],
      "text/plain": [
       "           Dollar    Copper      Urea   Drought     wheat\n",
       "Dollar   1.000000 -0.524551 -0.312546  0.482855 -0.680653\n",
       "Copper  -0.524551  1.000000  0.719500 -0.647951  0.705907\n",
       "Urea    -0.312546  0.719500  1.000000 -0.463255  0.680342\n",
       "Drought  0.482855 -0.647951 -0.463255  1.000000 -0.621489\n",
       "wheat   -0.680653  0.705907  0.680342 -0.621489  1.000000"
      ]
     },
     "execution_count": 199,
     "metadata": {},
     "output_type": "execute_result"
    }
   ],
   "source": [
    "# Create correlation matrix\n",
    "correlations_df = combined_df.corr()\n",
    "correlations_df"
   ]
  },
  {
   "cell_type": "code",
   "execution_count": 200,
   "id": "4934ead2",
   "metadata": {},
   "outputs": [
    {
     "data": {
      "image/png": "[encoded data removed]",
      "text/plain": [
       "<Figure size 432x288 with 2 Axes>"
      ]
     },
     "metadata": {
      "needs_background": "light"
     },
     "output_type": "display_data"
    }
   ],
   "source": [
    "# Show correlation matrix\n",
    "sns.heatmap(correlations_df,cmap='viridis',annot=True,vmin=-1,vmax=1);"
   ]
  },
  {
   "cell_type": "markdown",
   "id": "a86941e6",
   "metadata": {},
   "source": [
    "# Import Wheat Data"
   ]
  },
  {
   "cell_type": "code",
   "execution_count": 201,
   "id": "71c6b56b",
   "metadata": {},
   "outputs": [],
   "source": [
    "# Get historical wheat price data from investpy\n",
    "wheat_df = pd.read_csv(\"../Data/wheat_df-Update.csv\",parse_dates=True,infer_datetime_format=True,\n",
    "                       index_col='Date')"
   ]
  },
  {
   "cell_type": "markdown",
   "id": "25351efe",
   "metadata": {},
   "source": [
    "# Import Crude Data"
   ]
  },
  {
   "cell_type": "code",
   "execution_count": 202,
   "id": "99be3fca",
   "metadata": {},
   "outputs": [],
   "source": [
    "# Get historical crude oil price data from investpy\n",
    "crude_df = pd.read_csv(\"../Data/crude_df-Update.csv\",parse_dates=True,infer_datetime_format=True,\n",
    "                       index_col='Date')\n",
    "   "
   ]
  },
  {
   "cell_type": "markdown",
   "id": "c43f1e35",
   "metadata": {},
   "source": [
    "# Import Carbon futures data"
   ]
  },
  {
   "cell_type": "code",
   "execution_count": 203,
   "id": "39327b5c",
   "metadata": {},
   "outputs": [],
   "source": [
    "# Get historical Carbon futures price data from investpy\n",
    "Carbon_df = pd.read_csv(\"../Data/Carbon_df-Update.csv\",parse_dates=True,infer_datetime_format=True,\n",
    "                       index_col='Date')"
   ]
  },
  {
   "cell_type": "code",
   "execution_count": 204,
   "id": "5817040d",
   "metadata": {},
   "outputs": [],
   "source": [
    "# Combine data frames\n",
    "combined_df_ = pd.concat([crude_df,Carbon_df,wheat_df],axis=1,join='inner')"
   ]
  },
  {
   "cell_type": "code",
   "execution_count": 205,
   "id": "2c8e0f24",
   "metadata": {},
   "outputs": [
    {
     "data": {
      "text/html": [
       "<div>\n",
       "<style scoped>\n",
       "    .dataframe tbody tr th:only-of-type {\n",
       "        vertical-align: middle;\n",
       "    }\n",
       "\n",
       "    .dataframe tbody tr th {\n",
       "        vertical-align: top;\n",
       "    }\n",
       "\n",
       "    .dataframe thead th {\n",
       "        text-align: right;\n",
       "    }\n",
       "</style>\n",
       "<table border=\"1\" class=\"dataframe\">\n",
       "  <thead>\n",
       "    <tr style=\"text-align: right;\">\n",
       "      <th></th>\n",
       "      <th>Crude</th>\n",
       "      <th>carbon futures</th>\n",
       "      <th>wheat</th>\n",
       "    </tr>\n",
       "  </thead>\n",
       "  <tbody>\n",
       "    <tr>\n",
       "      <th>Crude</th>\n",
       "      <td>1.000000</td>\n",
       "      <td>-0.149471</td>\n",
       "      <td>0.630284</td>\n",
       "    </tr>\n",
       "    <tr>\n",
       "      <th>carbon futures</th>\n",
       "      <td>-0.149471</td>\n",
       "      <td>1.000000</td>\n",
       "      <td>0.260287</td>\n",
       "    </tr>\n",
       "    <tr>\n",
       "      <th>wheat</th>\n",
       "      <td>0.630284</td>\n",
       "      <td>0.260287</td>\n",
       "      <td>1.000000</td>\n",
       "    </tr>\n",
       "  </tbody>\n",
       "</table>\n",
       "</div>"
      ],
      "text/plain": [
       "                   Crude  carbon futures     wheat\n",
       "Crude           1.000000       -0.149471  0.630284\n",
       "carbon futures -0.149471        1.000000  0.260287\n",
       "wheat           0.630284        0.260287  1.000000"
      ]
     },
     "execution_count": 205,
     "metadata": {},
     "output_type": "execute_result"
    }
   ],
   "source": [
    "# Create correlation matrix\n",
    "correlations_df = combined_df_.corr()\n",
    "correlations_df"
   ]
  },
  {
   "cell_type": "code",
   "execution_count": 206,
   "id": "e95709d6",
   "metadata": {},
   "outputs": [
    {
     "data": {
      "image/png": "[encoded data removed]",
      "text/plain": [
       "<Figure size 432x288 with 2 Axes>"
      ]
     },
     "metadata": {
      "needs_background": "light"
     },
     "output_type": "display_data"
    }
   ],
   "source": [
    "# Show correlation matrix\n",
    "sns.heatmap(correlations_df,cmap='viridis',annot=True,vmin=-1,vmax=1);"
   ]
  }
 ],
 "metadata": {
  "kernelspec": {
   "display_name": "Python 3 (ipykernel)",
   "language": "python",
   "name": "python3"
  },
  "language_info": {
   "codemirror_mode": {
    "name": "ipython",
    "version": 3
   },
   "file_extension": ".py",
   "mimetype": "text/x-python",
   "name": "python",
   "nbconvert_exporter": "python",
   "pygments_lexer": "ipython3",
   "version": "3.9.12"
  }
 },
 "nbformat": 4,
 "nbformat_minor": 5
}
