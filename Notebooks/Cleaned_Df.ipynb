{
 "cells": [
  {
   "cell_type": "code",
   "execution_count": 26,
   "id": "c7c01040",
   "metadata": {},
   "outputs": [],
   "source": [
    "import investpy\n",
    "import pandas as pd\n",
    "import datetime as dt\n",
    "import yfinance as yf\n",
    "import csv"
   ]
  },
  {
   "cell_type": "code",
   "execution_count": 27,
   "id": "0d265b25",
   "metadata": {},
   "outputs": [],
   "source": [
    "df = investpy.get_commodities()"
   ]
  },
  {
   "cell_type": "markdown",
   "id": "89e832c2",
   "metadata": {},
   "source": [
    "# Crude Oil WTI Dataset"
   ]
  },
  {
   "cell_type": "code",
   "execution_count": 29,
   "id": "26efd693",
   "metadata": {},
   "outputs": [],
   "source": [
    "Crude_oil_df = investpy.get_commodity_historical_data(commodity='Crude Oil WTI', from_date='01/01/2012', to_date='01/01/2022')"
   ]
  },
  {
   "cell_type": "code",
   "execution_count": 30,
   "id": "7fa8919c",
   "metadata": {},
   "outputs": [
    {
     "data": {
      "text/plain": [
       "Open        0\n",
       "High        0\n",
       "Low         0\n",
       "Close       0\n",
       "Volume      0\n",
       "Currency    0\n",
       "dtype: int64"
      ]
     },
     "execution_count": 30,
     "metadata": {},
     "output_type": "execute_result"
    }
   ],
   "source": [
    "Crude_oil_df.isnull().sum()"
   ]
  },
  {
   "cell_type": "code",
   "execution_count": 31,
   "id": "648015d3",
   "metadata": {},
   "outputs": [],
   "source": [
    "Crude_oil_df.dropna(inplace=True)"
   ]
  },
  {
   "cell_type": "code",
   "execution_count": 32,
   "id": "39d5908a",
   "metadata": {},
   "outputs": [
    {
     "data": {
      "text/plain": [
       "Open        float64\n",
       "High        float64\n",
       "Low         float64\n",
       "Close       float64\n",
       "Volume        int64\n",
       "Currency     object\n",
       "dtype: object"
      ]
     },
     "execution_count": 32,
     "metadata": {},
     "output_type": "execute_result"
    }
   ],
   "source": [
    "Crude_oil_df.dtypes"
   ]
  },
  {
   "cell_type": "code",
   "execution_count": 33,
   "id": "ec03520b",
   "metadata": {},
   "outputs": [],
   "source": [
    "Crude_oil_df.drop([\"Volume\",\"Currency\"], axis=1,inplace=True)"
   ]
  },
  {
   "cell_type": "code",
   "execution_count": 34,
   "id": "33f246cc",
   "metadata": {},
   "outputs": [
    {
     "data": {
      "text/html": [
       "<div>\n",
       "<style scoped>\n",
       "    .dataframe tbody tr th:only-of-type {\n",
       "        vertical-align: middle;\n",
       "    }\n",
       "\n",
       "    .dataframe tbody tr th {\n",
       "        vertical-align: top;\n",
       "    }\n",
       "\n",
       "    .dataframe thead th {\n",
       "        text-align: right;\n",
       "    }\n",
       "</style>\n",
       "<table border=\"1\" class=\"dataframe\">\n",
       "  <thead>\n",
       "    <tr style=\"text-align: right;\">\n",
       "      <th></th>\n",
       "      <th>Open</th>\n",
       "      <th>High</th>\n",
       "      <th>Low</th>\n",
       "      <th>Close</th>\n",
       "    </tr>\n",
       "    <tr>\n",
       "      <th>Date</th>\n",
       "      <th></th>\n",
       "      <th></th>\n",
       "      <th></th>\n",
       "      <th></th>\n",
       "    </tr>\n",
       "  </thead>\n",
       "  <tbody>\n",
       "    <tr>\n",
       "      <th>2012-01-03</th>\n",
       "      <td>99.70</td>\n",
       "      <td>103.18</td>\n",
       "      <td>99.65</td>\n",
       "      <td>102.96</td>\n",
       "    </tr>\n",
       "    <tr>\n",
       "      <th>2012-01-04</th>\n",
       "      <td>102.99</td>\n",
       "      <td>103.74</td>\n",
       "      <td>101.88</td>\n",
       "      <td>103.22</td>\n",
       "    </tr>\n",
       "    <tr>\n",
       "      <th>2012-01-05</th>\n",
       "      <td>103.29</td>\n",
       "      <td>103.73</td>\n",
       "      <td>101.30</td>\n",
       "      <td>101.81</td>\n",
       "    </tr>\n",
       "    <tr>\n",
       "      <th>2012-01-06</th>\n",
       "      <td>101.35</td>\n",
       "      <td>102.80</td>\n",
       "      <td>100.88</td>\n",
       "      <td>101.56</td>\n",
       "    </tr>\n",
       "    <tr>\n",
       "      <th>2012-01-09</th>\n",
       "      <td>101.92</td>\n",
       "      <td>102.15</td>\n",
       "      <td>100.10</td>\n",
       "      <td>101.31</td>\n",
       "    </tr>\n",
       "    <tr>\n",
       "      <th>...</th>\n",
       "      <td>...</td>\n",
       "      <td>...</td>\n",
       "      <td>...</td>\n",
       "      <td>...</td>\n",
       "    </tr>\n",
       "    <tr>\n",
       "      <th>2021-12-27</th>\n",
       "      <td>73.38</td>\n",
       "      <td>76.09</td>\n",
       "      <td>72.57</td>\n",
       "      <td>75.57</td>\n",
       "    </tr>\n",
       "    <tr>\n",
       "      <th>2021-12-28</th>\n",
       "      <td>75.97</td>\n",
       "      <td>76.92</td>\n",
       "      <td>75.53</td>\n",
       "      <td>75.98</td>\n",
       "    </tr>\n",
       "    <tr>\n",
       "      <th>2021-12-29</th>\n",
       "      <td>76.04</td>\n",
       "      <td>77.37</td>\n",
       "      <td>75.36</td>\n",
       "      <td>76.56</td>\n",
       "    </tr>\n",
       "    <tr>\n",
       "      <th>2021-12-30</th>\n",
       "      <td>76.58</td>\n",
       "      <td>77.44</td>\n",
       "      <td>75.78</td>\n",
       "      <td>76.99</td>\n",
       "    </tr>\n",
       "    <tr>\n",
       "      <th>2021-12-31</th>\n",
       "      <td>76.66</td>\n",
       "      <td>77.08</td>\n",
       "      <td>74.95</td>\n",
       "      <td>75.21</td>\n",
       "    </tr>\n",
       "  </tbody>\n",
       "</table>\n",
       "<p>2614 rows × 4 columns</p>\n",
       "</div>"
      ],
      "text/plain": [
       "              Open    High     Low   Close\n",
       "Date                                      \n",
       "2012-01-03   99.70  103.18   99.65  102.96\n",
       "2012-01-04  102.99  103.74  101.88  103.22\n",
       "2012-01-05  103.29  103.73  101.30  101.81\n",
       "2012-01-06  101.35  102.80  100.88  101.56\n",
       "2012-01-09  101.92  102.15  100.10  101.31\n",
       "...            ...     ...     ...     ...\n",
       "2021-12-27   73.38   76.09   72.57   75.57\n",
       "2021-12-28   75.97   76.92   75.53   75.98\n",
       "2021-12-29   76.04   77.37   75.36   76.56\n",
       "2021-12-30   76.58   77.44   75.78   76.99\n",
       "2021-12-31   76.66   77.08   74.95   75.21\n",
       "\n",
       "[2614 rows x 4 columns]"
      ]
     },
     "execution_count": 34,
     "metadata": {},
     "output_type": "execute_result"
    }
   ],
   "source": [
    "Crude_oil_df"
   ]
  },
  {
   "cell_type": "code",
   "execution_count": 35,
   "id": "229cfe4a",
   "metadata": {},
   "outputs": [],
   "source": [
    "Crude_oil_df.to_csv(\"Crude_oil_df-Update.csv\")"
   ]
  },
  {
   "cell_type": "markdown",
   "id": "fcef9c72",
   "metadata": {},
   "source": [
    "# US Wheat dataset"
   ]
  },
  {
   "cell_type": "code",
   "execution_count": 36,
   "id": "ed3e42ec",
   "metadata": {},
   "outputs": [],
   "source": [
    "US_wheat_df = investpy.get_commodity_historical_data(commodity='US Wheat', from_date='01/01/2012', to_date='01/01/2022')"
   ]
  },
  {
   "cell_type": "code",
   "execution_count": 37,
   "id": "c00c5d5d",
   "metadata": {},
   "outputs": [
    {
     "data": {
      "text/plain": [
       "Open        0\n",
       "High        0\n",
       "Low         0\n",
       "Close       0\n",
       "Volume      0\n",
       "Currency    0\n",
       "dtype: int64"
      ]
     },
     "execution_count": 37,
     "metadata": {},
     "output_type": "execute_result"
    }
   ],
   "source": [
    "US_wheat_df.isnull().sum()"
   ]
  },
  {
   "cell_type": "code",
   "execution_count": 38,
   "id": "abe38dfb",
   "metadata": {},
   "outputs": [],
   "source": [
    "US_wheat_df.dropna(inplace=True)"
   ]
  },
  {
   "cell_type": "code",
   "execution_count": 39,
   "id": "39fd96d8",
   "metadata": {},
   "outputs": [
    {
     "data": {
      "text/plain": [
       "Open        float64\n",
       "High        float64\n",
       "Low         float64\n",
       "Close       float64\n",
       "Volume        int64\n",
       "Currency     object\n",
       "dtype: object"
      ]
     },
     "execution_count": 39,
     "metadata": {},
     "output_type": "execute_result"
    }
   ],
   "source": [
    "US_wheat_df.dtypes"
   ]
  },
  {
   "cell_type": "code",
   "execution_count": 40,
   "id": "b5e5a998",
   "metadata": {},
   "outputs": [],
   "source": [
    "US_wheat_df.drop([\"Volume\",\"Currency\"], axis=1,inplace=True)"
   ]
  },
  {
   "cell_type": "code",
   "execution_count": 41,
   "id": "ee8f2e23",
   "metadata": {},
   "outputs": [
    {
     "data": {
      "text/html": [
       "<div>\n",
       "<style scoped>\n",
       "    .dataframe tbody tr th:only-of-type {\n",
       "        vertical-align: middle;\n",
       "    }\n",
       "\n",
       "    .dataframe tbody tr th {\n",
       "        vertical-align: top;\n",
       "    }\n",
       "\n",
       "    .dataframe thead th {\n",
       "        text-align: right;\n",
       "    }\n",
       "</style>\n",
       "<table border=\"1\" class=\"dataframe\">\n",
       "  <thead>\n",
       "    <tr style=\"text-align: right;\">\n",
       "      <th></th>\n",
       "      <th>Open</th>\n",
       "      <th>High</th>\n",
       "      <th>Low</th>\n",
       "      <th>Close</th>\n",
       "    </tr>\n",
       "    <tr>\n",
       "      <th>Date</th>\n",
       "      <th></th>\n",
       "      <th></th>\n",
       "      <th></th>\n",
       "      <th></th>\n",
       "    </tr>\n",
       "  </thead>\n",
       "  <tbody>\n",
       "    <tr>\n",
       "      <th>2012-01-02</th>\n",
       "      <td>653.13</td>\n",
       "      <td>653.13</td>\n",
       "      <td>653.13</td>\n",
       "      <td>653.13</td>\n",
       "    </tr>\n",
       "    <tr>\n",
       "      <th>2012-01-03</th>\n",
       "      <td>665.88</td>\n",
       "      <td>670.50</td>\n",
       "      <td>654.00</td>\n",
       "      <td>658.38</td>\n",
       "    </tr>\n",
       "    <tr>\n",
       "      <th>2012-01-04</th>\n",
       "      <td>656.38</td>\n",
       "      <td>661.13</td>\n",
       "      <td>645.63</td>\n",
       "      <td>650.13</td>\n",
       "    </tr>\n",
       "    <tr>\n",
       "      <th>2012-01-05</th>\n",
       "      <td>649.13</td>\n",
       "      <td>650.13</td>\n",
       "      <td>627.13</td>\n",
       "      <td>627.38</td>\n",
       "    </tr>\n",
       "    <tr>\n",
       "      <th>2012-01-06</th>\n",
       "      <td>629.38</td>\n",
       "      <td>636.88</td>\n",
       "      <td>624.63</td>\n",
       "      <td>624.63</td>\n",
       "    </tr>\n",
       "    <tr>\n",
       "      <th>...</th>\n",
       "      <td>...</td>\n",
       "      <td>...</td>\n",
       "      <td>...</td>\n",
       "      <td>...</td>\n",
       "    </tr>\n",
       "    <tr>\n",
       "      <th>2021-12-27</th>\n",
       "      <td>817.50</td>\n",
       "      <td>824.00</td>\n",
       "      <td>802.50</td>\n",
       "      <td>804.00</td>\n",
       "    </tr>\n",
       "    <tr>\n",
       "      <th>2021-12-28</th>\n",
       "      <td>805.75</td>\n",
       "      <td>808.00</td>\n",
       "      <td>781.75</td>\n",
       "      <td>783.50</td>\n",
       "    </tr>\n",
       "    <tr>\n",
       "      <th>2021-12-29</th>\n",
       "      <td>785.25</td>\n",
       "      <td>793.00</td>\n",
       "      <td>774.00</td>\n",
       "      <td>787.75</td>\n",
       "    </tr>\n",
       "    <tr>\n",
       "      <th>2021-12-30</th>\n",
       "      <td>789.50</td>\n",
       "      <td>791.75</td>\n",
       "      <td>776.00</td>\n",
       "      <td>779.75</td>\n",
       "    </tr>\n",
       "    <tr>\n",
       "      <th>2021-12-31</th>\n",
       "      <td>782.50</td>\n",
       "      <td>787.75</td>\n",
       "      <td>769.50</td>\n",
       "      <td>770.75</td>\n",
       "    </tr>\n",
       "  </tbody>\n",
       "</table>\n",
       "<p>2612 rows × 4 columns</p>\n",
       "</div>"
      ],
      "text/plain": [
       "              Open    High     Low   Close\n",
       "Date                                      \n",
       "2012-01-02  653.13  653.13  653.13  653.13\n",
       "2012-01-03  665.88  670.50  654.00  658.38\n",
       "2012-01-04  656.38  661.13  645.63  650.13\n",
       "2012-01-05  649.13  650.13  627.13  627.38\n",
       "2012-01-06  629.38  636.88  624.63  624.63\n",
       "...            ...     ...     ...     ...\n",
       "2021-12-27  817.50  824.00  802.50  804.00\n",
       "2021-12-28  805.75  808.00  781.75  783.50\n",
       "2021-12-29  785.25  793.00  774.00  787.75\n",
       "2021-12-30  789.50  791.75  776.00  779.75\n",
       "2021-12-31  782.50  787.75  769.50  770.75\n",
       "\n",
       "[2612 rows x 4 columns]"
      ]
     },
     "execution_count": 41,
     "metadata": {},
     "output_type": "execute_result"
    }
   ],
   "source": [
    "US_wheat_df"
   ]
  },
  {
   "cell_type": "code",
   "execution_count": 42,
   "id": "e5766f6f",
   "metadata": {},
   "outputs": [],
   "source": [
    "US_wheat_df.to_csv(\"US_wheat_df-Update.csv\")"
   ]
  },
  {
   "cell_type": "markdown",
   "id": "6919ef6b",
   "metadata": {},
   "source": [
    "# KHC_Stock"
   ]
  },
  {
   "cell_type": "code",
   "execution_count": 43,
   "id": "f0d0661f",
   "metadata": {},
   "outputs": [],
   "source": [
    "KHC_Stock = investpy.get_stock_historical_data(stock='KHC', country='united states', from_date='01/01/2012', to_date='01/01/2022')"
   ]
  },
  {
   "cell_type": "code",
   "execution_count": 44,
   "id": "b245b94f",
   "metadata": {},
   "outputs": [
    {
     "data": {
      "text/plain": [
       "Open        0\n",
       "High        0\n",
       "Low         0\n",
       "Close       0\n",
       "Volume      0\n",
       "Currency    0\n",
       "dtype: int64"
      ]
     },
     "execution_count": 44,
     "metadata": {},
     "output_type": "execute_result"
    }
   ],
   "source": [
    "KHC_Stock.isnull().sum()"
   ]
  },
  {
   "cell_type": "code",
   "execution_count": 45,
   "id": "f57913b3",
   "metadata": {},
   "outputs": [
    {
     "data": {
      "text/plain": [
       "Open        float64\n",
       "High        float64\n",
       "Low         float64\n",
       "Close       float64\n",
       "Volume        int64\n",
       "Currency     object\n",
       "dtype: object"
      ]
     },
     "execution_count": 45,
     "metadata": {},
     "output_type": "execute_result"
    }
   ],
   "source": [
    "KHC_Stock.dtypes"
   ]
  },
  {
   "cell_type": "code",
   "execution_count": 46,
   "id": "49ed691b",
   "metadata": {},
   "outputs": [],
   "source": [
    "KHC_Stock.dropna(inplace=True)"
   ]
  },
  {
   "cell_type": "code",
   "execution_count": 47,
   "id": "0c3da24b",
   "metadata": {},
   "outputs": [],
   "source": [
    "KHC_Stock.drop([\"Volume\",\"Currency\"], axis=1,inplace=True)"
   ]
  },
  {
   "cell_type": "code",
   "execution_count": 48,
   "id": "c8fa64e5",
   "metadata": {},
   "outputs": [],
   "source": [
    "KHC_Stock.to_csv(\"KHC_Stock-Update.csv\")"
   ]
  },
  {
   "cell_type": "markdown",
   "id": "59c9cb6d",
   "metadata": {},
   "source": [
    "# US Dollar dataset"
   ]
  },
  {
   "cell_type": "code",
   "execution_count": 49,
   "id": "c7afd3a0",
   "metadata": {},
   "outputs": [],
   "source": [
    "US_Dollar_Index = investpy.get_index_historical_data(index='US Dollar Index', country='united states', from_date='01/01/2012', to_date='01/01/2022')"
   ]
  },
  {
   "cell_type": "code",
   "execution_count": 50,
   "id": "eff5f749",
   "metadata": {},
   "outputs": [
    {
     "data": {
      "text/plain": [
       "Open        0\n",
       "High        0\n",
       "Low         0\n",
       "Close       0\n",
       "Volume      0\n",
       "Currency    0\n",
       "dtype: int64"
      ]
     },
     "execution_count": 50,
     "metadata": {},
     "output_type": "execute_result"
    }
   ],
   "source": [
    "US_Dollar_Index.isnull().sum()"
   ]
  },
  {
   "cell_type": "code",
   "execution_count": 51,
   "id": "cef08e56",
   "metadata": {},
   "outputs": [
    {
     "data": {
      "text/plain": [
       "Open        float64\n",
       "High        float64\n",
       "Low         float64\n",
       "Close       float64\n",
       "Volume        int64\n",
       "Currency     object\n",
       "dtype: object"
      ]
     },
     "execution_count": 51,
     "metadata": {},
     "output_type": "execute_result"
    }
   ],
   "source": [
    "US_Dollar_Index.dtypes"
   ]
  },
  {
   "cell_type": "code",
   "execution_count": 52,
   "id": "aac4bab3",
   "metadata": {},
   "outputs": [],
   "source": [
    "US_Dollar_Index.drop([\"Volume\",\"Currency\"], axis=1,inplace=True)"
   ]
  },
  {
   "cell_type": "code",
   "execution_count": 53,
   "id": "45ccccd1",
   "metadata": {},
   "outputs": [],
   "source": [
    "US_Dollar_Index.to_csv(\"US_Dollar_Index-Update.csv\")"
   ]
  },
  {
   "cell_type": "markdown",
   "id": "ba5788cf",
   "metadata": {},
   "source": [
    "# CBOE Volatility Index dataset"
   ]
  },
  {
   "cell_type": "code",
   "execution_count": 54,
   "id": "724116f6",
   "metadata": {},
   "outputs": [],
   "source": [
    "SP_500_VIX = investpy.get_index_historical_data(index='S&P 500 VIX', country='united states', from_date='01/01/2012', to_date='01/01/2022')"
   ]
  },
  {
   "cell_type": "code",
   "execution_count": 55,
   "id": "5793c351",
   "metadata": {},
   "outputs": [
    {
     "data": {
      "text/plain": [
       "Open        0\n",
       "High        0\n",
       "Low         0\n",
       "Close       0\n",
       "Volume      0\n",
       "Currency    0\n",
       "dtype: int64"
      ]
     },
     "execution_count": 55,
     "metadata": {},
     "output_type": "execute_result"
    }
   ],
   "source": [
    "SP_500_VIX.isnull().sum()"
   ]
  },
  {
   "cell_type": "code",
   "execution_count": 56,
   "id": "e9fcf027",
   "metadata": {},
   "outputs": [
    {
     "data": {
      "text/plain": [
       "Open        float64\n",
       "High        float64\n",
       "Low         float64\n",
       "Close       float64\n",
       "Volume        int64\n",
       "Currency     object\n",
       "dtype: object"
      ]
     },
     "execution_count": 56,
     "metadata": {},
     "output_type": "execute_result"
    }
   ],
   "source": [
    "SP_500_VIX.dtypes"
   ]
  },
  {
   "cell_type": "code",
   "execution_count": 57,
   "id": "6593a81b",
   "metadata": {},
   "outputs": [],
   "source": [
    "SP_500_VIX.drop([\"Volume\",\"Currency\"], axis=1,inplace=True)"
   ]
  },
  {
   "cell_type": "code",
   "execution_count": 58,
   "id": "1ead7855",
   "metadata": {},
   "outputs": [],
   "source": [
    "SP_500_VIX.to_csv(\"SP_500_VIX-Update.csv\")"
   ]
  },
  {
   "cell_type": "markdown",
   "id": "d5230291",
   "metadata": {},
   "source": [
    "# CO2 dataset"
   ]
  },
  {
   "cell_type": "code",
   "execution_count": 59,
   "id": "5a5d6dc9",
   "metadata": {},
   "outputs": [
    {
     "ename": "FileNotFoundError",
     "evalue": "[Errno 2] No such file or directory: '..\\\\Downloads\\\\emission data.csv'",
     "output_type": "error",
     "traceback": [
      "\u001b[1;31m---------------------------------------------------------------------------\u001b[0m",
      "\u001b[1;31mFileNotFoundError\u001b[0m                         Traceback (most recent call last)",
      "Input \u001b[1;32mIn [59]\u001b[0m, in \u001b[0;36m<cell line: 1>\u001b[1;34m()\u001b[0m\n\u001b[1;32m----> 1\u001b[0m CO2_emissions \u001b[38;5;241m=\u001b[39m \u001b[43mpd\u001b[49m\u001b[38;5;241;43m.\u001b[39;49m\u001b[43mread_csv\u001b[49m\u001b[43m(\u001b[49m\u001b[38;5;124;43m\"\u001b[39;49m\u001b[38;5;124;43m..\u001b[39;49m\u001b[38;5;130;43;01m\\\\\u001b[39;49;00m\u001b[38;5;124;43mDownloads\u001b[39;49m\u001b[38;5;130;43;01m\\\\\u001b[39;49;00m\u001b[38;5;124;43memission data.csv\u001b[39;49m\u001b[38;5;124;43m\"\u001b[39;49m\u001b[43m)\u001b[49m\n",
      "File \u001b[1;32m~\\AppData\\Roaming\\Python\\Python39\\site-packages\\pandas\\io\\parsers.py:688\u001b[0m, in \u001b[0;36mread_csv\u001b[1;34m(filepath_or_buffer, sep, delimiter, header, names, index_col, usecols, squeeze, prefix, mangle_dupe_cols, dtype, engine, converters, true_values, false_values, skipinitialspace, skiprows, skipfooter, nrows, na_values, keep_default_na, na_filter, verbose, skip_blank_lines, parse_dates, infer_datetime_format, keep_date_col, date_parser, dayfirst, cache_dates, iterator, chunksize, compression, thousands, decimal, lineterminator, quotechar, quoting, doublequote, escapechar, comment, encoding, dialect, error_bad_lines, warn_bad_lines, delim_whitespace, low_memory, memory_map, float_precision)\u001b[0m\n\u001b[0;32m    635\u001b[0m     engine_specified \u001b[38;5;241m=\u001b[39m \u001b[38;5;28;01mFalse\u001b[39;00m\n\u001b[0;32m    637\u001b[0m kwds\u001b[38;5;241m.\u001b[39mupdate(\n\u001b[0;32m    638\u001b[0m     delimiter\u001b[38;5;241m=\u001b[39mdelimiter,\n\u001b[0;32m    639\u001b[0m     engine\u001b[38;5;241m=\u001b[39mengine,\n\u001b[1;32m   (...)\u001b[0m\n\u001b[0;32m    685\u001b[0m     skip_blank_lines\u001b[38;5;241m=\u001b[39mskip_blank_lines,\n\u001b[0;32m    686\u001b[0m )\n\u001b[1;32m--> 688\u001b[0m \u001b[38;5;28;01mreturn\u001b[39;00m \u001b[43m_read\u001b[49m\u001b[43m(\u001b[49m\u001b[43mfilepath_or_buffer\u001b[49m\u001b[43m,\u001b[49m\u001b[43m \u001b[49m\u001b[43mkwds\u001b[49m\u001b[43m)\u001b[49m\n",
      "File \u001b[1;32m~\\AppData\\Roaming\\Python\\Python39\\site-packages\\pandas\\io\\parsers.py:454\u001b[0m, in \u001b[0;36m_read\u001b[1;34m(filepath_or_buffer, kwds)\u001b[0m\n\u001b[0;32m    451\u001b[0m _validate_names(kwds\u001b[38;5;241m.\u001b[39mget(\u001b[38;5;124m\"\u001b[39m\u001b[38;5;124mnames\u001b[39m\u001b[38;5;124m\"\u001b[39m, \u001b[38;5;28;01mNone\u001b[39;00m))\n\u001b[0;32m    453\u001b[0m \u001b[38;5;66;03m# Create the parser.\u001b[39;00m\n\u001b[1;32m--> 454\u001b[0m parser \u001b[38;5;241m=\u001b[39m TextFileReader(fp_or_buf, \u001b[38;5;241m*\u001b[39m\u001b[38;5;241m*\u001b[39mkwds)\n\u001b[0;32m    456\u001b[0m \u001b[38;5;28;01mif\u001b[39;00m chunksize \u001b[38;5;129;01mor\u001b[39;00m iterator:\n\u001b[0;32m    457\u001b[0m     \u001b[38;5;28;01mreturn\u001b[39;00m parser\n",
      "File \u001b[1;32m~\\AppData\\Roaming\\Python\\Python39\\site-packages\\pandas\\io\\parsers.py:948\u001b[0m, in \u001b[0;36mTextFileReader.__init__\u001b[1;34m(self, f, engine, **kwds)\u001b[0m\n\u001b[0;32m    945\u001b[0m \u001b[38;5;28;01mif\u001b[39;00m \u001b[38;5;124m\"\u001b[39m\u001b[38;5;124mhas_index_names\u001b[39m\u001b[38;5;124m\"\u001b[39m \u001b[38;5;129;01min\u001b[39;00m kwds:\n\u001b[0;32m    946\u001b[0m     \u001b[38;5;28mself\u001b[39m\u001b[38;5;241m.\u001b[39moptions[\u001b[38;5;124m\"\u001b[39m\u001b[38;5;124mhas_index_names\u001b[39m\u001b[38;5;124m\"\u001b[39m] \u001b[38;5;241m=\u001b[39m kwds[\u001b[38;5;124m\"\u001b[39m\u001b[38;5;124mhas_index_names\u001b[39m\u001b[38;5;124m\"\u001b[39m]\n\u001b[1;32m--> 948\u001b[0m \u001b[38;5;28;43mself\u001b[39;49m\u001b[38;5;241;43m.\u001b[39;49m\u001b[43m_make_engine\u001b[49m\u001b[43m(\u001b[49m\u001b[38;5;28;43mself\u001b[39;49m\u001b[38;5;241;43m.\u001b[39;49m\u001b[43mengine\u001b[49m\u001b[43m)\u001b[49m\n",
      "File \u001b[1;32m~\\AppData\\Roaming\\Python\\Python39\\site-packages\\pandas\\io\\parsers.py:1180\u001b[0m, in \u001b[0;36mTextFileReader._make_engine\u001b[1;34m(self, engine)\u001b[0m\n\u001b[0;32m   1178\u001b[0m \u001b[38;5;28;01mdef\u001b[39;00m \u001b[38;5;21m_make_engine\u001b[39m(\u001b[38;5;28mself\u001b[39m, engine\u001b[38;5;241m=\u001b[39m\u001b[38;5;124m\"\u001b[39m\u001b[38;5;124mc\u001b[39m\u001b[38;5;124m\"\u001b[39m):\n\u001b[0;32m   1179\u001b[0m     \u001b[38;5;28;01mif\u001b[39;00m engine \u001b[38;5;241m==\u001b[39m \u001b[38;5;124m\"\u001b[39m\u001b[38;5;124mc\u001b[39m\u001b[38;5;124m\"\u001b[39m:\n\u001b[1;32m-> 1180\u001b[0m         \u001b[38;5;28mself\u001b[39m\u001b[38;5;241m.\u001b[39m_engine \u001b[38;5;241m=\u001b[39m CParserWrapper(\u001b[38;5;28mself\u001b[39m\u001b[38;5;241m.\u001b[39mf, \u001b[38;5;241m*\u001b[39m\u001b[38;5;241m*\u001b[39m\u001b[38;5;28mself\u001b[39m\u001b[38;5;241m.\u001b[39moptions)\n\u001b[0;32m   1181\u001b[0m     \u001b[38;5;28;01melse\u001b[39;00m:\n\u001b[0;32m   1182\u001b[0m         \u001b[38;5;28;01mif\u001b[39;00m engine \u001b[38;5;241m==\u001b[39m \u001b[38;5;124m\"\u001b[39m\u001b[38;5;124mpython\u001b[39m\u001b[38;5;124m\"\u001b[39m:\n",
      "File \u001b[1;32m~\\AppData\\Roaming\\Python\\Python39\\site-packages\\pandas\\io\\parsers.py:2010\u001b[0m, in \u001b[0;36mCParserWrapper.__init__\u001b[1;34m(self, src, **kwds)\u001b[0m\n\u001b[0;32m   2007\u001b[0m \u001b[38;5;28mself\u001b[39m\u001b[38;5;241m.\u001b[39musecols, \u001b[38;5;28mself\u001b[39m\u001b[38;5;241m.\u001b[39musecols_dtype \u001b[38;5;241m=\u001b[39m _validate_usecols_arg(kwds[\u001b[38;5;124m\"\u001b[39m\u001b[38;5;124musecols\u001b[39m\u001b[38;5;124m\"\u001b[39m])\n\u001b[0;32m   2008\u001b[0m kwds[\u001b[38;5;124m\"\u001b[39m\u001b[38;5;124musecols\u001b[39m\u001b[38;5;124m\"\u001b[39m] \u001b[38;5;241m=\u001b[39m \u001b[38;5;28mself\u001b[39m\u001b[38;5;241m.\u001b[39musecols\n\u001b[1;32m-> 2010\u001b[0m \u001b[38;5;28mself\u001b[39m\u001b[38;5;241m.\u001b[39m_reader \u001b[38;5;241m=\u001b[39m parsers\u001b[38;5;241m.\u001b[39mTextReader(src, \u001b[38;5;241m*\u001b[39m\u001b[38;5;241m*\u001b[39mkwds)\n\u001b[0;32m   2011\u001b[0m \u001b[38;5;28mself\u001b[39m\u001b[38;5;241m.\u001b[39munnamed_cols \u001b[38;5;241m=\u001b[39m \u001b[38;5;28mself\u001b[39m\u001b[38;5;241m.\u001b[39m_reader\u001b[38;5;241m.\u001b[39munnamed_cols\n\u001b[0;32m   2013\u001b[0m passed_names \u001b[38;5;241m=\u001b[39m \u001b[38;5;28mself\u001b[39m\u001b[38;5;241m.\u001b[39mnames \u001b[38;5;129;01mis\u001b[39;00m \u001b[38;5;28;01mNone\u001b[39;00m\n",
      "File \u001b[1;32m~\\.conda\\envs\\dev\\lib\\site-packages\\pandas\\_libs\\parsers.pyx:382\u001b[0m, in \u001b[0;36mpandas._libs.parsers.TextReader.__cinit__\u001b[1;34m()\u001b[0m\n",
      "File \u001b[1;32m~\\.conda\\envs\\dev\\lib\\site-packages\\pandas\\_libs\\parsers.pyx:674\u001b[0m, in \u001b[0;36mpandas._libs.parsers.TextReader._setup_parser_source\u001b[1;34m()\u001b[0m\n",
      "\u001b[1;31mFileNotFoundError\u001b[0m: [Errno 2] No such file or directory: '..\\\\Downloads\\\\emission data.csv'"
     ]
    }
   ],
   "source": [
    "CO2_emissions = pd.read_csv(\"..\\\\Downloads\\\\emission data.csv\")"
   ]
  },
  {
   "cell_type": "code",
   "execution_count": null,
   "id": "04403672",
   "metadata": {},
   "outputs": [],
   "source": [
    "CO2_emissions"
   ]
  },
  {
   "cell_type": "code",
   "execution_count": null,
   "id": "6ba901e8",
   "metadata": {},
   "outputs": [],
   "source": [
    "CO2_df = CO2_emissions.reset_index().T"
   ]
  },
  {
   "cell_type": "code",
   "execution_count": null,
   "id": "7f6d8331",
   "metadata": {},
   "outputs": [],
   "source": [
    "CO2_df.head()"
   ]
  },
  {
   "cell_type": "code",
   "execution_count": null,
   "id": "283e7183",
   "metadata": {},
   "outputs": [],
   "source": [
    "CO2_df.iloc[220,262:]"
   ]
  },
  {
   "cell_type": "code",
   "execution_count": null,
   "id": "302b46b1",
   "metadata": {},
   "outputs": [],
   "source": [
    "type(CO2_df.iloc[220,262:])"
   ]
  },
  {
   "cell_type": "markdown",
   "id": "695ab80b",
   "metadata": {},
   "source": [
    "## Average price data (in U.S. dollars), selected items"
   ]
  },
  {
   "cell_type": "code",
   "execution_count": null,
   "id": "9f4cff5d",
   "metadata": {},
   "outputs": [],
   "source": [
    "CPI = pd.read_html(\"https://www.bls.gov/charts/consumer-price-index/consumer-price-index-by-category-line-chart.htm\")[0]\n",
    "                 "
   ]
  },
  {
   "cell_type": "code",
   "execution_count": null,
   "id": "f9e1c264",
   "metadata": {},
   "outputs": [],
   "source": [
    "CPI.isnull().sum()"
   ]
  },
  {
   "cell_type": "code",
   "execution_count": null,
   "id": "66f68e20",
   "metadata": {},
   "outputs": [],
   "source": [
    "CPI.dropna(inplace=True)\n",
    " #parse_dates=True,infer_datetime_format=True,index_col=\"Month\""
   ]
  },
  {
   "cell_type": "code",
   "execution_count": null,
   "id": "c40590f7",
   "metadata": {},
   "outputs": [],
   "source": [
    "CPI_df = CPI.drop(['Food at home','Apparel','Shelter','New vehicles'],axis=1)"
   ]
  },
  {
   "cell_type": "code",
   "execution_count": null,
   "id": "a93c0325",
   "metadata": {},
   "outputs": [],
   "source": [
    "CPI_df = CPI_df.set_index(\"Month\")"
   ]
  },
  {
   "cell_type": "code",
   "execution_count": null,
   "id": "24c3d33d",
   "metadata": {},
   "outputs": [],
   "source": [
    "CPI_df = CPI_df.loc['Jan 2012':,:]\n"
   ]
  },
  {
   "cell_type": "code",
   "execution_count": null,
   "id": "6250fe7b",
   "metadata": {},
   "outputs": [],
   "source": [
    "CPI_df.isnull().any()"
   ]
  },
  {
   "cell_type": "code",
   "execution_count": null,
   "id": "b45c5ccc",
   "metadata": {},
   "outputs": [],
   "source": [
    "CPI_df.dtypes"
   ]
  },
  {
   "cell_type": "code",
   "execution_count": null,
   "id": "295ae42d",
   "metadata": {},
   "outputs": [],
   "source": [
    "CPI_df"
   ]
  },
  {
   "cell_type": "code",
   "execution_count": null,
   "id": "bd4b3a83",
   "metadata": {},
   "outputs": [],
   "source": [
    "CPI_df = CPI_df.reset_index('Month')"
   ]
  },
  {
   "cell_type": "code",
   "execution_count": null,
   "id": "2b16b45c",
   "metadata": {},
   "outputs": [],
   "source": [
    "CPI_df.to_csv(\"CPI_df-update.csv\",index=False)"
   ]
  }
 ],
 "metadata": {
  "kernelspec": {
   "display_name": "Python 3 (ipykernel)",
   "language": "python",
   "name": "python3"
  },
  "language_info": {
   "codemirror_mode": {
    "name": "ipython",
    "version": 3
   },
   "file_extension": ".py",
   "mimetype": "text/x-python",
   "name": "python",
   "nbconvert_exporter": "python",
   "pygments_lexer": "ipython3",
   "version": "3.9.12"
  }
 },
 "nbformat": 4,
 "nbformat_minor": 5
}
