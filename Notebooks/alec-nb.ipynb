{
 "cells": [
  {
   "cell_type": "code",
   "execution_count": 2,
   "metadata": {},
   "outputs": [],
   "source": [
    "# Imports\n",
    "import investpy\n",
    "import pandas as pd\n",
    "import numpy as np\n",
    "\n",
    "import seaborn as sns\n",
    "%matplotlib inline\n",
    "import matplotlib.pyplot as plt"
   ]
  },
  {
   "cell_type": "code",
   "execution_count": 3,
   "metadata": {},
   "outputs": [],
   "source": [
    "# Create wheat dataframe\n",
    "wheat_df = investpy.get_commodity_historical_data(\n",
    "                                                  commodity = 'US Wheat',\n",
    "                                                  country = 'united states',\n",
    "                                                  from_date = '01/01/2012',\n",
    "                                                  to_date = '01/01/2022'\n",
    "                                                  )\n",
    "wheat_df.drop(['Open','High','Low','Volume','Currency'], axis=1, inplace=True)\n",
    "wheat_df.rename(columns = {'Close': 'Wheat'}, inplace=True)"
   ]
  },
  {
   "cell_type": "code",
   "execution_count": 4,
   "metadata": {},
   "outputs": [],
   "source": [
    "# Create dollar index dataframe\n",
    "dollar_df = investpy.get_index_historical_data(\n",
    "                                               index = 'US Dollar Index',\n",
    "                                               country = 'united states',\n",
    "                                               from_date = '01/01/2012',\n",
    "                                               to_date = '01/01/2022'\n",
    "                                               )\n",
    "dollar_df.drop(['Open','High','Low','Volume','Currency'], axis=1, inplace=True)\n",
    "dollar_df.rename(columns = {'Close': 'Dollar'}, inplace=True)"
   ]
  },
  {
   "cell_type": "code",
   "execution_count": 10,
   "metadata": {},
   "outputs": [],
   "source": [
    "# Create VIX dataframe\n",
    "vix_df = investpy.get_index_historical_data(\n",
    "                                            index = 'S&P 500 VIX',\n",
    "                                            country = 'united states',\n",
    "                                            from_date = '01/01/2012',\n",
    "                                            to_date = '01/01/2022'\n",
    "                                            )\n",
    "vix_df.drop(['Open','High','Low','Volume','Currency'], axis=1, inplace=True)\n",
    "vix_df.rename(columns = {'Close': 'VIX'}, inplace=True)"
   ]
  },
  {
   "cell_type": "code",
   "execution_count": 11,
   "metadata": {},
   "outputs": [
    {
     "data": {
      "text/html": [
       "<div>\n",
       "<style scoped>\n",
       "    .dataframe tbody tr th:only-of-type {\n",
       "        vertical-align: middle;\n",
       "    }\n",
       "\n",
       "    .dataframe tbody tr th {\n",
       "        vertical-align: top;\n",
       "    }\n",
       "\n",
       "    .dataframe thead th {\n",
       "        text-align: right;\n",
       "    }\n",
       "</style>\n",
       "<table border=\"1\" class=\"dataframe\">\n",
       "  <thead>\n",
       "    <tr style=\"text-align: right;\">\n",
       "      <th></th>\n",
       "      <th>Wheat</th>\n",
       "      <th>Dollar</th>\n",
       "      <th>VIX</th>\n",
       "    </tr>\n",
       "    <tr>\n",
       "      <th>Date</th>\n",
       "      <th></th>\n",
       "      <th></th>\n",
       "      <th></th>\n",
       "    </tr>\n",
       "  </thead>\n",
       "  <tbody>\n",
       "    <tr>\n",
       "      <th>2012-01-03</th>\n",
       "      <td>658.38</td>\n",
       "      <td>79.61</td>\n",
       "      <td>22.97</td>\n",
       "    </tr>\n",
       "    <tr>\n",
       "      <th>2012-01-04</th>\n",
       "      <td>650.13</td>\n",
       "      <td>80.13</td>\n",
       "      <td>22.22</td>\n",
       "    </tr>\n",
       "    <tr>\n",
       "      <th>2012-01-05</th>\n",
       "      <td>627.38</td>\n",
       "      <td>80.94</td>\n",
       "      <td>21.48</td>\n",
       "    </tr>\n",
       "  </tbody>\n",
       "</table>\n",
       "</div>"
      ],
      "text/plain": [
       "             Wheat  Dollar    VIX\n",
       "Date                             \n",
       "2012-01-03  658.38   79.61  22.97\n",
       "2012-01-04  650.13   80.13  22.22\n",
       "2012-01-05  627.38   80.94  21.48"
      ]
     },
     "execution_count": 11,
     "metadata": {},
     "output_type": "execute_result"
    }
   ],
   "source": [
    "# Combine data into one dataframe\n",
    "combined_df = pd.concat([wheat_df,dollar_df,vix_df], axis=1, join='inner')\n",
    "combined_df.head(3)"
   ]
  },
  {
   "cell_type": "code",
   "execution_count": 12,
   "metadata": {},
   "outputs": [
    {
     "data": {
      "text/html": [
       "<div>\n",
       "<style scoped>\n",
       "    .dataframe tbody tr th:only-of-type {\n",
       "        vertical-align: middle;\n",
       "    }\n",
       "\n",
       "    .dataframe tbody tr th {\n",
       "        vertical-align: top;\n",
       "    }\n",
       "\n",
       "    .dataframe thead th {\n",
       "        text-align: right;\n",
       "    }\n",
       "</style>\n",
       "<table border=\"1\" class=\"dataframe\">\n",
       "  <thead>\n",
       "    <tr style=\"text-align: right;\">\n",
       "      <th></th>\n",
       "      <th>Wheat</th>\n",
       "      <th>Dollar</th>\n",
       "      <th>VIX</th>\n",
       "    </tr>\n",
       "    <tr>\n",
       "      <th>Date</th>\n",
       "      <th></th>\n",
       "      <th></th>\n",
       "      <th></th>\n",
       "    </tr>\n",
       "  </thead>\n",
       "  <tbody>\n",
       "    <tr>\n",
       "      <th>2012-01-04</th>\n",
       "      <td>-0.012531</td>\n",
       "      <td>0.006532</td>\n",
       "      <td>-0.032651</td>\n",
       "    </tr>\n",
       "    <tr>\n",
       "      <th>2012-01-05</th>\n",
       "      <td>-0.034993</td>\n",
       "      <td>0.010109</td>\n",
       "      <td>-0.033303</td>\n",
       "    </tr>\n",
       "    <tr>\n",
       "      <th>2012-01-06</th>\n",
       "      <td>-0.004383</td>\n",
       "      <td>0.003830</td>\n",
       "      <td>-0.039572</td>\n",
       "    </tr>\n",
       "  </tbody>\n",
       "</table>\n",
       "</div>"
      ],
      "text/plain": [
       "               Wheat    Dollar       VIX\n",
       "Date                                    \n",
       "2012-01-04 -0.012531  0.006532 -0.032651\n",
       "2012-01-05 -0.034993  0.010109 -0.033303\n",
       "2012-01-06 -0.004383  0.003830 -0.039572"
      ]
     },
     "execution_count": 12,
     "metadata": {},
     "output_type": "execute_result"
    }
   ],
   "source": [
    "# Compute daily returns\n",
    "returns_df = combined_df.pct_change().dropna()\n",
    "returns_df.head(3)"
   ]
  },
  {
   "cell_type": "code",
   "execution_count": 13,
   "metadata": {},
   "outputs": [
    {
     "data": {
      "image/png": "[encoded data removed]",
      "text/plain": [
       "<Figure size 432x288 with 2 Axes>"
      ]
     },
     "metadata": {
      "needs_background": "light"
     },
     "output_type": "display_data"
    }
   ],
   "source": [
    "# Show correlation matrix\n",
    "sns.heatmap(returns_df.corr(),cmap='viridis',annot=True);"
   ]
  }
 ],
 "metadata": {
  "kernelspec": {
   "display_name": "Python 3.9.6 64-bit",
   "language": "python",
   "name": "python3"
  },
  "language_info": {
   "codemirror_mode": {
    "name": "ipython",
    "version": 3
   },
   "file_extension": ".py",
   "mimetype": "text/x-python",
   "name": "python",
   "nbconvert_exporter": "python",
   "pygments_lexer": "ipython3",
   "version": "3.9.6"
  },
  "vscode": {
   "interpreter": {
    "hash": "034942d3e29ea42489df95acc6d13be7a81e6df24c9e330d5ffae4e0b93fa93e"
   }
  }
 },
 "nbformat": 4,
 "nbformat_minor": 2
}
