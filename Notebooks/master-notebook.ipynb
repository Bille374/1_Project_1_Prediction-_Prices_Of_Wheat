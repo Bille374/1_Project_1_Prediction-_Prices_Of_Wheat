{
 "cells": [
  {
   "cell_type": "code",
   "execution_count": null,
   "id": "002ee00b",
   "metadata": {},
   "outputs": [],
   "source": [
    "# Imports\n",
    "import investpy\n",
    "import pandas as pd\n",
    "import numpy as np\n",
    "import yfinance as yf\n",
    "import geopandas as gpd\n",
    "from keplergl import KeplerGl\n",
    "from pathlib import Path\n",
    "\n",
    "import seaborn as sns\n",
    "%matplotlib inline\n",
    "import matplotlib.pyplot as plt"
   ]
  },
  {
   "cell_type": "markdown",
   "id": "8671014e",
   "metadata": {},
   "source": [
    "# Import Wheat Data"
   ]
  },
  {
   "cell_type": "code",
   "execution_count": null,
   "id": "85a236b5",
   "metadata": {},
   "outputs": [],
   "source": [
    "wheat_df = investpy.get_commodity_historical_data(commodity = 'US Wheat',country = 'united states',\n",
    "                                                  from_date = '01/01/2012',to_date = '01/01/2022')\n",
    "wheat_df.head(5)"
   ]
  },
  {
   "cell_type": "markdown",
   "id": "93c93552",
   "metadata": {},
   "source": [
    "# Editing the Data to specify the Close price and giving the colum name a more specific name."
   ]
  },
  {
   "cell_type": "code",
   "execution_count": null,
   "id": "0748bb35",
   "metadata": {},
   "outputs": [],
   "source": [
    "wheat_df = wheat_df.drop(['Open','High','Low','Volume','Currency'], axis=1)\n",
    "wheat_df = wheat_df.rename(columns = {'Close': 'Wheat'})\n",
    "wheat_df.head(5)"
   ]
  },
  {
   "cell_type": "markdown",
   "id": "f110d522",
   "metadata": {},
   "source": [
    "# Import Crude Data"
   ]
  },
  {
   "cell_type": "code",
   "execution_count": null,
   "id": "2140429f",
   "metadata": {},
   "outputs": [],
   "source": [
    "crude_df = investpy.get_commodity_historical_data(commodity = 'Crude Oil WTI', country = 'united states',\n",
    "                                                  from_date = '01/01/2012',to_date = '01/01/2022')\n",
    "crude_df.head(5)"
   ]
  },
  {
   "cell_type": "markdown",
   "id": "ebc541bc",
   "metadata": {},
   "source": [
    "# Edit and clean data"
   ]
  },
  {
   "cell_type": "code",
   "execution_count": null,
   "id": "a558e79a",
   "metadata": {},
   "outputs": [],
   "source": [
    "crude_df = crude_df.drop(['Open','High','Low','Volume','Currency'],axis=1)\n",
    "crude_df = crude_df.rename(columns = {'Close': 'Crude'})\n",
    "crude_df.head(5)"
   ]
  },
  {
   "cell_type": "markdown",
   "id": "c85552d8",
   "metadata": {},
   "source": [
    "# Import Carbon futures data"
   ]
  },
  {
   "cell_type": "code",
   "execution_count": null,
   "id": "b2d3b889",
   "metadata": {
    "scrolled": false
   },
   "outputs": [],
   "source": [
    "carbon_df = pd.read_csv(\"../Data/Carbon Emissions Futures Historical Data.csv\")\n",
    "carbon_df.head(5)"
   ]
  },
  {
   "cell_type": "markdown",
   "id": "9cf1b411",
   "metadata": {},
   "source": [
    "# Edit Carbon data"
   ]
  },
  {
   "cell_type": "code",
   "execution_count": null,
   "id": "13cee28b",
   "metadata": {},
   "outputs": [],
   "source": [
    "carbon_df.reset_index()\n",
    "carbon_df.rename(columns={'Price':'Carbon Futures'})\n",
    "carbon_df['Date'] = pd.to_datetime(carbon_df.Date)\n",
    "carbon_df['Date'] = carbon_df['Date'].dt.strftime('%Y-%m-%d')\n",
    "\n",
    "carbon_df.head(5)\n"
   ]
  },
  {
   "cell_type": "code",
   "execution_count": null,
   "id": "79c79eb3",
   "metadata": {},
   "outputs": [],
   "source": [
    "carbon_df = carbon_df.set_index(\"Date\")\n",
    "carbon_df.head(5)"
   ]
  },
  {
   "cell_type": "code",
   "execution_count": null,
   "id": "c320a7c0",
   "metadata": {},
   "outputs": [],
   "source": [
    "crude_df = crude_df.rename(columns = {'Price': 'Carbon'})\n",
    "crude_df.head(5)"
   ]
  },
  {
   "cell_type": "code",
   "execution_count": null,
   "id": "e0a8f480",
   "metadata": {},
   "outputs": [],
   "source": [
    "crude_df.index = pd.to_datetime(crude_df.index, format = '%Y-%m-%d').strftime('%Y-%m-%d')\n",
    "carbon_df.index = pd.to_datetime(carbon_df.index, format = '%Y-%m-%d').strftime('%Y-%m-%d')\n",
    "wheat_df.index = pd.to_datetime(wheat_df.index, format = '%Y-%m-%d').strftime('%Y-%m-%d')"
   ]
  },
  {
   "cell_type": "code",
   "execution_count": null,
   "id": "db1558ac",
   "metadata": {},
   "outputs": [],
   "source": [
    "crudecarbon = pd.merge(crude_df,carbon_df,on=\"Date\", how='inner')\n",
    "crudecarbon = crudecarbon.drop(['Open','High','Low','Vol.','Change %'],axis=1)\n",
    "crudecarbon.rename(columns={'Price':'Carbon'}, inplace=True)\n",
    "crudecarbon"
   ]
  },
  {
   "cell_type": "code",
   "execution_count": null,
   "id": "26e17422",
   "metadata": {},
   "outputs": [],
   "source": [
    "wheatcrudecarbon = pd.merge(crudecarbon,wheat_df, on='Date',how='inner')\n",
    "wheatcrudecarbon"
   ]
  },
  {
   "cell_type": "code",
   "execution_count": null,
   "id": "2314de78",
   "metadata": {},
   "outputs": [],
   "source": [
    "wheatcrudecarbon.rename(columns={'Price':'Carbon'}, inplace=True)"
   ]
  },
  {
   "cell_type": "code",
   "execution_count": null,
   "id": "d3b42207",
   "metadata": {},
   "outputs": [],
   "source": [
    "returns = wheatcrudecarbon.dropna()\n",
    "returns.head(3)"
   ]
  },
  {
   "cell_type": "code",
   "execution_count": null,
   "id": "b5db593d",
   "metadata": {},
   "outputs": [],
   "source": [
    "# Show correlation matrix\n",
    "sns.heatmap(returns.corr(),cmap='viridis',annot=True,vmin=-1, vmax=1);"
   ]
  },
  {
   "cell_type": "markdown",
   "id": "fac7cbd6",
   "metadata": {},
   "source": [
    "# Import Wheat Data"
   ]
  },
  {
   "cell_type": "code",
   "execution_count": null,
   "id": "2b44a7a0",
   "metadata": {},
   "outputs": [],
   "source": [
    "# Get historical wheat price data from investpy\n",
    "wheat_df = pd.read_csv(\"../Data/wheat_df-Update.csv\",parse_dates=True,infer_datetime_format=True,index_col='Date')\n",
    "                    \n",
    "                      "
   ]
  },
  {
   "cell_type": "markdown",
   "id": "4a8bac3a",
   "metadata": {},
   "source": [
    "# Import Copper Data"
   ]
  },
  {
   "cell_type": "code",
   "execution_count": null,
   "id": "d99a0e53",
   "metadata": {},
   "outputs": [],
   "source": []
  },
  {
   "cell_type": "code",
   "execution_count": null,
   "id": "bf3c6620",
   "metadata": {},
   "outputs": [],
   "source": [
    "# Get historical copper price data from investpy\n",
    "copper_df =pd.read_csv(\"../Data/copper_df-Update.csv\",parse_dates=True,infer_datetime_format=True,index_col='Date')"
   ]
  },
  {
   "cell_type": "markdown",
   "id": "be4291a9",
   "metadata": {},
   "source": [
    "# Import Dollar_index Data"
   ]
  },
  {
   "cell_type": "code",
   "execution_count": null,
   "id": "9e0419aa",
   "metadata": {},
   "outputs": [],
   "source": [
    "# Get historical Dollar Index data from investpy\n",
    "dollar_df = pd.read_csv(\"../Data/dollar_df-Update.csv\",parse_dates=True,infer_datetime_format=True,index_col='Date')"
   ]
  },
  {
   "cell_type": "markdown",
   "id": "a4d7e097",
   "metadata": {},
   "source": [
    "# Import drought dataset"
   ]
  },
  {
   "cell_type": "code",
   "execution_count": null,
   "id": "168f3347",
   "metadata": {},
   "outputs": [],
   "source": [
    "#drought dataset\n",
    "drought_df = pd.read_csv(\"../Data/drought_df-Update.csv\",parse_dates=True,infer_datetime_format=True,index_col='Date')\n",
    "drought_df.drop(['Unnamed: 0.1','Unnamed: 0'],axis=1,inplace=True)"
   ]
  },
  {
   "cell_type": "markdown",
   "id": "7d1ac17a",
   "metadata": {},
   "source": [
    "# Import Urea dataset"
   ]
  },
  {
   "cell_type": "code",
   "execution_count": null,
   "id": "9ebdbce5",
   "metadata": {},
   "outputs": [],
   "source": [
    "# Urea dataset\n",
    "Urea_df = pd.read_csv(\"../Data/Urea_df-Update.csv\",parse_dates=True,infer_datetime_format=True,index_col='Date')"
   ]
  },
  {
   "cell_type": "code",
   "execution_count": null,
   "id": "52d5ea06",
   "metadata": {},
   "outputs": [],
   "source": [
    "# Combine data frames\n",
    "combined_df = pd.concat([dollar_df,copper_df,Urea_df,drought_df,wheat_df],axis=1,join='inner')"
   ]
  },
  {
   "cell_type": "code",
   "execution_count": null,
   "id": "9c3da6e1",
   "metadata": {},
   "outputs": [],
   "source": [
    "# Create correlation matrix\n",
    "correlations_df = combined_df.corr()\n",
    "correlations_df"
   ]
  },
  {
   "cell_type": "code",
   "execution_count": null,
   "id": "4934ead2",
   "metadata": {},
   "outputs": [],
   "source": [
    "# Show correlation matrix\n",
    "sns.heatmap(correlations_df,cmap='viridis',annot=True,vmin=-1,vmax=1);"
   ]
  },
  {
   "cell_type": "markdown",
   "id": "a86941e6",
   "metadata": {},
   "source": [
    "# Import Wheat Data"
   ]
  },
  {
   "cell_type": "code",
   "execution_count": null,
   "id": "71c6b56b",
   "metadata": {},
   "outputs": [],
   "source": [
    "# Get historical wheat price data from investpy\n",
    "wheat_df = pd.read_csv(\"../Data/wheat_df-Update.csv\",parse_dates=True,infer_datetime_format=True,\n",
    "                       index_col='Date')"
   ]
  },
  {
   "cell_type": "markdown",
   "id": "25351efe",
   "metadata": {},
   "source": [
    "# Import Crude Data"
   ]
  },
  {
   "cell_type": "code",
   "execution_count": null,
   "id": "99be3fca",
   "metadata": {},
   "outputs": [],
   "source": [
    "# Get historical crude oil price data from investpy\n",
    "crude_df = pd.read_csv(\"../Data/crude_df-Update.csv\",parse_dates=True,infer_datetime_format=True,\n",
    "                       index_col='Date')\n",
    "   "
   ]
  },
  {
   "cell_type": "markdown",
   "id": "c43f1e35",
   "metadata": {},
   "source": [
    "# Import Carbon futures data"
   ]
  },
  {
   "cell_type": "code",
   "execution_count": null,
   "id": "39327b5c",
   "metadata": {},
   "outputs": [],
   "source": [
    "# Get historical Carbon futures price data from investpy\n",
    "Carbon_df = pd.read_csv(\"../Data/Carbon_df-Update.csv\",parse_dates=True,infer_datetime_format=True,\n",
    "                       index_col='Date')"
   ]
  },
  {
   "cell_type": "markdown",
   "id": "1650cbb8",
   "metadata": {},
   "source": [
    "# Combine data frames"
   ]
  },
  {
   "cell_type": "code",
   "execution_count": null,
   "id": "5817040d",
   "metadata": {},
   "outputs": [],
   "source": [
    "combined_df_ = pd.concat([crude_df,Carbon_df,wheat_df],axis=1,join='inner')"
   ]
  },
  {
   "cell_type": "markdown",
   "id": "aef08394",
   "metadata": {},
   "source": [
    "# Create correlation matrix"
   ]
  },
  {
   "cell_type": "code",
   "execution_count": null,
   "id": "2c8e0f24",
   "metadata": {},
   "outputs": [],
   "source": [
    "correlations_df = combined_df_.corr()\n",
    "correlations_df"
   ]
  },
  {
   "cell_type": "code",
   "execution_count": null,
   "id": "e95709d6",
   "metadata": {},
   "outputs": [],
   "source": [
    "# Show correlation matrix\n",
    "sns.heatmap(correlations_df,cmap='viridis',annot=True,vmin=-1,vmax=1);"
   ]
  },
  {
   "cell_type": "code",
   "execution_count": null,
   "id": "b2c1dc90",
   "metadata": {},
   "outputs": [],
   "source": [
    "US = 'united states'\n",
    "START = '01/01/1992'\n",
    "END = '01/01/2022'"
   ]
  },
  {
   "cell_type": "code",
   "execution_count": null,
   "id": "d388569a",
   "metadata": {},
   "outputs": [],
   "source": [
    "# Get historical wheat price data from investpy\n",
    "wheat_df = investpy.get_commodity_historical_data(commodity = 'US Wheat',\n",
    "                                                  country = US,\n",
    "                                                  from_date = START,\n",
    "                                                  to_date = END)\n",
    "wheat_df.drop(['Open','High','Low','Volume','Currency'], axis=1, inplace=True)\n",
    "wheat_df.rename(columns = {'Close': 'Wheat'}, inplace=True)"
   ]
  },
  {
   "cell_type": "code",
   "execution_count": null,
   "id": "5dd6478f",
   "metadata": {},
   "outputs": [],
   "source": [
    "# Get historical Dollar Index data from investpy\n",
    "dx_df = investpy.get_index_historical_data(index = 'US Dollar Index',\n",
    "                                           country = US,\n",
    "                                           from_date = START,\n",
    "                                           to_date = END)\n",
    "dx_df.drop(['Open','High','Low','Volume','Currency'], axis=1, inplace=True)\n",
    "dx_df.rename(columns = {'Close': 'Dollar'}, inplace=True)"
   ]
  },
  {
   "cell_type": "code",
   "execution_count": null,
   "id": "3fa5460d",
   "metadata": {},
   "outputs": [],
   "source": [
    "# Get historical copper price data from investpy\n",
    "copper_df = investpy.get_commodity_historical_data(commodity = 'Copper',\n",
    "                                                   country = US,\n",
    "                                                   from_date = START,\n",
    "                                                   to_date = END)\n",
    "copper_df.drop(['Open','High','Low','Volume','Currency'], axis=1, inplace=True)\n",
    "copper_df.rename(columns = {'Close': 'Copper'}, inplace=True)"
   ]
  },
  {
   "cell_type": "code",
   "execution_count": null,
   "id": "47166c5c",
   "metadata": {},
   "outputs": [],
   "source": [
    "# Create function to convert string date to datetime object\n",
    "def convert_date_urea(date):\n",
    "    return pd.to_datetime(date[-4:] + date[:4].strip(), format='%Y%b')"
   ]
  },
  {
   "cell_type": "code",
   "execution_count": null,
   "id": "64987a38",
   "metadata": {},
   "outputs": [],
   "source": [
    "# Import urea (nitrogen fertilizer) price data\n",
    "urea_df = pd.read_html(\"https://www.indexmundi.com/commodities/?commodity=urea&months=360\")[1].drop(columns='Change', axis=0)"
   ]
  },
  {
   "cell_type": "code",
   "execution_count": null,
   "id": "2cf2e9a3",
   "metadata": {},
   "outputs": [],
   "source": [
    "# Apply date conversion and reset index\n",
    "urea_df.Month = urea_df.Month.apply(convert_date_urea)\n",
    "urea_df.set_index('Month', inplace=True)"
   ]
  },
  {
   "cell_type": "code",
   "execution_count": null,
   "id": "87e4afc4",
   "metadata": {},
   "outputs": [],
   "source": [
    "# Rename column\n",
    "urea_df.rename(columns = {'Price': 'Urea'}, inplace=True)"
   ]
  },
  {
   "cell_type": "code",
   "execution_count": null,
   "id": "db35c47d",
   "metadata": {},
   "outputs": [],
   "source": [
    "# Create function to convert string date to datetime object\n",
    "def convert_date_drought(date):\n",
    "    date = str(date)\n",
    "    return pd.to_datetime(date[:5] + date[5:], format='%Y%m')"
   ]
  },
  {
   "cell_type": "code",
   "execution_count": null,
   "id": "650aee0f",
   "metadata": {},
   "outputs": [],
   "source": [
    "# Import Palmer Drought Severity Index data for the Great Plains region\n",
    "drought_df = pd.read_csv('../Data/pdsi1992-2022.csv')"
   ]
  },
  {
   "cell_type": "code",
   "execution_count": null,
   "id": "5fb831ce",
   "metadata": {},
   "outputs": [],
   "source": [
    "# Apply date conversion and reset index\n",
    "drought_df.Date = drought_df.Date.apply(convert_date_drought)\n",
    "drought_df.set_index('Date', inplace=True)"
   ]
  },
  {
   "cell_type": "code",
   "execution_count": null,
   "id": "b890fff9",
   "metadata": {},
   "outputs": [],
   "source": [
    "# Drop and rename columns\n",
    "drought_df.drop(columns='Anomaly', axis=0, inplace=True)\n",
    "drought_df.rename(columns = {'Value': 'Drought'}, inplace=True)\n"
   ]
  },
  {
   "cell_type": "code",
   "execution_count": null,
   "id": "8749ab84",
   "metadata": {},
   "outputs": [],
   "source": [
    "# Combine data frames\n",
    "combined_df = pd.concat([dx_df,copper_df,urea_df,drought_df,wheat_df], axis=1, join='outer')"
   ]
  },
  {
   "cell_type": "code",
   "execution_count": null,
   "id": "4c11b694",
   "metadata": {},
   "outputs": [],
   "source": [
    "# Seperate out month and year from index\n",
    "combined_df['Month'] = combined_df.index.month\n",
    "combined_df['Year'] = combined_df.index.year\n"
   ]
  },
  {
   "cell_type": "code",
   "execution_count": null,
   "id": "239420a3",
   "metadata": {},
   "outputs": [],
   "source": [
    "# Fill nulls in Urea and Drought with monthly value and\n",
    "# compute monthly average for Wheat, Dollar, and Copper\n",
    "combined_df = combined_df.groupby(['Year','Month']).mean().dropna()\n",
    "combined_df"
   ]
  },
  {
   "cell_type": "code",
   "execution_count": null,
   "id": "05bc249c",
   "metadata": {},
   "outputs": [],
   "source": [
    "# Create correlation matrix\n",
    "correlations_df = combined_df.corr()\n",
    "correlations_df"
   ]
  },
  {
   "cell_type": "code",
   "execution_count": null,
   "id": "c6346bda",
   "metadata": {},
   "outputs": [],
   "source": [
    "# Create mask for correlation heatmap\n",
    "mask = np.triu(np.ones_like(correlations_df))\n",
    "np.fill_diagonal(mask, 0)"
   ]
  },
  {
   "cell_type": "code",
   "execution_count": null,
   "id": "6624ac35",
   "metadata": {},
   "outputs": [],
   "source": [
    "# Show correlation heatmap\n",
    "fig, ax = plt.subplots(figsize=(5, 4),dpi=200)\n",
    "sns.heatmap(correlations_df,cmap='RdBu',annot=True, vmin=-1, vmax=1, ax=ax, mask=mask)\n",
    "ax.set_title('Correlation Between Wheat Prices and Selected Factors\\n')\n",
    "plt.show()"
   ]
  },
  {
   "cell_type": "code",
   "execution_count": null,
   "id": "08bcfaca",
   "metadata": {},
   "outputs": [],
   "source": [
    "# Kraft stock data\n",
    "# Get historical wheat price data from investpy\n",
    "khc_df = investpy.get_stock_historical_data(stock = 'KHC',\n",
    "                                                  country = US,\n",
    "                                                  from_date = START,\n",
    "                                                  to_date = END)\n",
    "khc_df.drop(['Open','High','Low','Volume','Currency'], axis=1, inplace=True)\n",
    "khc_df.rename(columns = {'Close': 'KHC'}, inplace=True)"
   ]
  },
  {
   "cell_type": "code",
   "execution_count": null,
   "id": "035373e2",
   "metadata": {},
   "outputs": [],
   "source": [
    "# Show correlation heatmap\n",
    "fig, ax = plt.subplots(figsize=(5, 4),dpi=200)\n",
    "sns.lineplot(data=khc_df,ax=ax)\n",
    "ax.set_title('Kraft Heinz (KHC) Stock Price 2009-2022\\n')\n",
    "plt.show()"
   ]
  },
  {
   "cell_type": "code",
   "execution_count": 59,
   "id": "ec4aff9a",
   "metadata": {},
   "outputs": [
    {
     "ename": "NameError",
     "evalue": "name 'gpd' is not defined",
     "output_type": "error",
     "traceback": [
      "\u001b[1;31m---------------------------------------------------------------------------\u001b[0m",
      "\u001b[1;31mNameError\u001b[0m                                 Traceback (most recent call last)",
      "\u001b[1;32mc:\\Users\\enwjr\\Desktop\\NWU_BootCamp\\Project_1\\Notebooks\\Elliott_project_notebook_copy.ipynb Cell 65\u001b[0m in \u001b[0;36m<cell line: 1>\u001b[1;34m()\u001b[0m\n\u001b[1;32m----> <a href='vscode-notebook-cell:/c%3A/Users/enwjr/Desktop/NWU_BootCamp/Project_1/Notebooks/Elliott_project_notebook_copy.ipynb#ch0000142?line=0'>1</a>\u001b[0m countries \u001b[39m=\u001b[39m gpd\u001b[39m.\u001b[39mread_file(\u001b[39m\"\u001b[39m\u001b[39m../Data/countries.geojson\u001b[39m\u001b[39m\"\u001b[39m)\n\u001b[0;32m      <a href='vscode-notebook-cell:/c%3A/Users/enwjr/Desktop/NWU_BootCamp/Project_1/Notebooks/Elliott_project_notebook_copy.ipynb#ch0000142?line=1'>2</a>\u001b[0m countries[\u001b[39m\"\u001b[39m\u001b[39mCountry\u001b[39m\u001b[39m\"\u001b[39m] \u001b[39m=\u001b[39m countries[\u001b[39m\"\u001b[39m\u001b[39mADMIN\u001b[39m\u001b[39m\"\u001b[39m]\n",
      "\u001b[1;31mNameError\u001b[0m: name 'gpd' is not defined"
     ]
    }
   ],
   "source": [
    "countries = gpd.read_file(\"../Data/countries.geojson\")\n",
    "countries[\"Country\"] = countries[\"ADMIN\"]"
   ]
  },
  {
   "cell_type": "code",
   "execution_count": null,
   "id": "92020f51",
   "metadata": {},
   "outputs": [
    {
     "data": {
      "text/html": [
       "<div>\n",
       "<style scoped>\n",
       "    .dataframe tbody tr th:only-of-type {\n",
       "        vertical-align: middle;\n",
       "    }\n",
       "\n",
       "    .dataframe tbody tr th {\n",
       "        vertical-align: top;\n",
       "    }\n",
       "\n",
       "    .dataframe thead th {\n",
       "        text-align: right;\n",
       "    }\n",
       "</style>\n",
       "<table border=\"1\" class=\"dataframe\">\n",
       "  <thead>\n",
       "    <tr style=\"text-align: right;\">\n",
       "      <th></th>\n",
       "      <th>Country</th>\n",
       "      <th>USD_value_wheat_billion</th>\n",
       "      <th>pct_global_wheat_exports</th>\n",
       "    </tr>\n",
       "  </thead>\n",
       "  <tbody>\n",
       "    <tr>\n",
       "      <th>0</th>\n",
       "      <td>Russia</td>\n",
       "      <td>7.30</td>\n",
       "      <td>13.10%</td>\n",
       "    </tr>\n",
       "    <tr>\n",
       "      <th>1</th>\n",
       "      <td>United States</td>\n",
       "      <td>7.29</td>\n",
       "      <td>13.10%</td>\n",
       "    </tr>\n",
       "    <tr>\n",
       "      <th>2</th>\n",
       "      <td>Australia</td>\n",
       "      <td>7.20</td>\n",
       "      <td>13%</td>\n",
       "    </tr>\n",
       "    <tr>\n",
       "      <th>3</th>\n",
       "      <td>Canada</td>\n",
       "      <td>6.60</td>\n",
       "      <td>11.90%</td>\n",
       "    </tr>\n",
       "    <tr>\n",
       "      <th>4</th>\n",
       "      <td>Ukraine</td>\n",
       "      <td>4.70</td>\n",
       "      <td>8.50%</td>\n",
       "    </tr>\n",
       "  </tbody>\n",
       "</table>\n",
       "</div>"
      ],
      "text/plain": [
       "         Country  USD_value_wheat_billion pct_global_wheat_exports\n",
       "0         Russia                     7.30                   13.10%\n",
       "1  United States                     7.29                   13.10%\n",
       "2      Australia                     7.20                      13%\n",
       "3         Canada                     6.60                   11.90%\n",
       "4        Ukraine                     4.70                    8.50%"
      ]
     },
     "metadata": {},
     "output_type": "display_data"
    }
   ],
   "source": [
    "# Using the read_csv function and Path module, create a DataFrame \n",
    "wheat_exports = pd.read_csv(\n",
    "    Path('./Wheat_Exports.csv'))\n",
    "wheat_exports.head()"
   ]
  },
  {
   "cell_type": "code",
   "execution_count": null,
   "id": "990dcf70",
   "metadata": {},
   "outputs": [
    {
     "data": {
      "text/html": [
       "<div>\n",
       "<style scoped>\n",
       "    .dataframe tbody tr th:only-of-type {\n",
       "        vertical-align: middle;\n",
       "    }\n",
       "\n",
       "    .dataframe tbody tr th {\n",
       "        vertical-align: top;\n",
       "    }\n",
       "\n",
       "    .dataframe thead th {\n",
       "        text-align: right;\n",
       "    }\n",
       "</style>\n",
       "<table border=\"1\" class=\"dataframe\">\n",
       "  <thead>\n",
       "    <tr style=\"text-align: right;\">\n",
       "      <th></th>\n",
       "      <th>Rank</th>\n",
       "      <th>Country</th>\n",
       "      <th>Imports (1000 MT)</th>\n",
       "    </tr>\n",
       "  </thead>\n",
       "  <tbody>\n",
       "    <tr>\n",
       "      <th>0</th>\n",
       "      <td>1</td>\n",
       "      <td>Indonesia</td>\n",
       "      <td>11,200</td>\n",
       "    </tr>\n",
       "    <tr>\n",
       "      <th>1</th>\n",
       "      <td>2</td>\n",
       "      <td>Egypt</td>\n",
       "      <td>11,000</td>\n",
       "    </tr>\n",
       "    <tr>\n",
       "      <th>2</th>\n",
       "      <td>3</td>\n",
       "      <td>Turkey</td>\n",
       "      <td>10,000</td>\n",
       "    </tr>\n",
       "    <tr>\n",
       "      <th>3</th>\n",
       "      <td>4</td>\n",
       "      <td>China</td>\n",
       "      <td>9,500</td>\n",
       "    </tr>\n",
       "    <tr>\n",
       "      <th>4</th>\n",
       "      <td>5</td>\n",
       "      <td>Algeria</td>\n",
       "      <td>7,900</td>\n",
       "    </tr>\n",
       "  </tbody>\n",
       "</table>\n",
       "</div>"
      ],
      "text/plain": [
       "   Rank    Country Imports (1000 MT)\n",
       "0     1  Indonesia            11,200\n",
       "1     2      Egypt            11,000\n",
       "2     3     Turkey            10,000\n",
       "3     4      China             9,500\n",
       "4     5    Algeria             7,900"
      ]
     },
     "metadata": {},
     "output_type": "display_data"
    }
   ],
   "source": [
    "# Using the read_csv function and Path module, create a DataFrame \n",
    "wheat_imports = pd.read_csv(\n",
    "    Path('./Wheat_Imports.csv'))\n",
    "wheat_imports.head()"
   ]
  },
  {
   "cell_type": "code",
   "execution_count": null,
   "id": "c159dc8c",
   "metadata": {},
   "outputs": [
    {
     "data": {
      "text/html": [
       "<div>\n",
       "<style scoped>\n",
       "    .dataframe tbody tr th:only-of-type {\n",
       "        vertical-align: middle;\n",
       "    }\n",
       "\n",
       "    .dataframe tbody tr th {\n",
       "        vertical-align: top;\n",
       "    }\n",
       "\n",
       "    .dataframe thead th {\n",
       "        text-align: right;\n",
       "    }\n",
       "</style>\n",
       "<table border=\"1\" class=\"dataframe\">\n",
       "  <thead>\n",
       "    <tr style=\"text-align: right;\">\n",
       "      <th></th>\n",
       "      <th>ADMIN</th>\n",
       "      <th>ISO_A3</th>\n",
       "      <th>geometry</th>\n",
       "      <th>Country</th>\n",
       "      <th>Rank</th>\n",
       "      <th>Imports (1000 MT)</th>\n",
       "    </tr>\n",
       "  </thead>\n",
       "  <tbody>\n",
       "    <tr>\n",
       "      <th>0</th>\n",
       "      <td>Afghanistan</td>\n",
       "      <td>AFG</td>\n",
       "      <td>POLYGON ((71.04980 38.40866, 71.05714 38.40903...</td>\n",
       "      <td>Afghanistan</td>\n",
       "      <td>20</td>\n",
       "      <td>3,400</td>\n",
       "    </tr>\n",
       "    <tr>\n",
       "      <th>1</th>\n",
       "      <td>Angola</td>\n",
       "      <td>AGO</td>\n",
       "      <td>MULTIPOLYGON (((11.73752 -16.69258, 11.73851 -...</td>\n",
       "      <td>Angola</td>\n",
       "      <td>50</td>\n",
       "      <td>1,000</td>\n",
       "    </tr>\n",
       "    <tr>\n",
       "      <th>2</th>\n",
       "      <td>Albania</td>\n",
       "      <td>ALB</td>\n",
       "      <td>POLYGON ((19.74777 42.57890, 19.74601 42.57993...</td>\n",
       "      <td>Albania</td>\n",
       "      <td>89</td>\n",
       "      <td>300</td>\n",
       "    </tr>\n",
       "    <tr>\n",
       "      <th>3</th>\n",
       "      <td>United Arab Emirates</td>\n",
       "      <td>ARE</td>\n",
       "      <td>MULTIPOLYGON (((53.86305 24.23469, 53.88860 24...</td>\n",
       "      <td>United Arab Emirates</td>\n",
       "      <td>32</td>\n",
       "      <td>1,800</td>\n",
       "    </tr>\n",
       "    <tr>\n",
       "      <th>4</th>\n",
       "      <td>Argentina</td>\n",
       "      <td>ARG</td>\n",
       "      <td>MULTIPOLYGON (((-68.65412 -54.88624, -68.65414...</td>\n",
       "      <td>Argentina</td>\n",
       "      <td>125</td>\n",
       "      <td>5</td>\n",
       "    </tr>\n",
       "  </tbody>\n",
       "</table>\n",
       "</div>"
      ],
      "text/plain": [
       "                  ADMIN ISO_A3  \\\n",
       "0           Afghanistan    AFG   \n",
       "1                Angola    AGO   \n",
       "2               Albania    ALB   \n",
       "3  United Arab Emirates    ARE   \n",
       "4             Argentina    ARG   \n",
       "\n",
       "                                            geometry               Country  \\\n",
       "0  POLYGON ((71.04980 38.40866, 71.05714 38.40903...           Afghanistan   \n",
       "1  MULTIPOLYGON (((11.73752 -16.69258, 11.73851 -...                Angola   \n",
       "2  POLYGON ((19.74777 42.57890, 19.74601 42.57993...               Albania   \n",
       "3  MULTIPOLYGON (((53.86305 24.23469, 53.88860 24...  United Arab Emirates   \n",
       "4  MULTIPOLYGON (((-68.65412 -54.88624, -68.65414...             Argentina   \n",
       "\n",
       "   Rank Imports (1000 MT)  \n",
       "0    20             3,400  \n",
       "1    50             1,000  \n",
       "2    89               300  \n",
       "3    32             1,800  \n",
       "4   125                 5  "
      ]
     },
     "metadata": {},
     "output_type": "display_data"
    }
   ],
   "source": [
    "#wheat imports join/merge\n",
    "countries_w_wheat_imports = pd.merge(countries, wheat_imports, on='Country')\n",
    "countries_w_wheat_imports.head()"
   ]
  },
  {
   "cell_type": "code",
   "execution_count": null,
   "id": "59a02a4a",
   "metadata": {},
   "outputs": [
    {
     "data": {
      "text/html": [
       "<div>\n",
       "<style scoped>\n",
       "    .dataframe tbody tr th:only-of-type {\n",
       "        vertical-align: middle;\n",
       "    }\n",
       "\n",
       "    .dataframe tbody tr th {\n",
       "        vertical-align: top;\n",
       "    }\n",
       "\n",
       "    .dataframe thead th {\n",
       "        text-align: right;\n",
       "    }\n",
       "</style>\n",
       "<table border=\"1\" class=\"dataframe\">\n",
       "  <thead>\n",
       "    <tr style=\"text-align: right;\">\n",
       "      <th></th>\n",
       "      <th>ADMIN</th>\n",
       "      <th>ISO_A3</th>\n",
       "      <th>geometry</th>\n",
       "      <th>Country</th>\n",
       "      <th>USD_value_wheat_billion</th>\n",
       "      <th>pct_global_wheat_exports</th>\n",
       "    </tr>\n",
       "  </thead>\n",
       "  <tbody>\n",
       "    <tr>\n",
       "      <th>0</th>\n",
       "      <td>Argentina</td>\n",
       "      <td>ARG</td>\n",
       "      <td>MULTIPOLYGON (((-68.65412 -54.88624, -68.65414...</td>\n",
       "      <td>Argentina</td>\n",
       "      <td>3.0</td>\n",
       "      <td>5.30%</td>\n",
       "    </tr>\n",
       "    <tr>\n",
       "      <th>1</th>\n",
       "      <td>Australia</td>\n",
       "      <td>AUS</td>\n",
       "      <td>MULTIPOLYGON (((158.86573 -54.74993, 158.83823...</td>\n",
       "      <td>Australia</td>\n",
       "      <td>7.2</td>\n",
       "      <td>13%</td>\n",
       "    </tr>\n",
       "    <tr>\n",
       "      <th>2</th>\n",
       "      <td>Bulgaria</td>\n",
       "      <td>BGR</td>\n",
       "      <td>POLYGON ((22.91956 43.83422, 23.05255 43.84282...</td>\n",
       "      <td>Bulgaria</td>\n",
       "      <td>1.4</td>\n",
       "      <td>2.50%</td>\n",
       "    </tr>\n",
       "    <tr>\n",
       "      <th>3</th>\n",
       "      <td>Canada</td>\n",
       "      <td>CAN</td>\n",
       "      <td>MULTIPOLYGON (((-65.61059 43.42817, -65.62881 ...</td>\n",
       "      <td>Canada</td>\n",
       "      <td>6.6</td>\n",
       "      <td>11.90%</td>\n",
       "    </tr>\n",
       "    <tr>\n",
       "      <th>4</th>\n",
       "      <td>Germany</td>\n",
       "      <td>DEU</td>\n",
       "      <td>MULTIPOLYGON (((6.74220 53.57836, 6.74952 53.5...</td>\n",
       "      <td>Germany</td>\n",
       "      <td>2.0</td>\n",
       "      <td>3.60%</td>\n",
       "    </tr>\n",
       "  </tbody>\n",
       "</table>\n",
       "</div>"
      ],
      "text/plain": [
       "       ADMIN ISO_A3                                           geometry  \\\n",
       "0  Argentina    ARG  MULTIPOLYGON (((-68.65412 -54.88624, -68.65414...   \n",
       "1  Australia    AUS  MULTIPOLYGON (((158.86573 -54.74993, 158.83823...   \n",
       "2   Bulgaria    BGR  POLYGON ((22.91956 43.83422, 23.05255 43.84282...   \n",
       "3     Canada    CAN  MULTIPOLYGON (((-65.61059 43.42817, -65.62881 ...   \n",
       "4    Germany    DEU  MULTIPOLYGON (((6.74220 53.57836, 6.74952 53.5...   \n",
       "\n",
       "     Country  USD_value_wheat_billion pct_global_wheat_exports  \n",
       "0  Argentina                      3.0                    5.30%  \n",
       "1  Australia                      7.2                      13%  \n",
       "2   Bulgaria                      1.4                    2.50%  \n",
       "3     Canada                      6.6                   11.90%  \n",
       "4    Germany                      2.0                    3.60%  "
      ]
     },
     "metadata": {},
     "output_type": "display_data"
    }
   ],
   "source": [
    "#wheat exports join/merge\n",
    "countries_w_wheat_exports = pd.merge(countries, wheat_exports, on='Country')\n",
    "countries_w_wheat_exports.head()"
   ]
  },
  {
   "cell_type": "markdown",
   "id": "d69be3f8",
   "metadata": {},
   "source": [
    "## Wheat Imports Visualization"
   ]
  },
  {
   "cell_type": "code",
   "execution_count": null,
   "id": "a2666e6e",
   "metadata": {},
   "outputs": [],
   "source": []
  },
  {
   "cell_type": "code",
   "execution_count": null,
   "id": "c567c7f8",
   "metadata": {},
   "outputs": [
    {
     "name": "stdout",
     "output_type": "stream",
     "text": [
      "User Guide: https://docs.kepler.gl/docs/keplergl-jupyter\n"
     ]
    }
   ],
   "source": [
    "wheat_imports_map = KeplerGl()\n",
    "wheat_imports_map.add_data(data=countries_w_wheat_imports, name=\"wheat_imports\")"
   ]
  },
  {
   "cell_type": "code",
   "execution_count": null,
   "id": "721f6274",
   "metadata": {},
   "outputs": [],
   "source": [
    "wheat_imports_map.show()"
   ]
  },
  {
   "cell_type": "code",
   "execution_count": null,
   "id": "bf56105a",
   "metadata": {},
   "outputs": [
    {
     "data": {
      "text/plain": [
       "{}"
      ]
     },
     "metadata": {},
     "output_type": "display_data"
    }
   ],
   "source": [
    "wheat_imports_map.config"
   ]
  },
  {
   "cell_type": "markdown",
   "id": "1a4daf47",
   "metadata": {},
   "source": [
    "## Wheat Exports Visualization"
   ]
  },
  {
   "cell_type": "code",
   "execution_count": null,
   "id": "5ec79c87",
   "metadata": {},
   "outputs": [
    {
     "name": "stdout",
     "output_type": "stream",
     "text": [
      "User Guide: https://docs.kepler.gl/docs/keplergl-jupyter\n"
     ]
    }
   ],
   "source": [
    "wheat_exports_map = KeplerGl()\n",
    "wheat_exports_map.add_data(data=countries_w_wheat_exports, name=\"wheat_exports\")"
   ]
  },
  {
   "cell_type": "code",
   "execution_count": null,
   "id": "e06bc1c2",
   "metadata": {},
   "outputs": [],
   "source": [
    "wheat_exports_map.show()"
   ]
  },
  {
   "cell_type": "code",
   "execution_count": null,
   "id": "ff42bbbf",
   "metadata": {},
   "outputs": [],
   "source": []
  },
  {
   "cell_type": "code",
   "execution_count": null,
   "id": "f5e709b6",
   "metadata": {},
   "outputs": [],
   "source": []
  },
  {
   "cell_type": "code",
   "execution_count": null,
   "id": "6b738718",
   "metadata": {},
   "outputs": [],
   "source": []
  },
  {
   "cell_type": "code",
   "execution_count": null,
   "id": "30a0687b",
   "metadata": {},
   "outputs": [],
   "source": []
  }
 ],
 "metadata": {
  "kernelspec": {
   "display_name": "Python 3.9.12 ('dev')",
   "language": "python",
   "name": "python3"
  },
  "language_info": {
   "codemirror_mode": {
    "name": "ipython",
    "version": 3
   },
   "file_extension": ".py",
   "mimetype": "text/x-python",
   "name": "python",
   "nbconvert_exporter": "python",
   "pygments_lexer": "ipython3",
   "version": "3.9.12"
  },
  "vscode": {
   "interpreter": {
    "hash": "5add72db037f77d205d6f0032d9517b049bed820be385f865b412f05a8424ad8"
   }
  }
 },
 "nbformat": 4,
 "nbformat_minor": 5
}
